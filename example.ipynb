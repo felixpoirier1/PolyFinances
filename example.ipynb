{
 "cells": [
  {
   "cell_type": "markdown",
   "metadata": {},
   "source": [
    "# Exemple to get started!\n"
   ]
  },
  {
   "cell_type": "code",
   "execution_count": 3,
   "metadata": {},
   "outputs": [
    {
     "name": "stderr",
     "output_type": "stream",
     "text": [
      "[nltk_data] Downloading package punkt to\n",
      "[nltk_data]     C:\\Users\\pc\\AppData\\Roaming\\nltk_data...\n",
      "[nltk_data]   Package punkt is already up-to-date!\n",
      "C:\\Users\\pc\\AppData\\Local\\Temp\\ipykernel_28492\\3519494308.py:15: MatplotlibDeprecationWarning: The seaborn styles shipped by Matplotlib are deprecated since 3.6, as they no longer correspond to the styles shipped by seaborn. However, they will remain available as 'seaborn-v0_8-<style>'. Alternatively, directly use the seaborn API instead.\n",
      "  plt.style.use('seaborn-whitegrid')\n"
     ]
    }
   ],
   "source": [
    "import numpy as np\n",
    "import pandas as pd\n",
    "import matplotlib.pyplot as plt\n",
    "\n",
    "from datetime import datetime\n",
    "import os\n",
    "import pickle\n",
    "import codecs\n",
    "import re\n",
    "from tqdm import tqdm_notebook as tqdm\n",
    "\n",
    "#For tokenizing sentences\n",
    "import nltk\n",
    "nltk.download('punkt')\n",
    "plt.style.use('seaborn-whitegrid')\n",
    "\n",
    "# Cte\n",
    "BASE_PATH = \"data/\""
   ]
  },
  {
   "cell_type": "markdown",
   "metadata": {},
   "source": [
    "### Reading the data"
   ]
  },
  {
   "cell_type": "code",
   "execution_count": 14,
   "metadata": {},
   "outputs": [
    {
     "data": {
      "text/html": [
       "<div>\n",
       "<style scoped>\n",
       "    .dataframe tbody tr th:only-of-type {\n",
       "        vertical-align: middle;\n",
       "    }\n",
       "\n",
       "    .dataframe tbody tr th {\n",
       "        vertical-align: top;\n",
       "    }\n",
       "\n",
       "    .dataframe thead th {\n",
       "        text-align: right;\n",
       "    }\n",
       "</style>\n",
       "<table border=\"1\" class=\"dataframe\">\n",
       "  <thead>\n",
       "    <tr style=\"text-align: right;\">\n",
       "      <th></th>\n",
       "      <th>Unnamed: 0</th>\n",
       "      <th>date</th>\n",
       "      <th>contents</th>\n",
       "      <th>speaker</th>\n",
       "      <th>title</th>\n",
       "    </tr>\n",
       "  </thead>\n",
       "  <tbody>\n",
       "    <tr>\n",
       "      <th>0</th>\n",
       "      <td>0</td>\n",
       "      <td>1994-02-04</td>\n",
       "      <td>\\n\\n[SECTION]\\n\\nChairman Alan Greenspan annou...</td>\n",
       "      <td>Alan Greenspan</td>\n",
       "      <td>FOMC Statement</td>\n",
       "    </tr>\n",
       "    <tr>\n",
       "      <th>1</th>\n",
       "      <td>1</td>\n",
       "      <td>1994-03-22</td>\n",
       "      <td>\\n\\n[SECTION]\\n\\nChairman Alan Greenspan annou...</td>\n",
       "      <td>Alan Greenspan</td>\n",
       "      <td>FOMC Statement</td>\n",
       "    </tr>\n",
       "    <tr>\n",
       "      <th>2</th>\n",
       "      <td>2</td>\n",
       "      <td>1994-04-18</td>\n",
       "      <td>\\n\\n[SECTION]\\n\\nChairman Alan Greenspan annou...</td>\n",
       "      <td>Alan Greenspan</td>\n",
       "      <td>FOMC Statement</td>\n",
       "    </tr>\n",
       "    <tr>\n",
       "      <th>3</th>\n",
       "      <td>3</td>\n",
       "      <td>1994-05-17</td>\n",
       "      <td>\\n\\n[SECTION]\\n\\nThe Federal Reserve today ann...</td>\n",
       "      <td>Alan Greenspan</td>\n",
       "      <td>FOMC Statement</td>\n",
       "    </tr>\n",
       "    <tr>\n",
       "      <th>4</th>\n",
       "      <td>4</td>\n",
       "      <td>1994-08-16</td>\n",
       "      <td>\\n\\n[SECTION]\\n\\nThe Federal Reserve announced...</td>\n",
       "      <td>Alan Greenspan</td>\n",
       "      <td>FOMC Statement</td>\n",
       "    </tr>\n",
       "    <tr>\n",
       "      <th>...</th>\n",
       "      <td>...</td>\n",
       "      <td>...</td>\n",
       "      <td>...</td>\n",
       "      <td>...</td>\n",
       "      <td>...</td>\n",
       "    </tr>\n",
       "    <tr>\n",
       "      <th>196</th>\n",
       "      <td>196</td>\n",
       "      <td>2022-05-04</td>\n",
       "      <td>The Federal Reserve, the central bank of the U...</td>\n",
       "      <td>other</td>\n",
       "      <td>FOMC Statement</td>\n",
       "    </tr>\n",
       "    <tr>\n",
       "      <th>197</th>\n",
       "      <td>197</td>\n",
       "      <td>2022-06-15</td>\n",
       "      <td>The Federal Reserve, the central bank of the U...</td>\n",
       "      <td>other</td>\n",
       "      <td>FOMC Statement</td>\n",
       "    </tr>\n",
       "    <tr>\n",
       "      <th>198</th>\n",
       "      <td>198</td>\n",
       "      <td>2022-07-27</td>\n",
       "      <td>The Federal Reserve, the central bank of the U...</td>\n",
       "      <td>other</td>\n",
       "      <td>FOMC Statement</td>\n",
       "    </tr>\n",
       "    <tr>\n",
       "      <th>199</th>\n",
       "      <td>199</td>\n",
       "      <td>2022-09-21</td>\n",
       "      <td>The Federal Reserve, the central bank of the U...</td>\n",
       "      <td>other</td>\n",
       "      <td>FOMC Statement</td>\n",
       "    </tr>\n",
       "    <tr>\n",
       "      <th>200</th>\n",
       "      <td>200</td>\n",
       "      <td>2022-11-02</td>\n",
       "      <td>The Federal Reserve, the central bank of the U...</td>\n",
       "      <td>other</td>\n",
       "      <td>FOMC Statement</td>\n",
       "    </tr>\n",
       "  </tbody>\n",
       "</table>\n",
       "<p>201 rows × 5 columns</p>\n",
       "</div>"
      ],
      "text/plain": [
       "     Unnamed: 0        date  \\\n",
       "0             0  1994-02-04   \n",
       "1             1  1994-03-22   \n",
       "2             2  1994-04-18   \n",
       "3             3  1994-05-17   \n",
       "4             4  1994-08-16   \n",
       "..          ...         ...   \n",
       "196         196  2022-05-04   \n",
       "197         197  2022-06-15   \n",
       "198         198  2022-07-27   \n",
       "199         199  2022-09-21   \n",
       "200         200  2022-11-02   \n",
       "\n",
       "                                              contents         speaker  \\\n",
       "0    \\n\\n[SECTION]\\n\\nChairman Alan Greenspan annou...  Alan Greenspan   \n",
       "1    \\n\\n[SECTION]\\n\\nChairman Alan Greenspan annou...  Alan Greenspan   \n",
       "2    \\n\\n[SECTION]\\n\\nChairman Alan Greenspan annou...  Alan Greenspan   \n",
       "3    \\n\\n[SECTION]\\n\\nThe Federal Reserve today ann...  Alan Greenspan   \n",
       "4    \\n\\n[SECTION]\\n\\nThe Federal Reserve announced...  Alan Greenspan   \n",
       "..                                                 ...             ...   \n",
       "196  The Federal Reserve, the central bank of the U...           other   \n",
       "197  The Federal Reserve, the central bank of the U...           other   \n",
       "198  The Federal Reserve, the central bank of the U...           other   \n",
       "199  The Federal Reserve, the central bank of the U...           other   \n",
       "200  The Federal Reserve, the central bank of the U...           other   \n",
       "\n",
       "              title  \n",
       "0    FOMC Statement  \n",
       "1    FOMC Statement  \n",
       "2    FOMC Statement  \n",
       "3    FOMC Statement  \n",
       "4    FOMC Statement  \n",
       "..              ...  \n",
       "196  FOMC Statement  \n",
       "197  FOMC Statement  \n",
       "198  FOMC Statement  \n",
       "199  FOMC Statement  \n",
       "200  FOMC Statement  \n",
       "\n",
       "[201 rows x 5 columns]"
      ]
     },
     "execution_count": 14,
     "metadata": {},
     "output_type": "execute_result"
    }
   ],
   "source": [
    "statements_df = pd.read_csv(f\"{BASE_PATH}dataset/FOMC/statement.csv\")\n",
    "statements_df"
   ]
  },
  {
   "cell_type": "markdown",
   "metadata": {},
   "source": [
    "Preprocess the data ..."
   ]
  },
  {
   "cell_type": "code",
   "execution_count": 15,
   "metadata": {},
   "outputs": [
    {
     "data": {
      "text/plain": [
       "1005"
      ]
     },
     "execution_count": 15,
     "metadata": {},
     "output_type": "execute_result"
    }
   ],
   "source": [
    "# Text clean up\n",
    "statements_df['text'] = statements_df['contents'].apply(lambda x: x.replace('\\n\\n[SECTION]\\n\\n', '').replace('\\n', ' ').replace('\\r', ' ').strip())\n",
    "statements_df.drop(columns=['title'], axis=1, inplace=True)\n",
    "\n",
    "statements_df.size"
   ]
  },
  {
   "cell_type": "code",
   "execution_count": 16,
   "metadata": {
    "scrolled": false
   },
   "outputs": [
    {
     "name": "stdout",
     "output_type": "stream",
     "text": [
      "Date:  2008-08-05 00:00:00\n",
      "Speaker:  Ben Bernanke\n",
      "Text: \n",
      "\n",
      " ysis\n",
      "\n",
      "Consumer Resources\n",
      "\n",
      "August 05, 2008\n",
      "\n",
      "For immediate release                     \n",
      "                \n",
      "                \n",
      "\n",
      "Share\n",
      "\n",
      "The Federal Open Market Committee decided today to keep its target for the federal funds rate at 2 percent.\n",
      "\n",
      "Economic activity expanded in the second quarter, partly reflecting growth in consumer spending and exports. However, labor markets have softened further and financial markets remain under considerable stress. Tight credit conditions, the ongoing housing contraction, and elevated energy prices are likely to weigh on economic growth over the next few quarters. Over time, the substantial easing of monetary policy, combined with ongoing measures to foster market liquidity, should help to promote moderate economic growth.\n",
      "\n",
      "Inflation has been high, spurred by the earlier increases in the prices of energy and some other commodities, and some indicators of inflation expectations have been elevated. The Committee expects inflation to moderate later this year and next year, but the inflation outlook remains highly uncertain.\n",
      "\n",
      "Although downside risks to growth remain, the upside risks to inflation are also of significant concern to the Committee. The Committee will continue to monitor economic and financial developments and will act as needed to promote sustainable economic growth and price stability.\n",
      "\n",
      "Voting for the FOMC monetary policy action were: Ben S. Bernanke, Chairman; Timothy F. Geithner, Vice Chairman; Elizabeth A. Duke; Donald L. Kohn; Randall S. Kroszner; Frederic S. Mishkin; Sandra Pianalto; Charles I. Plosser; Gary H. Stern; and Kevin M. Warsh. Voting against was Richard W. Fisher, who preferred an increase in the target for the federal funds rate at this meeting.\n",
      "\n",
      "Board of Governors of the Federal Reserve System\n",
      "\n",
      "20th Street and Constitution Avenue N.W., Washington, DC 20551\n"
     ]
    }
   ],
   "source": [
    "pos = 95\n",
    "print('Date: ', datetime.strptime(statements_df.iloc[pos]['date'], '%Y-%m-%d'))\n",
    "print('Speaker: ', statements_df.iloc[pos]['speaker'])\n",
    "print('Text: \\n\\n', statements_df.iloc[pos]['contents'].replace('\\n[SECTION]\\n', '')[1192:])"
   ]
  },
  {
   "cell_type": "markdown",
   "metadata": {},
   "source": [
    "# Divide the data into a training set and a test set before continuing the analysis."
   ]
  },
  {
   "cell_type": "code",
   "execution_count": 17,
   "metadata": {},
   "outputs": [],
   "source": [
    "# from utils.Split import split_and_save\n",
    "\n",
    "# statements_df, statements_df_test = split_and_save(statements_df, date_split='2022-05-01', filename_prefix='statement', output_path='')\n",
    "\n",
    "currency = "
   ]
  },
  {
   "cell_type": "markdown",
   "metadata": {},
   "source": [
    "# Now let's extract a basic textual analysis of the statements."
   ]
  },
  {
   "cell_type": "markdown",
   "metadata": {},
   "source": [
    "### Creating a Financial Dictionary based on Loughran and McDonald"
   ]
  },
  {
   "cell_type": "code",
   "execution_count": 18,
   "metadata": {},
   "outputs": [
    {
     "name": "stdout",
     "output_type": "stream",
     "text": [
      "\n",
      " ...Loading Master Dictionary 85,000\n",
      "Master Dictionary loaded from file:\n",
      "  data/dataset/dictionnaries/LoughranMcDonald/Loughran-McDonald_MasterDictionary_1993-2021.csv\n",
      "\n",
      "  master_dictionary has 86,531 words.\n",
      "\n"
     ]
    }
   ],
   "source": [
    "from utils.MasterDictionary import load_masterdictionary\n",
    "\n",
    "lm_dict_path = (f'{BASE_PATH}dataset/dictionnaries/LoughranMcDonald/Loughran-McDonald_MasterDictionary_1993-2021.csv')\n",
    "master_dictionaries, md_header, sentiment_categories, sentiment_dictionaries, stopwords, total_documents = \\\n",
    "    load_masterdictionary(lm_dict_path, True, None, True)"
   ]
  },
  {
   "cell_type": "code",
   "execution_count": 19,
   "metadata": {},
   "outputs": [
    {
     "name": "stdout",
     "output_type": "stream",
     "text": [
      "Number of positive word: 354\n",
      "Number of negative word: 2355\n"
     ]
    }
   ],
   "source": [
    "import re\n",
    "\n",
    "lmdict = {'Negative': [word.lower() for word in master_dictionaries.keys() if master_dictionaries[word].negative], \n",
    "          'Positive': [word.lower() for word in master_dictionaries.keys() if master_dictionaries[word].positive]}\n",
    "\n",
    "negate = [\"aint\", \"arent\", \"cannot\", \"cant\", \"couldnt\", \"darent\", \"didnt\", \"doesnt\", \"ain't\", \"aren't\", \"can't\",\n",
    "          \"couldn't\", \"daren't\", \"didn't\", \"doesn't\", \"dont\", \"hadnt\", \"hasnt\", \"havent\", \"isnt\", \"mightnt\", \"mustnt\",\n",
    "          \"neither\", \"don't\", \"hadn't\", \"hasn't\", \"haven't\", \"isn't\", \"mightn't\", \"mustn't\", \"neednt\", \"needn't\",\n",
    "          \"never\", \"none\", \"nope\", \"nor\", \"not\", \"nothing\", \"nowhere\", \"oughtnt\", \"shant\", \"shouldnt\", \"wasnt\",\n",
    "          \"werent\", \"oughtn't\", \"shan't\", \"shouldn't\", \"wasn't\", \"weren't\", \"without\", \"wont\", \"wouldnt\", \"won't\",\n",
    "          \"wouldn't\", \"rarely\", \"seldom\", \"despite\", \"no\", \"nobody\"]\n",
    "\n",
    "print(f\"Number of positive word: {len(lmdict['Positive'])}\")\n",
    "print(f\"Number of negative word: {len(lmdict['Negative'])}\")"
   ]
  },
  {
   "cell_type": "code",
   "execution_count": 20,
   "metadata": {},
   "outputs": [],
   "source": [
    "def negated(word):\n",
    "    \"\"\"\n",
    "    Determine if preceding word is a negation word\n",
    "    \"\"\"\n",
    "    if word.lower() in negate:\n",
    "        return True\n",
    "    else:\n",
    "        return False"
   ]
  },
  {
   "cell_type": "code",
   "execution_count": 28,
   "metadata": {},
   "outputs": [],
   "source": [
    "def tone_count_with_negation_check(dict, article):\n",
    "    \"\"\"\n",
    "    Count positive and negative words with negation check. Account for simple negation only for positive words.\n",
    "    Simple negation is taken to be observations of one of negate words occurring within three words\n",
    "    preceding a positive words.\n",
    "    \"\"\"\n",
    "    pos_count = 0\n",
    "    neg_count = 0\n",
    " \n",
    "    pos_words = []\n",
    "    neg_words = []\n",
    " \n",
    "    input_words = re.findall(r'\\b([a-zA-Z]+n\\'t|[a-zA-Z]+\\'s|[a-zA-Z]+)\\b', article.lower())\n",
    " \n",
    "    word_count = len(input_words)\n",
    " \n",
    "    for i in range(0, word_count):\n",
    "        if input_words[i] in dict['Negative']:\n",
    "            neg_count += 1\n",
    "            neg_words.append(input_words[i])\n",
    "        if input_words[i] in dict['Positive']:\n",
    "            if i >= 3:\n",
    "                if negated(input_words[i - 1]) or negated(input_words[i - 2]) or negated(input_words[i - 3]):\n",
    "                    neg_count += 1\n",
    "                    neg_words.append(input_words[i] + ' (with negation)')\n",
    "                else:\n",
    "                    pos_count += 1\n",
    "                    pos_words.append(input_words[i])\n",
    "            elif i == 2:\n",
    "                if negated(input_words[i - 1]) or negated(input_words[i - 2]):\n",
    "                    neg_count += 1\n",
    "                    neg_words.append(input_words[i] + ' (with negation)')\n",
    "                else:\n",
    "                    pos_count += 1\n",
    "                    pos_words.append(input_words[i])\n",
    "            elif i == 1:\n",
    "                if negated(input_words[i - 1]):\n",
    "                    neg_count += 1\n",
    "                    neg_words.append(input_words[i] + ' (with negation)')\n",
    "                else:\n",
    "                    pos_count += 1\n",
    "                    pos_words.append(input_words[i])\n",
    "            elif i == 0:\n",
    "                pos_count += 1\n",
    "                pos_words.append(input_words[i])\n",
    " \n",
    "    results = [word_count, pos_count, neg_count, pos_words, neg_words]\n",
    " \n",
    "    return results"
   ]
  },
  {
   "cell_type": "code",
   "execution_count": 29,
   "metadata": {},
   "outputs": [
    {
     "name": "stdout",
     "output_type": "stream",
     "text": [
      "196\n"
     ]
    }
   ],
   "source": [
    "Data = statements_df\n",
    "print(len(Data))\n",
    "temp = [tone_count_with_negation_check(lmdict,x) for x in Data.text]\n",
    "temp = pd.DataFrame(temp)\n",
    "\n",
    "Data['wordcount'] = temp.iloc[:,0].values\n",
    "Data['NPositiveWords'] = temp.iloc[:,1].values\n",
    "Data['NNegativeWords'] = temp.iloc[:,2].values\n",
    "\n",
    "#Sentiment Score normalized by the number of words\n",
    "Data['sentiment'] = (Data['NPositiveWords'] - Data['NNegativeWords']) / Data['wordcount'] * 100\n",
    "\n",
    "Data['Poswords'] = temp.iloc[:,3].values\n",
    "Data['Negwords'] = temp.iloc[:,4].values\n"
   ]
  },
  {
   "cell_type": "code",
   "execution_count": 30,
   "metadata": {},
   "outputs": [
    {
     "data": {
      "text/html": [
       "<div>\n",
       "<style scoped>\n",
       "    .dataframe tbody tr th:only-of-type {\n",
       "        vertical-align: middle;\n",
       "    }\n",
       "\n",
       "    .dataframe tbody tr th {\n",
       "        vertical-align: top;\n",
       "    }\n",
       "\n",
       "    .dataframe thead th {\n",
       "        text-align: right;\n",
       "    }\n",
       "</style>\n",
       "<table border=\"1\" class=\"dataframe\">\n",
       "  <thead>\n",
       "    <tr style=\"text-align: right;\">\n",
       "      <th></th>\n",
       "      <th>0</th>\n",
       "      <th>1</th>\n",
       "      <th>2</th>\n",
       "      <th>3</th>\n",
       "      <th>4</th>\n",
       "    </tr>\n",
       "  </thead>\n",
       "  <tbody>\n",
       "    <tr>\n",
       "      <th>191</th>\n",
       "      <td>621</td>\n",
       "      <td>18</td>\n",
       "      <td>6</td>\n",
       "      <td>[stable, stability, stability, stability, prog...</td>\n",
       "      <td>[challenging, adversely, slowed, crisis, persi...</td>\n",
       "    </tr>\n",
       "    <tr>\n",
       "      <th>192</th>\n",
       "      <td>727</td>\n",
       "      <td>16</td>\n",
       "      <td>7</td>\n",
       "      <td>[stable, stability, stability, stability, prog...</td>\n",
       "      <td>[challenging, adversely, slowed, imbalances, e...</td>\n",
       "    </tr>\n",
       "    <tr>\n",
       "      <th>193</th>\n",
       "      <td>638</td>\n",
       "      <td>15</td>\n",
       "      <td>7</td>\n",
       "      <td>[stable, stability, stability, stability, prog...</td>\n",
       "      <td>[challenging, adversely, unemployment, decline...</td>\n",
       "    </tr>\n",
       "    <tr>\n",
       "      <th>194</th>\n",
       "      <td>547</td>\n",
       "      <td>12</td>\n",
       "      <td>6</td>\n",
       "      <td>[stable, stability, stability, strengthen, imp...</td>\n",
       "      <td>[adversely, unemployment, declined, imbalances...</td>\n",
       "    </tr>\n",
       "    <tr>\n",
       "      <th>195</th>\n",
       "      <td>465</td>\n",
       "      <td>10</td>\n",
       "      <td>6</td>\n",
       "      <td>[stable, stability, stability, strengthen, gai...</td>\n",
       "      <td>[unemployment, declined, imbalances, hardship,...</td>\n",
       "    </tr>\n",
       "  </tbody>\n",
       "</table>\n",
       "</div>"
      ],
      "text/plain": [
       "       0   1  2                                                  3  \\\n",
       "191  621  18  6  [stable, stability, stability, stability, prog...   \n",
       "192  727  16  7  [stable, stability, stability, stability, prog...   \n",
       "193  638  15  7  [stable, stability, stability, stability, prog...   \n",
       "194  547  12  6  [stable, stability, stability, strengthen, imp...   \n",
       "195  465  10  6  [stable, stability, stability, strengthen, gai...   \n",
       "\n",
       "                                                     4  \n",
       "191  [challenging, adversely, slowed, crisis, persi...  \n",
       "192  [challenging, adversely, slowed, imbalances, e...  \n",
       "193  [challenging, adversely, unemployment, decline...  \n",
       "194  [adversely, unemployment, declined, imbalances...  \n",
       "195  [unemployment, declined, imbalances, hardship,...  "
      ]
     },
     "execution_count": 30,
     "metadata": {},
     "output_type": "execute_result"
    }
   ],
   "source": [
    "temp.tail()"
   ]
  },
  {
   "cell_type": "code",
   "execution_count": 31,
   "metadata": {},
   "outputs": [
    {
     "data": {
      "text/html": [
       "<div>\n",
       "<style scoped>\n",
       "    .dataframe tbody tr th:only-of-type {\n",
       "        vertical-align: middle;\n",
       "    }\n",
       "\n",
       "    .dataframe tbody tr th {\n",
       "        vertical-align: top;\n",
       "    }\n",
       "\n",
       "    .dataframe thead th {\n",
       "        text-align: right;\n",
       "    }\n",
       "</style>\n",
       "<table border=\"1\" class=\"dataframe\">\n",
       "  <thead>\n",
       "    <tr style=\"text-align: right;\">\n",
       "      <th></th>\n",
       "      <th>Unnamed: 0</th>\n",
       "      <th>date</th>\n",
       "      <th>contents</th>\n",
       "      <th>speaker</th>\n",
       "      <th>text</th>\n",
       "      <th>wordcount</th>\n",
       "      <th>NPositiveWords</th>\n",
       "      <th>NNegativeWords</th>\n",
       "      <th>sentiment</th>\n",
       "      <th>Poswords</th>\n",
       "      <th>Negwords</th>\n",
       "    </tr>\n",
       "  </thead>\n",
       "  <tbody>\n",
       "    <tr>\n",
       "      <th>191</th>\n",
       "      <td>191</td>\n",
       "      <td>2021-09-22</td>\n",
       "      <td>The Federal Reserve, the central bank of the U...</td>\n",
       "      <td>Jerome Powell</td>\n",
       "      <td>The Federal Reserve, the central bank of the U...</td>\n",
       "      <td>621</td>\n",
       "      <td>18</td>\n",
       "      <td>6</td>\n",
       "      <td>1.932367</td>\n",
       "      <td>[stable, stability, stability, stability, prog...</td>\n",
       "      <td>[challenging, adversely, slowed, crisis, persi...</td>\n",
       "    </tr>\n",
       "    <tr>\n",
       "      <th>192</th>\n",
       "      <td>192</td>\n",
       "      <td>2021-11-03</td>\n",
       "      <td>The Federal Reserve, the central bank of the U...</td>\n",
       "      <td>Jerome Powell</td>\n",
       "      <td>The Federal Reserve, the central bank of the U...</td>\n",
       "      <td>727</td>\n",
       "      <td>16</td>\n",
       "      <td>7</td>\n",
       "      <td>1.237964</td>\n",
       "      <td>[stable, stability, stability, stability, prog...</td>\n",
       "      <td>[challenging, adversely, slowed, imbalances, e...</td>\n",
       "    </tr>\n",
       "    <tr>\n",
       "      <th>193</th>\n",
       "      <td>193</td>\n",
       "      <td>2021-12-15</td>\n",
       "      <td>The Federal Reserve, the central bank of the U...</td>\n",
       "      <td>Jerome Powell</td>\n",
       "      <td>The Federal Reserve, the central bank of the U...</td>\n",
       "      <td>638</td>\n",
       "      <td>15</td>\n",
       "      <td>7</td>\n",
       "      <td>1.253918</td>\n",
       "      <td>[stable, stability, stability, stability, prog...</td>\n",
       "      <td>[challenging, adversely, unemployment, decline...</td>\n",
       "    </tr>\n",
       "    <tr>\n",
       "      <th>194</th>\n",
       "      <td>194</td>\n",
       "      <td>2022-01-26</td>\n",
       "      <td>The Federal Reserve, the central bank of the U...</td>\n",
       "      <td>other</td>\n",
       "      <td>The Federal Reserve, the central bank of the U...</td>\n",
       "      <td>547</td>\n",
       "      <td>12</td>\n",
       "      <td>6</td>\n",
       "      <td>1.096892</td>\n",
       "      <td>[stable, stability, stability, strengthen, imp...</td>\n",
       "      <td>[adversely, unemployment, declined, imbalances...</td>\n",
       "    </tr>\n",
       "    <tr>\n",
       "      <th>195</th>\n",
       "      <td>195</td>\n",
       "      <td>2022-03-16</td>\n",
       "      <td>The Federal Reserve, the central bank of the U...</td>\n",
       "      <td>other</td>\n",
       "      <td>The Federal Reserve, the central bank of the U...</td>\n",
       "      <td>465</td>\n",
       "      <td>10</td>\n",
       "      <td>6</td>\n",
       "      <td>0.860215</td>\n",
       "      <td>[stable, stability, stability, strengthen, gai...</td>\n",
       "      <td>[unemployment, declined, imbalances, hardship,...</td>\n",
       "    </tr>\n",
       "  </tbody>\n",
       "</table>\n",
       "</div>"
      ],
      "text/plain": [
       "     Unnamed: 0       date                                           contents  \\\n",
       "191         191 2021-09-22  The Federal Reserve, the central bank of the U...   \n",
       "192         192 2021-11-03  The Federal Reserve, the central bank of the U...   \n",
       "193         193 2021-12-15  The Federal Reserve, the central bank of the U...   \n",
       "194         194 2022-01-26  The Federal Reserve, the central bank of the U...   \n",
       "195         195 2022-03-16  The Federal Reserve, the central bank of the U...   \n",
       "\n",
       "           speaker                                               text  \\\n",
       "191  Jerome Powell  The Federal Reserve, the central bank of the U...   \n",
       "192  Jerome Powell  The Federal Reserve, the central bank of the U...   \n",
       "193  Jerome Powell  The Federal Reserve, the central bank of the U...   \n",
       "194          other  The Federal Reserve, the central bank of the U...   \n",
       "195          other  The Federal Reserve, the central bank of the U...   \n",
       "\n",
       "     wordcount  NPositiveWords  NNegativeWords  sentiment  \\\n",
       "191        621              18               6   1.932367   \n",
       "192        727              16               7   1.237964   \n",
       "193        638              15               7   1.253918   \n",
       "194        547              12               6   1.096892   \n",
       "195        465              10               6   0.860215   \n",
       "\n",
       "                                              Poswords  \\\n",
       "191  [stable, stability, stability, stability, prog...   \n",
       "192  [stable, stability, stability, stability, prog...   \n",
       "193  [stable, stability, stability, stability, prog...   \n",
       "194  [stable, stability, stability, strengthen, imp...   \n",
       "195  [stable, stability, stability, strengthen, gai...   \n",
       "\n",
       "                                              Negwords  \n",
       "191  [challenging, adversely, slowed, crisis, persi...  \n",
       "192  [challenging, adversely, slowed, imbalances, e...  \n",
       "193  [challenging, adversely, unemployment, decline...  \n",
       "194  [adversely, unemployment, declined, imbalances...  \n",
       "195  [unemployment, declined, imbalances, hardship,...  "
      ]
     },
     "execution_count": 31,
     "metadata": {},
     "output_type": "execute_result"
    }
   ],
   "source": [
    "Data.tail()"
   ]
  },
  {
   "cell_type": "markdown",
   "metadata": {},
   "source": [
    "### Plots of the sentiment analysis"
   ]
  },
  {
   "cell_type": "markdown",
   "metadata": {},
   "source": [
    "Plot positive and negative word counts"
   ]
  },
  {
   "cell_type": "code",
   "execution_count": 34,
   "metadata": {},
   "outputs": [
    {
     "data": {
      "image/png": "[encoded data removed]",
      "text/plain": [
       "<Figure size 1500x700 with 1 Axes>"
      ]
     },
     "metadata": {},
     "output_type": "display_data"
    }
   ],
   "source": [
    "NetSentiment = Data['NPositiveWords'] - Data['NNegativeWords']\n",
    "\n",
    "plt.figure(figsize=(15,7))\n",
    "ax = plt.subplot()\n",
    "\n",
    "plt.plot(Data.index, Data['NPositiveWords'], c='green', linewidth= 1.0)\n",
    "plt.plot(Data.index, Data['NNegativeWords']*-1, c='red', linewidth=1.0)\n",
    "plt.plot(Data.index, NetSentiment, c='grey', linewidth=1.0)\n",
    "\n",
    "plt.title('The number of positive/negative words in statement', fontsize=16)\n",
    "plt.legend(['Positive Words', 'Negative Words', 'Net Sentiment'], prop={'size': 14}, loc=1)\n",
    "\n",
    "ax.fill_between(Data.index, NetSentiment, where=(NetSentiment > 0), color='green', alpha=0.3, interpolate=True)\n",
    "ax.fill_between(Data.index, NetSentiment, where=(NetSentiment <= 0), color='red', alpha=0.3, interpolate=True)\n",
    "\n",
    "import matplotlib.dates as mdates\n",
    "years = mdates.YearLocator()   # every year\n",
    "months = mdates.MonthLocator()  # every month\n",
    "years_fmt = mdates.DateFormatter('%Y')\n",
    "\n",
    "# format the ticks\n",
    "ax.xaxis.set_major_locator(years)\n",
    "ax.xaxis.set_major_formatter(years_fmt)\n",
    "ax.xaxis.set_minor_locator(months)\n",
    "datemin = Data.index[0]\n",
    "datemax = Data.index[-1]\n",
    "\n",
    "ax.set_xlim(datemin, datemax)\n",
    "\n",
    "ax.grid(True)\n",
    "\n",
    "plt.show()"
   ]
  },
  {
   "cell_type": "code",
   "execution_count": 35,
   "metadata": {},
   "outputs": [],
   "source": [
    "# Now it's your turn to continue, you are free to throw away the previous analysis and start on a better basis\n",
    "..."
   ]
  },
  {
   "cell_type": "markdown",
   "metadata": {},
   "source": [
    "Now that you know how to start the sentiment analysis process, let's jump ahead a bit and see how to produce an evaluation metric for the part 3"
   ]
  },
  {
   "cell_type": "markdown",
   "metadata": {},
   "source": [
    "### Example of prediction\n",
    "\n",
    "Let's forecast the May 2022 using the average of the last three week. \n",
    "-> This won't be good, but it's a basic exemple"
   ]
  },
  {
   "cell_type": "code",
   "execution_count": 36,
   "metadata": {},
   "outputs": [
    {
     "name": "stdout",
     "output_type": "stream",
     "text": [
      "First date: 2022-05-02 00:00:00 \n",
      " Last date: 2022-11-03 00:00:00 \n"
     ]
    },
    {
     "data": {
      "text/html": [
       "<div>\n",
       "<style scoped>\n",
       "    .dataframe tbody tr th:only-of-type {\n",
       "        vertical-align: middle;\n",
       "    }\n",
       "\n",
       "    .dataframe tbody tr th {\n",
       "        vertical-align: top;\n",
       "    }\n",
       "\n",
       "    .dataframe thead th {\n",
       "        text-align: right;\n",
       "    }\n",
       "</style>\n",
       "<table border=\"1\" class=\"dataframe\">\n",
       "  <thead>\n",
       "    <tr style=\"text-align: right;\">\n",
       "      <th></th>\n",
       "      <th>date</th>\n",
       "      <th>FXUSDCAD</th>\n",
       "    </tr>\n",
       "  </thead>\n",
       "  <tbody>\n",
       "    <tr>\n",
       "      <th>1331</th>\n",
       "      <td>2022-05-02</td>\n",
       "      <td>1.2895</td>\n",
       "    </tr>\n",
       "    <tr>\n",
       "      <th>1332</th>\n",
       "      <td>2022-05-03</td>\n",
       "      <td>1.2847</td>\n",
       "    </tr>\n",
       "    <tr>\n",
       "      <th>1333</th>\n",
       "      <td>2022-05-04</td>\n",
       "      <td>1.2810</td>\n",
       "    </tr>\n",
       "    <tr>\n",
       "      <th>1334</th>\n",
       "      <td>2022-05-05</td>\n",
       "      <td>1.2822</td>\n",
       "    </tr>\n",
       "    <tr>\n",
       "      <th>1335</th>\n",
       "      <td>2022-05-06</td>\n",
       "      <td>1.2882</td>\n",
       "    </tr>\n",
       "  </tbody>\n",
       "</table>\n",
       "</div>"
      ],
      "text/plain": [
       "           date  FXUSDCAD\n",
       "1331 2022-05-02    1.2895\n",
       "1332 2022-05-03    1.2847\n",
       "1333 2022-05-04    1.2810\n",
       "1334 2022-05-05    1.2822\n",
       "1335 2022-05-06    1.2882"
      ]
     },
     "execution_count": 36,
     "metadata": {},
     "output_type": "execute_result"
    }
   ],
   "source": [
    "# Read the data\n",
    "df = pd.read_csv(\"data/dataset/FXUSDCAD.csv\")\n",
    "\n",
    "# Split the data\n",
    "date_split='2022-05-01'\n",
    "train, test = split_and_save(df, date_split=date_split, filename_prefix=\"FXUSDCAD\")\n",
    "\n",
    "print(f\"First date: {test.iloc[0].date} \\n Last date: {test.iloc[-1].date} \")\n",
    "test.head()"
   ]
  },
  {
   "cell_type": "code",
   "execution_count": 37,
   "metadata": {},
   "outputs": [],
   "source": [
    "from datetime import datetime\n",
    "from datetime import timedelta\n",
    "\n",
    "# Reset all exchange rate value\n",
    "pred = test.copy(deep=True)\n",
    "pred[\"FXUSDCAD\"] = np.nan\n",
    "pred['date'] = pd.to_datetime(pred['date'], format='%Y-%m-%d')\n",
    "\n",
    "# Take the mean as a dummy prediction for the exemple\n",
    "train_mean = train.loc[(df['date'] >= '2022-01-01') & (df['date'] < date_split)].FXUSDCAD.mean()\n",
    "\n",
    "# Make a dummy prediction for every two week\n",
    "pred_date = pd.to_datetime(test.iloc[0].date, format='%Y-%m-%d')\n",
    "while datetime.today() > pred_date:\n",
    "    pred.loc[pred[\"date\"]==pred_date, \"FXUSDCAD\"] = train_mean\n",
    "    pred_date += timedelta(days=14)\n",
    "\n",
    "# Remove value not predicted\n",
    "pred.dropna(inplace=True)"
   ]
  },
  {
   "cell_type": "markdown",
   "metadata": {},
   "source": [
    "Let's evaluate the results"
   ]
  },
  {
   "cell_type": "code",
   "execution_count": 38,
   "metadata": {},
   "outputs": [
    {
     "name": "stdout",
     "output_type": "stream",
     "text": [
      " Mean squared error: 0.003172293275522813\n"
     ]
    }
   ],
   "source": [
    "from utils.Evaluate import evaluate\n",
    "\n",
    "mse = evaluate(pred, \"data/test/FXUSDCAD.csv\")"
   ]
  },
  {
   "cell_type": "markdown",
   "metadata": {},
   "source": [
    "Let's export the results"
   ]
  },
  {
   "cell_type": "code",
   "execution_count": 24,
   "metadata": {},
   "outputs": [
    {
     "ename": "NameError",
     "evalue": "name 'pred' is not defined",
     "output_type": "error",
     "traceback": [
      "\u001b[1;31m---------------------------------------------------------------------------\u001b[0m",
      "\u001b[1;31mNameError\u001b[0m                                 Traceback (most recent call last)",
      "Cell \u001b[1;32mIn [24], line 2\u001b[0m\n\u001b[0;32m      1\u001b[0m \u001b[39m# Export the results as a file\u001b[39;00m\n\u001b[1;32m----> 2\u001b[0m pred\u001b[39m.\u001b[39mto_csv(\u001b[39m\"\u001b[39m\u001b[39mdata/result/prediction.csv\u001b[39m\u001b[39m\"\u001b[39m, index\u001b[39m=\u001b[39m\u001b[39mFalse\u001b[39;00m)\n",
      "\u001b[1;31mNameError\u001b[0m: name 'pred' is not defined"
     ]
    }
   ],
   "source": [
    "# Export the results as a file\n",
    "pred.to_csv(\"data/result/prediction.csv\", index=False)"
   ]
  },
  {
   "cell_type": "code",
   "execution_count": null,
   "metadata": {},
   "outputs": [],
   "source": []
  },
  {
   "cell_type": "markdown",
   "metadata": {},
   "source": [
    "# Now it's your turn! Good luck & Enjoy :)"
   ]
  }
 ],
 "metadata": {
  "kernelspec": {
   "display_name": "Python 3.10.8 64-bit",
   "language": "python",
   "name": "python3"
  },
  "language_info": {
   "codemirror_mode": {
    "name": "ipython",
    "version": 3
   },
   "file_extension": ".py",
   "mimetype": "text/x-python",
   "name": "python",
   "nbconvert_exporter": "python",
   "pygments_lexer": "ipython3",
   "version": "3.10.8"
  },
  "vscode": {
   "interpreter": {
    "hash": "67e0cbc25fa4f5baaacba1240f401bc655b640f8e15cfc935dfee2e63491bdf4"
   }
  }
 },
 "nbformat": 4,
 "nbformat_minor": 2
}
