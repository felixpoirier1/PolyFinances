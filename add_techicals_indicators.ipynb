{
 "cells": [
  {
   "cell_type": "code",
   "execution_count": 1,
   "outputs": [],
   "source": [
    "from technicals_indicators import *"
   ],
   "metadata": {
    "collapsed": false,
    "pycharm": {
     "name": "#%%\n"
    }
   }
  },
  {
   "cell_type": "code",
   "execution_count": 2,
   "outputs": [],
   "source": [
    "indicators = {\n",
    "    \"AROON\": AROON,\n",
    "    \"MACD\": MACD,\n",
    "    \"RSI\": RSI,\n",
    "    \"STOCHRSI\": STOCHRSI,\n",
    "    \"TRIX\": TRIX,\n",
    "    \"PPO\": PPO,\n",
    "    \"STC\": STC,\n",
    "    \"KAMA\": KAMA,\n",
    "    \"KST\": KST,\n",
    "    \"DPO\": DPO,\n",
    "    \"BOLLINGER\": BOLLINGER,\n",
    "    \"ULCER\": ULCER,\n",
    "    \"TSI\": TSI,\n",
    "    \"EMA\": EMA\n",
    "}"
   ],
   "metadata": {
    "collapsed": false,
    "pycharm": {
     "name": "#%%\n"
    }
   }
  },
  {
   "cell_type": "code",
   "execution_count": 3,
   "outputs": [
    {
     "data": {
      "text/plain": "            date  usd/cad  DGS2  DGS3  DGS5  DGS10  cad_2y  cad_3y  cad_5y  \\\n0     2012-01-04   1.0134  0.25  0.40  0.89   2.00    0.97    1.01    1.30   \n1     2012-01-05   1.0197  0.27  0.40  0.88   2.02    0.96    1.00    1.29   \n2     2012-01-06   1.0231  0.25  0.40  0.86   1.98    0.93    0.97    1.25   \n3     2012-01-07   1.0231  0.25  0.40  0.86   1.98    0.93    0.97    1.25   \n4     2012-01-08   1.0231  0.25  0.40  0.86   1.98    0.93    0.97    1.25   \n...          ...      ...   ...   ...   ...    ...     ...     ...     ...   \n3895  2022-09-03   1.3089  3.40  3.44  3.30   3.20    3.58    3.53    3.28   \n3896  2022-09-04   1.3089  3.40  3.44  3.30   3.20    3.58    3.53    3.28   \n3897  2022-09-05   1.3089  3.40  3.44  3.30   3.20    3.58    3.53    3.28   \n3898  2022-09-06   1.3122  3.50  3.55  3.43   3.33    3.60    3.56    3.33   \n3899  2022-09-07   1.3166  3.45  3.50  3.37   3.27    3.60    3.55    3.30   \n\n      cad_10y  ...  dtwexemegs  usrecd  eurorecd  jpnrecdp  us_fed_sentiment  \\\n0        1.99  ...     97.5854       0       1.0       1.0               0.0   \n1        1.97  ...     97.8533       0       1.0       1.0               0.0   \n2        1.94  ...     97.8570       0       1.0       1.0               0.0   \n3        1.94  ...     97.8570       0       1.0       1.0               0.0   \n4        1.94  ...     97.8570       0       1.0       1.0               0.0   \n...       ...  ...         ...     ...       ...       ...               ...   \n3895     3.10  ...    129.7622       0       0.0       0.0               0.0   \n3896     3.10  ...    129.7622       0       0.0       0.0               0.0   \n3897     3.10  ...    129.7622       0       0.0       0.0               0.0   \n3898     3.18  ...    130.7121       0       0.0       0.0               0.0   \n3899     3.13  ...    130.7067       0       0.0       0.0               0.0   \n\n      fed_speech_sentiment  fed_minutes_sentiment  usd/cad_lag_1  \\\n0                      0.0                    0.0            NaN   \n1                      0.0                    0.0         1.0134   \n2                      0.0                    0.0         1.0197   \n3                      0.0                    0.0         1.0197   \n4                      0.0                    0.0         1.0197   \n...                    ...                    ...            ...   \n3895                   0.0                    0.0         1.3160   \n3896                   0.0                    0.0         1.3160   \n3897                   0.0                    0.0         1.3160   \n3898                   0.0                    0.0         1.3089   \n3899                   0.0                    0.0         1.3122   \n\n      usd/cad_lag_2  usd/cad_lag_3  \n0               NaN            NaN  \n1               NaN            NaN  \n2            1.0134            NaN  \n3            1.0134            NaN  \n4            1.0134            NaN  \n...             ...            ...  \n3895         1.3091         1.3090  \n3896         1.3091         1.3090  \n3897         1.3091         1.3090  \n3898         1.3160         1.3091  \n3899         1.3089         1.3160  \n\n[3900 rows x 79 columns]",
      "text/html": "<div>\n<style scoped>\n    .dataframe tbody tr th:only-of-type {\n        vertical-align: middle;\n    }\n\n    .dataframe tbody tr th {\n        vertical-align: top;\n    }\n\n    .dataframe thead th {\n        text-align: right;\n    }\n</style>\n<table border=\"1\" class=\"dataframe\">\n  <thead>\n    <tr style=\"text-align: right;\">\n      <th></th>\n      <th>date</th>\n      <th>usd/cad</th>\n      <th>DGS2</th>\n      <th>DGS3</th>\n      <th>DGS5</th>\n      <th>DGS10</th>\n      <th>cad_2y</th>\n      <th>cad_3y</th>\n      <th>cad_5y</th>\n      <th>cad_10y</th>\n      <th>...</th>\n      <th>dtwexemegs</th>\n      <th>usrecd</th>\n      <th>eurorecd</th>\n      <th>jpnrecdp</th>\n      <th>us_fed_sentiment</th>\n      <th>fed_speech_sentiment</th>\n      <th>fed_minutes_sentiment</th>\n      <th>usd/cad_lag_1</th>\n      <th>usd/cad_lag_2</th>\n      <th>usd/cad_lag_3</th>\n    </tr>\n  </thead>\n  <tbody>\n    <tr>\n      <th>0</th>\n      <td>2012-01-04</td>\n      <td>1.0134</td>\n      <td>0.25</td>\n      <td>0.40</td>\n      <td>0.89</td>\n      <td>2.00</td>\n      <td>0.97</td>\n      <td>1.01</td>\n      <td>1.30</td>\n      <td>1.99</td>\n      <td>...</td>\n      <td>97.5854</td>\n      <td>0</td>\n      <td>1.0</td>\n      <td>1.0</td>\n      <td>0.0</td>\n      <td>0.0</td>\n      <td>0.0</td>\n      <td>NaN</td>\n      <td>NaN</td>\n      <td>NaN</td>\n    </tr>\n    <tr>\n      <th>1</th>\n      <td>2012-01-05</td>\n      <td>1.0197</td>\n      <td>0.27</td>\n      <td>0.40</td>\n      <td>0.88</td>\n      <td>2.02</td>\n      <td>0.96</td>\n      <td>1.00</td>\n      <td>1.29</td>\n      <td>1.97</td>\n      <td>...</td>\n      <td>97.8533</td>\n      <td>0</td>\n      <td>1.0</td>\n      <td>1.0</td>\n      <td>0.0</td>\n      <td>0.0</td>\n      <td>0.0</td>\n      <td>1.0134</td>\n      <td>NaN</td>\n      <td>NaN</td>\n    </tr>\n    <tr>\n      <th>2</th>\n      <td>2012-01-06</td>\n      <td>1.0231</td>\n      <td>0.25</td>\n      <td>0.40</td>\n      <td>0.86</td>\n      <td>1.98</td>\n      <td>0.93</td>\n      <td>0.97</td>\n      <td>1.25</td>\n      <td>1.94</td>\n      <td>...</td>\n      <td>97.8570</td>\n      <td>0</td>\n      <td>1.0</td>\n      <td>1.0</td>\n      <td>0.0</td>\n      <td>0.0</td>\n      <td>0.0</td>\n      <td>1.0197</td>\n      <td>1.0134</td>\n      <td>NaN</td>\n    </tr>\n    <tr>\n      <th>3</th>\n      <td>2012-01-07</td>\n      <td>1.0231</td>\n      <td>0.25</td>\n      <td>0.40</td>\n      <td>0.86</td>\n      <td>1.98</td>\n      <td>0.93</td>\n      <td>0.97</td>\n      <td>1.25</td>\n      <td>1.94</td>\n      <td>...</td>\n      <td>97.8570</td>\n      <td>0</td>\n      <td>1.0</td>\n      <td>1.0</td>\n      <td>0.0</td>\n      <td>0.0</td>\n      <td>0.0</td>\n      <td>1.0197</td>\n      <td>1.0134</td>\n      <td>NaN</td>\n    </tr>\n    <tr>\n      <th>4</th>\n      <td>2012-01-08</td>\n      <td>1.0231</td>\n      <td>0.25</td>\n      <td>0.40</td>\n      <td>0.86</td>\n      <td>1.98</td>\n      <td>0.93</td>\n      <td>0.97</td>\n      <td>1.25</td>\n      <td>1.94</td>\n      <td>...</td>\n      <td>97.8570</td>\n      <td>0</td>\n      <td>1.0</td>\n      <td>1.0</td>\n      <td>0.0</td>\n      <td>0.0</td>\n      <td>0.0</td>\n      <td>1.0197</td>\n      <td>1.0134</td>\n      <td>NaN</td>\n    </tr>\n    <tr>\n      <th>...</th>\n      <td>...</td>\n      <td>...</td>\n      <td>...</td>\n      <td>...</td>\n      <td>...</td>\n      <td>...</td>\n      <td>...</td>\n      <td>...</td>\n      <td>...</td>\n      <td>...</td>\n      <td>...</td>\n      <td>...</td>\n      <td>...</td>\n      <td>...</td>\n      <td>...</td>\n      <td>...</td>\n      <td>...</td>\n      <td>...</td>\n      <td>...</td>\n      <td>...</td>\n      <td>...</td>\n    </tr>\n    <tr>\n      <th>3895</th>\n      <td>2022-09-03</td>\n      <td>1.3089</td>\n      <td>3.40</td>\n      <td>3.44</td>\n      <td>3.30</td>\n      <td>3.20</td>\n      <td>3.58</td>\n      <td>3.53</td>\n      <td>3.28</td>\n      <td>3.10</td>\n      <td>...</td>\n      <td>129.7622</td>\n      <td>0</td>\n      <td>0.0</td>\n      <td>0.0</td>\n      <td>0.0</td>\n      <td>0.0</td>\n      <td>0.0</td>\n      <td>1.3160</td>\n      <td>1.3091</td>\n      <td>1.3090</td>\n    </tr>\n    <tr>\n      <th>3896</th>\n      <td>2022-09-04</td>\n      <td>1.3089</td>\n      <td>3.40</td>\n      <td>3.44</td>\n      <td>3.30</td>\n      <td>3.20</td>\n      <td>3.58</td>\n      <td>3.53</td>\n      <td>3.28</td>\n      <td>3.10</td>\n      <td>...</td>\n      <td>129.7622</td>\n      <td>0</td>\n      <td>0.0</td>\n      <td>0.0</td>\n      <td>0.0</td>\n      <td>0.0</td>\n      <td>0.0</td>\n      <td>1.3160</td>\n      <td>1.3091</td>\n      <td>1.3090</td>\n    </tr>\n    <tr>\n      <th>3897</th>\n      <td>2022-09-05</td>\n      <td>1.3089</td>\n      <td>3.40</td>\n      <td>3.44</td>\n      <td>3.30</td>\n      <td>3.20</td>\n      <td>3.58</td>\n      <td>3.53</td>\n      <td>3.28</td>\n      <td>3.10</td>\n      <td>...</td>\n      <td>129.7622</td>\n      <td>0</td>\n      <td>0.0</td>\n      <td>0.0</td>\n      <td>0.0</td>\n      <td>0.0</td>\n      <td>0.0</td>\n      <td>1.3160</td>\n      <td>1.3091</td>\n      <td>1.3090</td>\n    </tr>\n    <tr>\n      <th>3898</th>\n      <td>2022-09-06</td>\n      <td>1.3122</td>\n      <td>3.50</td>\n      <td>3.55</td>\n      <td>3.43</td>\n      <td>3.33</td>\n      <td>3.60</td>\n      <td>3.56</td>\n      <td>3.33</td>\n      <td>3.18</td>\n      <td>...</td>\n      <td>130.7121</td>\n      <td>0</td>\n      <td>0.0</td>\n      <td>0.0</td>\n      <td>0.0</td>\n      <td>0.0</td>\n      <td>0.0</td>\n      <td>1.3089</td>\n      <td>1.3160</td>\n      <td>1.3091</td>\n    </tr>\n    <tr>\n      <th>3899</th>\n      <td>2022-09-07</td>\n      <td>1.3166</td>\n      <td>3.45</td>\n      <td>3.50</td>\n      <td>3.37</td>\n      <td>3.27</td>\n      <td>3.60</td>\n      <td>3.55</td>\n      <td>3.30</td>\n      <td>3.13</td>\n      <td>...</td>\n      <td>130.7067</td>\n      <td>0</td>\n      <td>0.0</td>\n      <td>0.0</td>\n      <td>0.0</td>\n      <td>0.0</td>\n      <td>0.0</td>\n      <td>1.3122</td>\n      <td>1.3089</td>\n      <td>1.3160</td>\n    </tr>\n  </tbody>\n</table>\n<p>3900 rows × 79 columns</p>\n</div>"
     },
     "execution_count": 3,
     "metadata": {},
     "output_type": "execute_result"
    }
   ],
   "source": [
    "df = pd.read_csv(\"data/dataset/final.csv\")\n"
   ],
   "metadata": {
    "collapsed": false,
    "pycharm": {
     "name": "#%%\n"
    }
   }
  },
  {
   "cell_type": "code",
   "execution_count": 5,
   "outputs": [],
   "source": [
    "# Apply all the technicals indicators in the dictionnary 'indicators to colun 'usd/cad'\n",
    "\n",
    "for key, value in indicators.items():\n",
    "    # Apply function in value to column 'usd/cad'\n",
    "    df[key] = value(df['usd/cad'])"
   ],
   "metadata": {
    "collapsed": false,
    "pycharm": {
     "name": "#%%\n"
    }
   }
  },
  {
   "cell_type": "code",
   "execution_count": 6,
   "outputs": [
    {
     "data": {
      "text/plain": "            date  usd/cad  DGS2  DGS3  DGS5  DGS10  cad_2y  cad_3y  cad_5y  \\\n0     2012-01-04   1.0134  0.25  0.40  0.89   2.00    0.97    1.01    1.30   \n1     2012-01-05   1.0197  0.27  0.40  0.88   2.02    0.96    1.00    1.29   \n2     2012-01-06   1.0231  0.25  0.40  0.86   1.98    0.93    0.97    1.25   \n3     2012-01-07   1.0231  0.25  0.40  0.86   1.98    0.93    0.97    1.25   \n4     2012-01-08   1.0231  0.25  0.40  0.86   1.98    0.93    0.97    1.25   \n...          ...      ...   ...   ...   ...    ...     ...     ...     ...   \n3895  2022-09-03   1.3089  3.40  3.44  3.30   3.20    3.58    3.53    3.28   \n3896  2022-09-04   1.3089  3.40  3.44  3.30   3.20    3.58    3.53    3.28   \n3897  2022-09-05   1.3089  3.40  3.44  3.30   3.20    3.58    3.53    3.28   \n3898  2022-09-06   1.3122  3.50  3.55  3.43   3.33    3.60    3.56    3.33   \n3899  2022-09-07   1.3166  3.45  3.50  3.37   3.27    3.60    3.55    3.30   \n\n      cad_10y  ...      TRIX       PPO        STC      KAMA        KST  \\\n0        1.99  ...       NaN       NaN        NaN       NaN        NaN   \n1        1.97  ...       NaN       NaN        NaN       NaN        NaN   \n2        1.94  ...       NaN       NaN        NaN       NaN        NaN   \n3        1.94  ...       NaN       NaN        NaN       NaN        NaN   \n4        1.94  ...       NaN       NaN        NaN       NaN        NaN   \n...       ...  ...       ...       ...        ...       ...        ...   \n3895     3.10  ...  0.046405  0.429867  99.998385  1.300716  13.613059   \n3896     3.10  ...  0.049849  0.428560  99.999192  1.301399  14.258416   \n3897     3.10  ...  0.052571  0.422619  99.999596  1.302363  14.741247   \n3898     3.18  ...  0.054588  0.413122  99.999798  1.302865  14.817356   \n3899     3.13  ...  0.056437  0.421106  99.999899  1.303852  14.925573   \n\n           DPO  BOLLINGER     ULCER        TSI       EMA  \n0          NaN        NaN       NaN        NaN       NaN  \n1          NaN        NaN       NaN        NaN       NaN  \n2          NaN        NaN       NaN        NaN       NaN  \n3          NaN        NaN       NaN        NaN       NaN  \n4          NaN        NaN       NaN        NaN       NaN  \n...        ...        ...       ...        ...       ...  \n3895  0.005040   2.559296  0.364593  32.665831  1.303888  \n3896 -0.005790   2.195190  0.392071  31.157745  1.304659  \n3897 -0.004380   2.116029  0.417744  30.043526  1.305312  \n3898 -0.007955   1.930380  0.441929  29.186759  1.305864  \n3899 -0.002705   1.922933  0.406097  30.158908  1.306839  \n\n[3900 rows x 93 columns]",
      "text/html": "<div>\n<style scoped>\n    .dataframe tbody tr th:only-of-type {\n        vertical-align: middle;\n    }\n\n    .dataframe tbody tr th {\n        vertical-align: top;\n    }\n\n    .dataframe thead th {\n        text-align: right;\n    }\n</style>\n<table border=\"1\" class=\"dataframe\">\n  <thead>\n    <tr style=\"text-align: right;\">\n      <th></th>\n      <th>date</th>\n      <th>usd/cad</th>\n      <th>DGS2</th>\n      <th>DGS3</th>\n      <th>DGS5</th>\n      <th>DGS10</th>\n      <th>cad_2y</th>\n      <th>cad_3y</th>\n      <th>cad_5y</th>\n      <th>cad_10y</th>\n      <th>...</th>\n      <th>TRIX</th>\n      <th>PPO</th>\n      <th>STC</th>\n      <th>KAMA</th>\n      <th>KST</th>\n      <th>DPO</th>\n      <th>BOLLINGER</th>\n      <th>ULCER</th>\n      <th>TSI</th>\n      <th>EMA</th>\n    </tr>\n  </thead>\n  <tbody>\n    <tr>\n      <th>0</th>\n      <td>2012-01-04</td>\n      <td>1.0134</td>\n      <td>0.25</td>\n      <td>0.40</td>\n      <td>0.89</td>\n      <td>2.00</td>\n      <td>0.97</td>\n      <td>1.01</td>\n      <td>1.30</td>\n      <td>1.99</td>\n      <td>...</td>\n      <td>NaN</td>\n      <td>NaN</td>\n      <td>NaN</td>\n      <td>NaN</td>\n      <td>NaN</td>\n      <td>NaN</td>\n      <td>NaN</td>\n      <td>NaN</td>\n      <td>NaN</td>\n      <td>NaN</td>\n    </tr>\n    <tr>\n      <th>1</th>\n      <td>2012-01-05</td>\n      <td>1.0197</td>\n      <td>0.27</td>\n      <td>0.40</td>\n      <td>0.88</td>\n      <td>2.02</td>\n      <td>0.96</td>\n      <td>1.00</td>\n      <td>1.29</td>\n      <td>1.97</td>\n      <td>...</td>\n      <td>NaN</td>\n      <td>NaN</td>\n      <td>NaN</td>\n      <td>NaN</td>\n      <td>NaN</td>\n      <td>NaN</td>\n      <td>NaN</td>\n      <td>NaN</td>\n      <td>NaN</td>\n      <td>NaN</td>\n    </tr>\n    <tr>\n      <th>2</th>\n      <td>2012-01-06</td>\n      <td>1.0231</td>\n      <td>0.25</td>\n      <td>0.40</td>\n      <td>0.86</td>\n      <td>1.98</td>\n      <td>0.93</td>\n      <td>0.97</td>\n      <td>1.25</td>\n      <td>1.94</td>\n      <td>...</td>\n      <td>NaN</td>\n      <td>NaN</td>\n      <td>NaN</td>\n      <td>NaN</td>\n      <td>NaN</td>\n      <td>NaN</td>\n      <td>NaN</td>\n      <td>NaN</td>\n      <td>NaN</td>\n      <td>NaN</td>\n    </tr>\n    <tr>\n      <th>3</th>\n      <td>2012-01-07</td>\n      <td>1.0231</td>\n      <td>0.25</td>\n      <td>0.40</td>\n      <td>0.86</td>\n      <td>1.98</td>\n      <td>0.93</td>\n      <td>0.97</td>\n      <td>1.25</td>\n      <td>1.94</td>\n      <td>...</td>\n      <td>NaN</td>\n      <td>NaN</td>\n      <td>NaN</td>\n      <td>NaN</td>\n      <td>NaN</td>\n      <td>NaN</td>\n      <td>NaN</td>\n      <td>NaN</td>\n      <td>NaN</td>\n      <td>NaN</td>\n    </tr>\n    <tr>\n      <th>4</th>\n      <td>2012-01-08</td>\n      <td>1.0231</td>\n      <td>0.25</td>\n      <td>0.40</td>\n      <td>0.86</td>\n      <td>1.98</td>\n      <td>0.93</td>\n      <td>0.97</td>\n      <td>1.25</td>\n      <td>1.94</td>\n      <td>...</td>\n      <td>NaN</td>\n      <td>NaN</td>\n      <td>NaN</td>\n      <td>NaN</td>\n      <td>NaN</td>\n      <td>NaN</td>\n      <td>NaN</td>\n      <td>NaN</td>\n      <td>NaN</td>\n      <td>NaN</td>\n    </tr>\n    <tr>\n      <th>...</th>\n      <td>...</td>\n      <td>...</td>\n      <td>...</td>\n      <td>...</td>\n      <td>...</td>\n      <td>...</td>\n      <td>...</td>\n      <td>...</td>\n      <td>...</td>\n      <td>...</td>\n      <td>...</td>\n      <td>...</td>\n      <td>...</td>\n      <td>...</td>\n      <td>...</td>\n      <td>...</td>\n      <td>...</td>\n      <td>...</td>\n      <td>...</td>\n      <td>...</td>\n      <td>...</td>\n    </tr>\n    <tr>\n      <th>3895</th>\n      <td>2022-09-03</td>\n      <td>1.3089</td>\n      <td>3.40</td>\n      <td>3.44</td>\n      <td>3.30</td>\n      <td>3.20</td>\n      <td>3.58</td>\n      <td>3.53</td>\n      <td>3.28</td>\n      <td>3.10</td>\n      <td>...</td>\n      <td>0.046405</td>\n      <td>0.429867</td>\n      <td>99.998385</td>\n      <td>1.300716</td>\n      <td>13.613059</td>\n      <td>0.005040</td>\n      <td>2.559296</td>\n      <td>0.364593</td>\n      <td>32.665831</td>\n      <td>1.303888</td>\n    </tr>\n    <tr>\n      <th>3896</th>\n      <td>2022-09-04</td>\n      <td>1.3089</td>\n      <td>3.40</td>\n      <td>3.44</td>\n      <td>3.30</td>\n      <td>3.20</td>\n      <td>3.58</td>\n      <td>3.53</td>\n      <td>3.28</td>\n      <td>3.10</td>\n      <td>...</td>\n      <td>0.049849</td>\n      <td>0.428560</td>\n      <td>99.999192</td>\n      <td>1.301399</td>\n      <td>14.258416</td>\n      <td>-0.005790</td>\n      <td>2.195190</td>\n      <td>0.392071</td>\n      <td>31.157745</td>\n      <td>1.304659</td>\n    </tr>\n    <tr>\n      <th>3897</th>\n      <td>2022-09-05</td>\n      <td>1.3089</td>\n      <td>3.40</td>\n      <td>3.44</td>\n      <td>3.30</td>\n      <td>3.20</td>\n      <td>3.58</td>\n      <td>3.53</td>\n      <td>3.28</td>\n      <td>3.10</td>\n      <td>...</td>\n      <td>0.052571</td>\n      <td>0.422619</td>\n      <td>99.999596</td>\n      <td>1.302363</td>\n      <td>14.741247</td>\n      <td>-0.004380</td>\n      <td>2.116029</td>\n      <td>0.417744</td>\n      <td>30.043526</td>\n      <td>1.305312</td>\n    </tr>\n    <tr>\n      <th>3898</th>\n      <td>2022-09-06</td>\n      <td>1.3122</td>\n      <td>3.50</td>\n      <td>3.55</td>\n      <td>3.43</td>\n      <td>3.33</td>\n      <td>3.60</td>\n      <td>3.56</td>\n      <td>3.33</td>\n      <td>3.18</td>\n      <td>...</td>\n      <td>0.054588</td>\n      <td>0.413122</td>\n      <td>99.999798</td>\n      <td>1.302865</td>\n      <td>14.817356</td>\n      <td>-0.007955</td>\n      <td>1.930380</td>\n      <td>0.441929</td>\n      <td>29.186759</td>\n      <td>1.305864</td>\n    </tr>\n    <tr>\n      <th>3899</th>\n      <td>2022-09-07</td>\n      <td>1.3166</td>\n      <td>3.45</td>\n      <td>3.50</td>\n      <td>3.37</td>\n      <td>3.27</td>\n      <td>3.60</td>\n      <td>3.55</td>\n      <td>3.30</td>\n      <td>3.13</td>\n      <td>...</td>\n      <td>0.056437</td>\n      <td>0.421106</td>\n      <td>99.999899</td>\n      <td>1.303852</td>\n      <td>14.925573</td>\n      <td>-0.002705</td>\n      <td>1.922933</td>\n      <td>0.406097</td>\n      <td>30.158908</td>\n      <td>1.306839</td>\n    </tr>\n  </tbody>\n</table>\n<p>3900 rows × 93 columns</p>\n</div>"
     },
     "execution_count": 6,
     "metadata": {},
     "output_type": "execute_result"
    }
   ],
   "source": [
    "df"
   ],
   "metadata": {
    "collapsed": false,
    "pycharm": {
     "name": "#%%\n"
    }
   }
  },
  {
   "cell_type": "code",
   "execution_count": 7,
   "outputs": [],
   "source": [
    "df.to_csv(f\"data/dataset/final.csv\", index=False)"
   ],
   "metadata": {
    "collapsed": false,
    "pycharm": {
     "name": "#%%\n"
    }
   }
  },
  {
   "cell_type": "code",
   "execution_count": null,
   "outputs": [],
   "source": [],
   "metadata": {
    "collapsed": false,
    "pycharm": {
     "name": "#%%\n"
    }
   }
  }
 ],
 "metadata": {
  "kernelspec": {
   "display_name": "Python 3",
   "language": "python",
   "name": "python3"
  },
  "language_info": {
   "codemirror_mode": {
    "name": "ipython",
    "version": 2
   },
   "file_extension": ".py",
   "mimetype": "text/x-python",
   "name": "python",
   "nbconvert_exporter": "python",
   "pygments_lexer": "ipython2",
   "version": "2.7.6"
  }
 },
 "nbformat": 4,
 "nbformat_minor": 0
}