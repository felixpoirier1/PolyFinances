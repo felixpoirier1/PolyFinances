{
 "cells": [
  {
   "cell_type": "code",
   "execution_count": 1,
   "metadata": {
    "collapsed": true,
    "pycharm": {
     "name": "#%%\n"
    }
   },
   "outputs": [],
   "source": [
    "import pandas as pd\n",
    "import numpy as np\n",
    "import spacy\n",
    "import re\n",
    "from utils.MasterDictionary import load_masterdictionary\n",
    "\n",
    "\n"
   ]
  },
  {
   "cell_type": "code",
   "execution_count": 2,
   "outputs": [],
   "source": [
    "def read_data(filename: str) -> pd.DataFrame:\n",
    "    return pd.read_csv(f\"data/dataset/{filename}.csv\",\n",
    "                       index_col=0, parse_dates=True)\n",
    "\n",
    "df_statement = read_data(\"FOMC/statement\")\n",
    "df_speech = read_data(\"FOMC/speech\")\n",
    "df_minutes = read_data(\"FOMC/minutes\")\n",
    "df_can = read_data(\"can_statements\")\n"
   ],
   "metadata": {
    "collapsed": false,
    "pycharm": {
     "name": "#%%\n"
    }
   }
  },
  {
   "cell_type": "code",
   "execution_count": 3,
   "outputs": [
    {
     "data": {
      "text/plain": "((1607, 4), (201, 4), (229, 4), (380, 2))"
     },
     "execution_count": 3,
     "metadata": {},
     "output_type": "execute_result"
    }
   ],
   "source": [
    "df_speech.shape, df_statement.shape, df_minutes.shape, df_can.shape"
   ],
   "metadata": {
    "collapsed": false,
    "pycharm": {
     "name": "#%%\n"
    }
   }
  },
  {
   "cell_type": "code",
   "execution_count": 4,
   "outputs": [
    {
     "data": {
      "text/plain": "array(['Alan Greenspan', 'Ben Bernanke', 'Janet Yellen', 'Jerome Powell',\n       'other'], dtype=object)"
     },
     "execution_count": 4,
     "metadata": {},
     "output_type": "execute_result"
    }
   ],
   "source": [
    "df_minutes[\"speaker\"].unique()"
   ],
   "metadata": {
    "collapsed": false,
    "pycharm": {
     "name": "#%%\n"
    }
   }
  },
  {
   "cell_type": "code",
   "execution_count": 5,
   "outputs": [],
   "source": [
    "df_speech.dropna(inplace=True)\n",
    "df_statement.dropna(inplace=True)\n",
    "df_minutes.dropna(inplace=True)\n",
    "df_can.dropna(inplace=True)"
   ],
   "metadata": {
    "collapsed": false,
    "pycharm": {
     "name": "#%%\n"
    }
   }
  },
  {
   "cell_type": "code",
   "execution_count": 6,
   "outputs": [
    {
     "data": {
      "text/plain": "            date                                           contents  \\\n0     1996-06-13  Remarks by Chairman Alan Greenspan\\nBank super...   \n3     1996-09-19  Remarks by Chairman Alan Greenspan\\nRegulation...   \n5     1996-10-05  Remarks by Chairman Alan Greenspan\\nBank super...   \n6     1996-10-07  Remarks by Chairman Alan Greenspan\\nU.S. Treas...   \n9     1996-10-16  Remarks by Chairman Alan Greenspan\\nTechnologi...   \n...          ...                                                ...   \n1574  2022-05-24  The Federal Reserve, the central bank of the U...   \n1575  2022-05-24  The Federal Reserve, the central bank of the U...   \n1579  2022-06-17  The Federal Reserve, the central bank of the U...   \n1588  2022-08-26  The Federal Reserve, the central bank of the U...   \n1594  2022-09-28  The Federal Reserve, the central bank of the U...   \n\n                      speaker  \\\n0     Chairman Alan Greenspan   \n3     Chairman Alan Greenspan   \n5     Chairman Alan Greenspan   \n6     Chairman Alan Greenspan   \n9     Chairman Alan Greenspan   \n...                       ...   \n1574   Chair Jerome H. Powell   \n1575   Chair Jerome H. Powell   \n1579   Chair Jerome H. Powell   \n1588   Chair Jerome H. Powell   \n1594   Chair Jerome H. Powell   \n\n                                                  title  \n0                   Bank supervision in a world economy  \n3             Regulation and electronic payment systems  \n5                Bank supervision, regulation, and risk  \n6     U.S. Treasury securities market: Lessons from ...  \n9               Technological advances and productivity  \n...                                                 ...  \n1574                                              Video  \n1575                                  Welcoming Remarks  \n1579                                  Welcoming Remarks  \n1588                Monetary Policy and Price Stability  \n1594                                  Welcoming Remarks  \n\n[563 rows x 4 columns]",
      "text/html": "<div>\n<style scoped>\n    .dataframe tbody tr th:only-of-type {\n        vertical-align: middle;\n    }\n\n    .dataframe tbody tr th {\n        vertical-align: top;\n    }\n\n    .dataframe thead th {\n        text-align: right;\n    }\n</style>\n<table border=\"1\" class=\"dataframe\">\n  <thead>\n    <tr style=\"text-align: right;\">\n      <th></th>\n      <th>date</th>\n      <th>contents</th>\n      <th>speaker</th>\n      <th>title</th>\n    </tr>\n  </thead>\n  <tbody>\n    <tr>\n      <th>0</th>\n      <td>1996-06-13</td>\n      <td>Remarks by Chairman Alan Greenspan\\nBank super...</td>\n      <td>Chairman Alan Greenspan</td>\n      <td>Bank supervision in a world economy</td>\n    </tr>\n    <tr>\n      <th>3</th>\n      <td>1996-09-19</td>\n      <td>Remarks by Chairman Alan Greenspan\\nRegulation...</td>\n      <td>Chairman Alan Greenspan</td>\n      <td>Regulation and electronic payment systems</td>\n    </tr>\n    <tr>\n      <th>5</th>\n      <td>1996-10-05</td>\n      <td>Remarks by Chairman Alan Greenspan\\nBank super...</td>\n      <td>Chairman Alan Greenspan</td>\n      <td>Bank supervision, regulation, and risk</td>\n    </tr>\n    <tr>\n      <th>6</th>\n      <td>1996-10-07</td>\n      <td>Remarks by Chairman Alan Greenspan\\nU.S. Treas...</td>\n      <td>Chairman Alan Greenspan</td>\n      <td>U.S. Treasury securities market: Lessons from ...</td>\n    </tr>\n    <tr>\n      <th>9</th>\n      <td>1996-10-16</td>\n      <td>Remarks by Chairman Alan Greenspan\\nTechnologi...</td>\n      <td>Chairman Alan Greenspan</td>\n      <td>Technological advances and productivity</td>\n    </tr>\n    <tr>\n      <th>...</th>\n      <td>...</td>\n      <td>...</td>\n      <td>...</td>\n      <td>...</td>\n    </tr>\n    <tr>\n      <th>1574</th>\n      <td>2022-05-24</td>\n      <td>The Federal Reserve, the central bank of the U...</td>\n      <td>Chair Jerome H. Powell</td>\n      <td>Video</td>\n    </tr>\n    <tr>\n      <th>1575</th>\n      <td>2022-05-24</td>\n      <td>The Federal Reserve, the central bank of the U...</td>\n      <td>Chair Jerome H. Powell</td>\n      <td>Welcoming Remarks</td>\n    </tr>\n    <tr>\n      <th>1579</th>\n      <td>2022-06-17</td>\n      <td>The Federal Reserve, the central bank of the U...</td>\n      <td>Chair Jerome H. Powell</td>\n      <td>Welcoming Remarks</td>\n    </tr>\n    <tr>\n      <th>1588</th>\n      <td>2022-08-26</td>\n      <td>The Federal Reserve, the central bank of the U...</td>\n      <td>Chair Jerome H. Powell</td>\n      <td>Monetary Policy and Price Stability</td>\n    </tr>\n    <tr>\n      <th>1594</th>\n      <td>2022-09-28</td>\n      <td>The Federal Reserve, the central bank of the U...</td>\n      <td>Chair Jerome H. Powell</td>\n      <td>Welcoming Remarks</td>\n    </tr>\n  </tbody>\n</table>\n<p>563 rows × 4 columns</p>\n</div>"
     },
     "execution_count": 6,
     "metadata": {},
     "output_type": "execute_result"
    }
   ],
   "source": [
    "df_speech[df_speech[\"speaker\"].str.contains(pat='Bernanke|Powell|Yellen|Greenspan', regex=True)]"
   ],
   "metadata": {
    "collapsed": false,
    "pycharm": {
     "name": "#%%\n"
    }
   }
  },
  {
   "cell_type": "markdown",
   "source": [
    "On veut conserver seulement les textes présentés par les \"Governor\""
   ],
   "metadata": {
    "collapsed": false,
    "pycharm": {
     "name": "#%% md\n"
    }
   }
  },
  {
   "cell_type": "code",
   "execution_count": 7,
   "outputs": [],
   "source": [
    "def filter_president_only(df: pd.DataFrame) -> pd.DataFrame:\n",
    "    return df[df[\"speaker\"].str.contains(pat='Bernanke|Powell|Yellen|Greenspan', regex=True)]"
   ],
   "metadata": {
    "collapsed": false,
    "pycharm": {
     "name": "#%%\n"
    }
   }
  },
  {
   "cell_type": "code",
   "execution_count": 8,
   "outputs": [],
   "source": [
    "df_speech = filter_president_only(df_speech)\n",
    "df_statement = filter_president_only(df_speech)\n",
    "df_minutes = filter_president_only(df_speech)"
   ],
   "metadata": {
    "collapsed": false,
    "pycharm": {
     "name": "#%%\n"
    }
   }
  },
  {
   "cell_type": "code",
   "execution_count": 9,
   "outputs": [
    {
     "data": {
      "text/plain": "\"The Federal Reserve, the central bank of the United States, provides\\n          the nation with a safe, flexible, and stable monetary and financial\\n          system.\\n\\n[SECTION]\\n\\nFederal Open Market Committee\\n\\n[SECTION]\\n\\nMonetary Policy Principles and Practice\\n\\n[SECTION]\\n\\nPolicy Implementation\\n\\n[SECTION]\\n\\nReports\\n\\n[SECTION]\\n\\nReview of Monetary Policy Strategy, Tools, and\\n                    Communications\\n\\n[SECTION]\\n\\nInstitution Supervision\\n\\n[SECTION]\\n\\nReports\\n\\n[SECTION]\\n\\nReporting Forms\\n\\n[SECTION]\\n\\nSupervision & Regulation Letters\\n\\n[SECTION]\\n\\nBanking Applications & Legal Developments\\n\\n[SECTION]\\n\\nRegulatory Resources\\n\\n[SECTION]\\n\\nBanking & Data Structure\\n\\n[SECTION]\\n\\nFinancial Stability Assessments\\n\\n[SECTION]\\n\\nFinancial Stability Coordination & Actions\\n\\n[SECTION]\\n\\nReports\\n\\n[SECTION]\\n\\nRegulations & Statutes\\n\\n[SECTION]\\n\\nPayment Policies\\n\\n[SECTION]\\n\\nReserve Bank Payment Services & Data\\n\\n[SECTION]\\n\\nFinancial Market Utilities & Infrastructures\\n\\n[SECTION]\\n\\nResearch, Committees, and Forums\\n\\n[SECTION]\\n\\nWorking Papers and Notes\\n\\n[SECTION]\\n\\nData, Models and Tools\\n\\n[SECTION]\\n\\nBank Assets and Liabilities\\n\\n[SECTION]\\n\\nBank Structure Data\\n\\n[SECTION]\\n\\nBusiness Finance\\n\\n[SECTION]\\n\\nDealer Financing Terms\\n\\n[SECTION]\\n\\nExchange Rates and International Data\\n\\n[SECTION]\\n\\nFinancial Accounts\\n\\n[SECTION]\\n\\nHousehold Finance\\n\\n[SECTION]\\n\\nIndustrial Activity\\n\\n[SECTION]\\n\\nInterest Rates\\n\\n[SECTION]\\n\\nMicro Data Reference Manual (MDRM)\\n\\n[SECTION]\\n\\nMoney Stock and Reserve Balances\\n\\n[SECTION]\\n\\nOther\\n\\n[SECTION]\\n\\nRegulations\\n\\n[SECTION]\\n\\nSupervisionÂ\\xa0& Enforcement\\n\\n[SECTION]\\n\\nCommunity Development\\n\\n[SECTION]\\n\\nResearchÂ\\xa0& Analysis\\n\\n[SECTION]\\n\\nConsumer Resources\\n\\n[SECTION]\\n\\nSeptember 28, 2022\\n\\n[SECTION]\\n\\nChair Jerome H. Powell\\n\\n[SECTION]\\n\\nAt the 2022 Community Banking Research Conference, sponsored by the Federal Reserve, the Conference of State Bank Supervisors,  and the Federal Deposit Insurance Corporation, St. Louis, Missouri (via pre-recorded video)\\n\\n[SECTION]\\n\\nAccessible Keys for Video\\n\\n[SECTION]\\n\\n[Space Bar] toggles play/pause;\\n\\n[SECTION]\\n\\n[Right/Left Arrows] seeks the video forwards and back (5 sec );\\n\\n[SECTION]\\n\\n[Up/Down Arrows] increase/decrease volume;\\n\\n[SECTION]\\n\\n[M] toggles mute on/off;\\n\\n[SECTION]\\n\\n[F] toggles fullscreen on/off (Except IE 11);\\n\\n[SECTION]\\n\\nThe [Tab] key may be used in combination with the [Enter/Return] key to navigate and activate control buttons, such as caption on/off.\\n\\n[SECTION]\\n\\nGood morning, and welcome to the 10th annual Community Banking Research Conference. I have attended this conference twice before, including the first one back in 2013, and I can attest to the quality of the research and discussions. While I am coming to you virtually today, many of you are gathering in person for the first time in three years. I am sure it will make an excellent event even more enjoyable.\\n\\n[SECTION]\\n\\nThe Community Banking Research Conference brings together researchers, regulators, policymakers, and community bankers to discuss the unique and important role community banks play in our economy. The conference was launched in the years following the financial crisis, in a collaboration by the Federal Reserve, the Conference of State Bank Supervisors (CSBS), and the Federal Deposit Insurance Corporation (FDIC). The conference was developed to deepen our understanding of the community bank business model and to provide a forum to discuss research with academics, policymakers, regulators, and community bankers.\\n\\n[SECTION]\\n\\nThe research presented over the years has informed supervisory and regulatory policy debates and continues to challenge our thinking. It has highlighted the vital links between community banks and small businesses, the availability of credit in low- and moderate-income communities, how community banks support their local communities in times of crisis, and the impact of technology.\\n\\n[SECTION]\\n\\nA critical feature of the research sessions is that community bankers join academic moderators to provide feedback from a practitioner's perspective. The challenges facing community banks have changed significantly over the past 10 years. Community banks have demonstrated remarkable resilience, and conferences like this have helped regulators and supervisors to better understand those changes.\\n\\n[SECTION]\\n\\nI want to congratulate the Federal Reserve Bank of St. Louis for a decade of hosting an important and informative conference.\\n\\n[SECTION]\\n\\nAnd I want to thank our colleagues at the Fed, the FDIC, and the Conference of State Bank Supervisors. On a sadder note, I want to recognize the passing of John Ryan, who was president of the CSBS, this past May. John's impact on the CSBS and his contributions to the financial services sector overall were significant, and he is missed by all who knew and worked with him.\\n\\n[SECTION]\\n\\nThanks also to the researchers and all the community banking professionals for their insight and contributions over the years.\\n\\n[SECTION]\\n\\nThank you all, and have a great conference.\\n\\n[SECTION]\\n\\nBoard of Governors of the Federal Reserve System\\n\\n[SECTION]\\n\\n20th Street and Constitution Avenue N.W., Washington, DC 20551\""
     },
     "execution_count": 9,
     "metadata": {},
     "output_type": "execute_result"
    }
   ],
   "source": [
    "df_minutes[\"contents\"].iloc[-1]"
   ],
   "metadata": {
    "collapsed": false,
    "pycharm": {
     "name": "#%%\n"
    }
   }
  },
  {
   "cell_type": "code",
   "execution_count": 10,
   "outputs": [],
   "source": [
    "def clean_speech_text(df: pd.DataFrame):\n",
    "    df_new = df.copy()\n",
    "    full_text_col = df_new[\"contents\"].apply \\\n",
    "        (lambda x: x.replace('\\n\\n[SECTION]\\n\\n', '').replace('\\n', ' ').replace('\\r', ' ').strip())\n",
    "    full_text_col = full_text_col.apply(lambda x: re.sub(r'(http)\\S+(htm)(l)?', '', x))\n",
    "    full_text_col = full_text_col.apply(lambda x: re.sub(r'(www.)\\S+', '', x))\n",
    "    full_text_col = full_text_col.apply(lambda x: re.sub(r'[\\d]', '', x))\n",
    "    full_text_col = full_text_col.str.replace('—', ' ')\n",
    "    full_text_col = full_text_col.str.replace('-', ' ')\n",
    "    full_text_col = full_text_col.apply(lambda x: re.sub(r'[^\\w\\s]', '', x))\n",
    "    full_text_col = full_text_col.apply(lambda x: re.sub(r'([Rr]eturn to text)', '', x))\n",
    "    full_text_col = full_text_col.apply(lambda x: re.sub(r'([Pp]lay [vV]ideo)', '', x))\n",
    "    full_text_col = full_text_col.apply(lambda x: re.sub(r'function()', '', x))\n",
    "    full_text_col = full_text_col.apply(lambda x: re.sub(r'/[^\\s]{15,}/', '', x))\n",
    "    df_new.drop(labels='contents', axis=\"columns\", inplace=True)\n",
    "    df_new['contents'] = full_text_col\n",
    "    return df_new"
   ],
   "metadata": {
    "collapsed": false,
    "pycharm": {
     "name": "#%%\n"
    }
   }
  },
  {
   "cell_type": "code",
   "execution_count": 11,
   "outputs": [],
   "source": [
    "df_minutes = clean_speech_text(df_minutes)\n",
    "df_speech = clean_speech_text(df_speech)\n",
    "df_statement = clean_speech_text(df_statement)\n",
    "\n"
   ],
   "metadata": {
    "collapsed": false,
    "pycharm": {
     "name": "#%%\n"
    }
   }
  },
  {
   "cell_type": "code",
   "execution_count": 12,
   "outputs": [
    {
     "data": {
      "text/plain": "'Remarks by Chairman Alan Greenspan US Treasury securities market Lessons from Alexander Hamilton At the Annual Public Service Awards Dinner of the Public Securities Association New York New York October  I thank the members of the Public Securities Association for bestowing upon me this award for distinguished public service  I am particularly honored by the company that I keep as a winner of this award as previous recipients have included Senators Daniel Patrick Moynihan Christopher Dodd and Kay Bailey Hutchison and my predecessor as Chairman of the Federal Reserve Paul VolckerI trust that everyone in this audience would agree that the US government securities market works as well as any on earth and generates widespread macroeconomic benefits  In one sense that is regrettable  The market has become so efficient in part because of the  economies of scale associated with the large volume of Treasury debt issued over the years  While the massive federal debt has allowed traders to refine their skills it has also implied that much of the small pool of national saving has gone toward funding the government  Moreover the interest burden of this debt has kept tax rates higher than we might have wantedIn another sense though the efficiency of the government securities market stands as testimony to decisions by policymakers in the formative days of our nation that convinced the world that the United States honored its commitments and valued the rule of law  Every time I visit Secretary Robert Rubin I am reminded of the power of the decisions of the first Secretary of the Treasury that laid the foundations for this nations financial credibility  Engraved at the base of the statue of Alexander Hamilton outside the Treasury building are the words of Daniel Webster He touched the dead corpse of the public credit and it sprung upon its feetEveryone knows the short version of the events that prompted that praise  Hamilton convinced the new Congress to honor the debts of the Continental Congress  Under his prodding the federal government also assumed responsibility for the debts of the individual states incurred in fighting the War of Independence  But there are five details of the debate at that time that we all would be well served to rememberFirst Hamilton insisted on full payment of the debt  Many at that time counseled discrimination among those obligations  perhaps by favoring vendors and veterans over bond holders or perhaps by paying original holders of debt more than those who purchased securities in the secondary market  Hamilton recognized that an obligation was an obligation no matter how it was incurred or who held it  Repayment had both a moral and a practical dimension  The debt in Hamiltons words was the price of liberty because it financed the successful completion of the War of Independence  Those who extended aid at a time of peril or supported the debt subsequently deserved to be repaid  But repayment would also send an important message to investors particularly those abroad that the United States could be trusted in the future  Hamilton recognized and we should never forget that investors have many choices on world markets  Even the whiff of the possibility that the United States would not honor its debt would push up the cost of borrowing for years to come  Following Hamiltons lead the Treasury has never defaulted on any debt security notwithstanding the abrogation of the gold clauses in Second Hamilton was practical in his understanding that economic policymaking cannot be divorced from the broader discourse on public priorities  The debate on the assumption of state debts generated arguments so heated as to make our weekend television talk shows appear as civil as tea parties  Reflecting on those days in his later years Thomas Jefferson  by no means an admirer of the first Secretary of the Treasury  was led to write that this measure produced the most bitter and angry contest ever known in Congress before or since the Union of the States  But those bitter enemies Hamilton and Jefferson compromised with an old fashioned horse trade  Jefferson threw his support behind the assumption of the state debts in return for Hamiltons advocacy of placing the nations capital on the banks of the PotomacPolitical realities have not changed in that regard in the succeeding two centuries  It is inevitable that consideration of the budget be included as part of a wider debate on public policies  However Alexander Hamilton drew a line that no one should cross  The government of the United States must never default on its debtFourth Hamiltons refunding scheme provided for the issuance of securities of long maturity that would be repaid in specie  Thus his Treasury locked in longer term funding and did not have to test continually the markets willingness to finance the new government  At the same time investors were given some assurance that holding government securities would preserve their purchasing power  Those same incentives have led our present day Treasury to issue securities across a wide range of maturities and I am pleased to note to begin soon to offer debt indexed to consumer pricesFifth and this should come as no surprise from one of the authors of the Federalist Papers Hamilton explained his policies in well written logically constructed arguments that remain a pleasure to read even two hundred years laterHamiltons lessons speak across the generations both to policymakers in mature democracies and those coping as he did with financing newly independent states  If we are to protect his creation the US Treasury market we must remember two facts he could not afford to forget  For one buyers of Treasury securities do so through their own volition  Investors have alternatives and more so now than ever before  For another the issuer of those securities the US Treasury must finance an amount on net that is determined by the political judgments of the congressional and executive branches of government  If the government makes purchasing its debt harder  by imposing onerous reporting or bookkeeping requirements  or riskier  by following capricious macroeconomic policies  buyers will pull back and the cost of servicing the debt will rise  We at the Federal Reserve will do our part to contribute to financial stability which is to preserve the purchasing power of money over timeTo be sure the dollar sums that preoccupied Alexander Hamilton were small  The national debt totaled  million or  per capita  But the issues at stake were large  I can only hope that by following his precedent todays policymakers show some of the same wisdom in dealing with the public debtReturn to top Speeches     Home  News and events  Accessibility  Contact Us  Last update October    AM   var js  window__CFcvparamsrcfbmFyqC_AUptDMHtQWtvpkWSPsPutkFeKpzGIejHk   AfbKzoJdPHtSrUsfGcWYONkMrqnVcawjVMLRDZIcpMtlHuhvaJzntFstYNiciOVgFngZzJAlVEUTmdIAjpewWQlcCgZwaaqMiCbqJqwvIbNTwYWnuLAqbNNbMnPVqdHBlUsxigHxiMbsxdbaxducdn cgichallenge platformhgvar nowDatenowoffsettsMathfloornow Mathfloornowoffset_cpodocumentcreateElementscript_cpononce_cposrccdn cgichallenge platformhgscriptsalphainvisiblejststsdocumentgetElementsByTagNameheadappendChild_cpovar _xh  documentcreateElementiframe_xhheight  _xhwidth  _xhstyleposition  absolute_xhstyletop  _xhstyleleft  _xhstyleborder  none_xhstylevisibility  hiddendocumentbodyappendChild_xh handler var _xi  _xhcontentDocument  _xhcontentWindowdocumentif _xi var _xj  _xicreateElementscript_xjnonce  _xjinnerHTML  js_xigetElementsByTagNameheadappendChild_xjif documentreadyState  loading handler else if windowaddEventListener documentaddEventListenerDOMContentLoaded handler else var prev  documentonreadystatechange    documentonreadystatechange   e preveif documentreadyState  loading documentonreadystatechange  prevhandler'"
     },
     "execution_count": 12,
     "metadata": {},
     "output_type": "execute_result"
    }
   ],
   "source": [
    "df_minutes[\"contents\"].iloc[3]"
   ],
   "metadata": {
    "collapsed": false,
    "pycharm": {
     "name": "#%%\n"
    }
   }
  },
  {
   "cell_type": "code",
   "execution_count": 13,
   "outputs": [],
   "source": [
    "def find_start_speech(text: str):\n",
    "    try:\n",
    "        idx_start = re.search(\"Share\", text).start()\n",
    "        return text[idx_start + 5:]\n",
    "    except:\n",
    "        return text\n"
   ],
   "metadata": {
    "collapsed": false,
    "pycharm": {
     "name": "#%%\n"
    }
   }
  },
  {
   "cell_type": "code",
   "execution_count": 14,
   "outputs": [],
   "source": [
    "def replace_white_spaces(text: str):\n",
    "    return \" \".join(text.split())\n",
    "\n",
    "df_statement[\"contents\"] = df_statement['contents'].apply(lambda x: replace_white_spaces(x))\n",
    "df_speech[\"contents\"] = df_speech['contents'].apply(lambda x: replace_white_spaces(x))\n",
    "df_minutes[\"contents\"] = df_minutes['contents'].apply(lambda x: replace_white_spaces(x))"
   ],
   "metadata": {
    "collapsed": false,
    "pycharm": {
     "name": "#%%\n"
    }
   }
  },
  {
   "cell_type": "code",
   "execution_count": 15,
   "outputs": [
    {
     "data": {
      "text/plain": "'It is a pleasure to be with you this afternoon as you discuss some of the most fundamental issues raised by our new information and communications technologiesThe topic Senator Bennett has asked us all to address is privacy in the information age The central dilemma in these discussions almost always involves fundamental choices about how to strike prudent balances among the needs of individuals for privacy in their financial and commercial transactions as well as their personal communications the needs of commerce to bring us new products and new means to communicate and the needs of the authorities to provide for the effective administration of government and to ensure the public safety These are not easy choices I think we all need to have a healthy respect for all sides of the debate Even further we need to be aware that the balances we strike in one era may need to be reexamined as technology and circumstances changeThe dictionary defines privacy as the state of being free from unsanctioned intrusion This concept to which Americans feel a very deep seated attachment is reflected in the Fourth Amendment to the Constitution which assures The right of the people to be secure in their persons houses papers and effects against unreasonable searches and seizures For the government to intrude on ones privacy is in a very fundamental sense a deprivation of freedom It is one of those deeply sensed issues that transcends peoples constitutional or legal views and delves into the realm of ones sense of personThis is why the perceived threat to privacy from burgeoning technological advance coupled with an increasing sense of inefficacy in the face of sophisticated new technologies has created such a stir The fears of invasion of privacy as a consequence of inexorable forces seemingly out of the control of the average American has risen to a major public policy issueA half century ago a number of writers expressed concern at a perceived ever widening intrusion of government into the lives of individuals They feared the ultimate collectivization of our society where individualism would be significantly diminished or expunged and the emergence of Big Brother would come to define and dominate our lives the year as well as the book made famous by George Orwell in have come and gone The outreach of government if anything has receded especially with respect to the issues of personal liberty and its concomitant personal privacyI suspect that the fear of Big Technology when it arrives will travel the less threatening route of Big Brother before itIn preparation for addressing that issue I believe it would be useful to examine some of the interesting dimensions of the concept of privacy and its application to how human society arranges itself Indeed when it comes to the issue of privacy humans are distinctly ambivalent Greta Garbo made an institution of wanting to be alone Yet at the same time human beings have always sought and presumably needed the presence of others in organizing their societies even before we economists came on the scene to inform them about the benefits of the division of laborBut the various paradigms by which we have chosen to organize ourselves were closely tied to how we viewed the relative value of individualism and its precondition the implicit need for privacy In recent generations the major competing forms of government of course have been a system based on individual rights with the role of the state largely directed at protecting those rights the United States being the most prominent example of that form of government and the now defunct Soviet Union and its eastern European satellites which were the model of communist collectivization In the latter the individual was theoretically subject to the will of the collective but in reality subjugated by an elite autocratic hierarchyIn the Soviet system rights inhered in the collective which immediately dismisses by definition any right to privacy State intrusiveness in the form of the KGB or the Stasi eviscerated any wall of personal separation that citizens may have soughtBut in the end that form of government did not probably could not succeed The human need for personal expression property and privacy doubtless were significant in undermining those collectivist states Indeed since the end of World War II we have had as close as one can come to a controlled experiment in the comparative effectiveness of alternate forms of government organization I refer to the extraordinary divergence in post war recovery patterns observed between West and East Germany Both were rooted in the same historic culture and institutions differing virtually only in the form of political and economic organization which were adopted by those societies at wars end Almost a half century later when the Berlin Wall was torn down the results of this remarkable experiment vividly and unqualifiedly attested to the superiority of the West German free market system based on individual rights a system where people lived with minimum fear of the states intrusion into their daily lives In East Germany in contrast to assure that society was appropriately collectivized it was necessary to probe into the private lives of all individuals and suppress individual freedoms Human beings had to be molded by force to achieve the East German leaders distorted view of societal organization Privacy was scarcely the goal or purpose of the East German state Indeed intrusiveness into the lives of all of the citizens was perceived to be an essential ingredient in its organizationThe political and economic results of the post war competition between East and West generally have been unequivocal The free market capitalism of West Germany has been judged superior in all relevant respects with very few dissenting from that conclusion The human need for privacy surely was a major factor in that outcomeTo be sure our newer information technologies can scarcely be perceived as the type of threat to privacy as that of the Soviet state Nonetheless the same pressing need for privacy which helped upend the Soviet Union can be expected to address and overcome concerns that our newer technologies will intrude on our cherished need for privacy Communism fell because its practice eliminated personal incentives to work and to acquire property except in a very limited sense The existence of such incentives requires the broad freedoms we enjoy to pursue our myriad personal goals It was the deprivation of these incentives and the suppressing of competition among individuals the hallmark of a growing economy which brought Communism downSince privacy is such an evident value in our society where technology threatens that value entrepreneurs can be counted on to seek means to defend it The major resources they have devoted to encryption in the development of new communication systems attest to the economic value they place on privacy in communications Moreover the pressures to enact legal prohibitions on the dissemination of personal records will also create incentives to produce technologies that protect them Indeed the most effective means to counter technologys erosion of privacy is technology itselfThe marketplace is burgeoning with new devices to this end These devices of course include the many advances for encrypting and filtering information We may even see the deployment of technologies that permit individuals to make choices calibrating their degree of privacy in conducting individual transactionsWith some irony even some of the ability of the government to pursue protection of individual rights is being impaired by effective encryption This leads to the important question of how to balance the legitimate expectations of individuals for privacy with the needs of government for information to effectively administer the laws and provide for the public safety The most delicate care is needed in this regard to prevent unnecessary intrusion when specific government decisions are implemented and to avoid the risk of a gradual long term erosion of privacyBeyond these issues are immediate questions about privacy in the delivery of professional commercial and financial services over open computer networks as well as personal communications through devices such as e mail For example there are typically strong assumptions about privacy surrounding medical legal and financial communications and records These assumptions are designed to safeguard the autonomy of the individual and to facilitate a society where special expertise can be developed and called upon when necessary to promote the individuals welfare It would be a strange outcome indeed if traditional notions of privacy applied only at the physical office of the doctor lawyer or banker but not when modern computer technologies were employed to make professional services available at lower cost and with greater convenienceIt may be that some services and communications channels will be used regardless of what privacy guarantees are provided Providing medical advice by computer network to rural areas with no resident doctors may be one example More common services however such as certain cellular telephone technologies and the use of e mail over the Internet are subject to less privacy than some other modes of communication although extensive efforts are currently being directed to address that The growing use of credit cards without security measures to pay for goods and services over open networks is another exampleClearly as these examples demonstrate privacy concerns may be outweighed if only for the moment by other factors such as cost and convenience However given choices in the marketplace that include price quality and differing degrees of privacy I have little doubt that privacy would be valued and sought afterIn the financial sphere the payment systems of the United States present a paradox Our systems and banking arrangements for handling high value dollar payments are all electronic and have been for many years Banking records including those for loans and deposits have been computerized since the s Securities markets also now rely on highly automated records and systems born out of necessity following the paperwork crisis of the sThus it might seem strange that in transactions initiated by consumers paper currency and checks remains the payment system of choice Debit and ATM cards along with automated clearing house payments account for a very small percentage of transactions Even the use of popular credit cards has only recently begun to challenge papers dominance While there are many other factors involved in this anomaly the value of privacy of transaction has clearly been a significant determinantPaper currency is of course the ultimate protector of anonymity for making ordinary payments at the retail level It is thus a measure of how valued is privacy in our system that inroads into the use of currency have been slow and halting in the face of technologies one would assume would have quickly buried the presumed inefficiency of paper transactionsTo be sure checks leave a paper trail which can compromise privacy but it is a less efficient and accessible trail than when available newer technologies are used Clearly then the value of privacy of transactions that currency and to a somewhat lesser extent checks provide is a measure of the economic cost individuals are willing to expend when far superior efficiencies are at handNonetheless the marketplace is currently investing large sums to develop new means to automate payments as well as other retail banking and financial transactions Projects for creating stored value cards and Internet based payment systems for example are being discussed around the world Again as in the s articles are being written and conferences are being held to pronounce the end of paper They may again prove prematureIt is clear however that security and privacy will be very important if confidence is to be established in these new systems Indeed in many privacy of communication is a necessary requirement Many projects are evolving daily to meet the business requirements of potential operators and the potential service needs of businesses and consumersThere is a significant need for flexibility in allowing these technologies to adapt and grow in response to pressures in the marketplace There is also a need to avoid building formal or burdensome regulatory systems on the shifting sands of project proposals If we wish to foster innovation we must be careful not to impose rules that inhibit it I am especially concerned that we not attempt to impede unduly our newest innovation electronic money or more generally our increasingly broad electronic payments system To develop new forms of payment the private sector will need the flexibility to experiment without broad interference by the governmentOur most intriguing challenge is whether new technologies can provide improved financial services and at the same time provide greater privacy and related benefits Flexibility by industry consumers and government may help make such overall advances possibleFinally I want to emphasize that the information age is not something to be feared but may well be a vast opportunity Personal computers an array of software and new communications channels have placed powerful and creative technologies directly into the hands of individuals The current enthusiasm of society for science and technology particularly among young people holds great promise for the future If history is any guide it is from this enthusiasm that the future will be bornReturn to top Speeches Home News and events Accessibility Contact Us Last update March PM'"
     },
     "execution_count": 15,
     "metadata": {},
     "output_type": "execute_result"
    }
   ],
   "source": [
    "df_statement[\"contents\"].iloc[10]"
   ],
   "metadata": {
    "collapsed": false,
    "pycharm": {
     "name": "#%%\n"
    }
   }
  },
  {
   "cell_type": "code",
   "execution_count": 16,
   "outputs": [],
   "source": [
    "df_statement[\"contents\"] = df_statement['contents'].apply(lambda x: find_start_speech(x))\n",
    "df_speech[\"contents\"] = df_speech['contents'].apply(lambda x: find_start_speech(x))\n",
    "df_minutes[\"contents\"] = df_minutes['contents'].apply(lambda x: find_start_speech(x))\n",
    "\n"
   ],
   "metadata": {
    "collapsed": false,
    "pycharm": {
     "name": "#%%\n"
    }
   }
  },
  {
   "cell_type": "code",
   "execution_count": 17,
   "outputs": [
    {
     "data": {
      "text/plain": "'It is a pleasure to be with you this afternoon as you discuss some of the most fundamental issues raised by our new information and communications technologiesThe topic Senator Bennett has asked us all to address is privacy in the information age The central dilemma in these discussions almost always involves fundamental choices about how to strike prudent balances among the needs of individuals for privacy in their financial and commercial transactions as well as their personal communications the needs of commerce to bring us new products and new means to communicate and the needs of the authorities to provide for the effective administration of government and to ensure the public safety These are not easy choices I think we all need to have a healthy respect for all sides of the debate Even further we need to be aware that the balances we strike in one era may need to be reexamined as technology and circumstances changeThe dictionary defines privacy as the state of being free from unsanctioned intrusion This concept to which Americans feel a very deep seated attachment is reflected in the Fourth Amendment to the Constitution which assures The right of the people to be secure in their persons houses papers and effects against unreasonable searches and seizures For the government to intrude on ones privacy is in a very fundamental sense a deprivation of freedom It is one of those deeply sensed issues that transcends peoples constitutional or legal views and delves into the realm of ones sense of personThis is why the perceived threat to privacy from burgeoning technological advance coupled with an increasing sense of inefficacy in the face of sophisticated new technologies has created such a stir The fears of invasion of privacy as a consequence of inexorable forces seemingly out of the control of the average American has risen to a major public policy issueA half century ago a number of writers expressed concern at a perceived ever widening intrusion of government into the lives of individuals They feared the ultimate collectivization of our society where individualism would be significantly diminished or expunged and the emergence of Big Brother would come to define and dominate our lives the year as well as the book made famous by George Orwell in have come and gone The outreach of government if anything has receded especially with respect to the issues of personal liberty and its concomitant personal privacyI suspect that the fear of Big Technology when it arrives will travel the less threatening route of Big Brother before itIn preparation for addressing that issue I believe it would be useful to examine some of the interesting dimensions of the concept of privacy and its application to how human society arranges itself Indeed when it comes to the issue of privacy humans are distinctly ambivalent Greta Garbo made an institution of wanting to be alone Yet at the same time human beings have always sought and presumably needed the presence of others in organizing their societies even before we economists came on the scene to inform them about the benefits of the division of laborBut the various paradigms by which we have chosen to organize ourselves were closely tied to how we viewed the relative value of individualism and its precondition the implicit need for privacy In recent generations the major competing forms of government of course have been a system based on individual rights with the role of the state largely directed at protecting those rights the United States being the most prominent example of that form of government and the now defunct Soviet Union and its eastern European satellites which were the model of communist collectivization In the latter the individual was theoretically subject to the will of the collective but in reality subjugated by an elite autocratic hierarchyIn the Soviet system rights inhered in the collective which immediately dismisses by definition any right to privacy State intrusiveness in the form of the KGB or the Stasi eviscerated any wall of personal separation that citizens may have soughtBut in the end that form of government did not probably could not succeed The human need for personal expression property and privacy doubtless were significant in undermining those collectivist states Indeed since the end of World War II we have had as close as one can come to a controlled experiment in the comparative effectiveness of alternate forms of government organization I refer to the extraordinary divergence in post war recovery patterns observed between West and East Germany Both were rooted in the same historic culture and institutions differing virtually only in the form of political and economic organization which were adopted by those societies at wars end Almost a half century later when the Berlin Wall was torn down the results of this remarkable experiment vividly and unqualifiedly attested to the superiority of the West German free market system based on individual rights a system where people lived with minimum fear of the states intrusion into their daily lives In East Germany in contrast to assure that society was appropriately collectivized it was necessary to probe into the private lives of all individuals and suppress individual freedoms Human beings had to be molded by force to achieve the East German leaders distorted view of societal organization Privacy was scarcely the goal or purpose of the East German state Indeed intrusiveness into the lives of all of the citizens was perceived to be an essential ingredient in its organizationThe political and economic results of the post war competition between East and West generally have been unequivocal The free market capitalism of West Germany has been judged superior in all relevant respects with very few dissenting from that conclusion The human need for privacy surely was a major factor in that outcomeTo be sure our newer information technologies can scarcely be perceived as the type of threat to privacy as that of the Soviet state Nonetheless the same pressing need for privacy which helped upend the Soviet Union can be expected to address and overcome concerns that our newer technologies will intrude on our cherished need for privacy Communism fell because its practice eliminated personal incentives to work and to acquire property except in a very limited sense The existence of such incentives requires the broad freedoms we enjoy to pursue our myriad personal goals It was the deprivation of these incentives and the suppressing of competition among individuals the hallmark of a growing economy which brought Communism downSince privacy is such an evident value in our society where technology threatens that value entrepreneurs can be counted on to seek means to defend it The major resources they have devoted to encryption in the development of new communication systems attest to the economic value they place on privacy in communications Moreover the pressures to enact legal prohibitions on the dissemination of personal records will also create incentives to produce technologies that protect them Indeed the most effective means to counter technologys erosion of privacy is technology itselfThe marketplace is burgeoning with new devices to this end These devices of course include the many advances for encrypting and filtering information We may even see the deployment of technologies that permit individuals to make choices calibrating their degree of privacy in conducting individual transactionsWith some irony even some of the ability of the government to pursue protection of individual rights is being impaired by effective encryption This leads to the important question of how to balance the legitimate expectations of individuals for privacy with the needs of government for information to effectively administer the laws and provide for the public safety The most delicate care is needed in this regard to prevent unnecessary intrusion when specific government decisions are implemented and to avoid the risk of a gradual long term erosion of privacyBeyond these issues are immediate questions about privacy in the delivery of professional commercial and financial services over open computer networks as well as personal communications through devices such as e mail For example there are typically strong assumptions about privacy surrounding medical legal and financial communications and records These assumptions are designed to safeguard the autonomy of the individual and to facilitate a society where special expertise can be developed and called upon when necessary to promote the individuals welfare It would be a strange outcome indeed if traditional notions of privacy applied only at the physical office of the doctor lawyer or banker but not when modern computer technologies were employed to make professional services available at lower cost and with greater convenienceIt may be that some services and communications channels will be used regardless of what privacy guarantees are provided Providing medical advice by computer network to rural areas with no resident doctors may be one example More common services however such as certain cellular telephone technologies and the use of e mail over the Internet are subject to less privacy than some other modes of communication although extensive efforts are currently being directed to address that The growing use of credit cards without security measures to pay for goods and services over open networks is another exampleClearly as these examples demonstrate privacy concerns may be outweighed if only for the moment by other factors such as cost and convenience However given choices in the marketplace that include price quality and differing degrees of privacy I have little doubt that privacy would be valued and sought afterIn the financial sphere the payment systems of the United States present a paradox Our systems and banking arrangements for handling high value dollar payments are all electronic and have been for many years Banking records including those for loans and deposits have been computerized since the s Securities markets also now rely on highly automated records and systems born out of necessity following the paperwork crisis of the sThus it might seem strange that in transactions initiated by consumers paper currency and checks remains the payment system of choice Debit and ATM cards along with automated clearing house payments account for a very small percentage of transactions Even the use of popular credit cards has only recently begun to challenge papers dominance While there are many other factors involved in this anomaly the value of privacy of transaction has clearly been a significant determinantPaper currency is of course the ultimate protector of anonymity for making ordinary payments at the retail level It is thus a measure of how valued is privacy in our system that inroads into the use of currency have been slow and halting in the face of technologies one would assume would have quickly buried the presumed inefficiency of paper transactionsTo be sure checks leave a paper trail which can compromise privacy but it is a less efficient and accessible trail than when available newer technologies are used Clearly then the value of privacy of transactions that currency and to a somewhat lesser extent checks provide is a measure of the economic cost individuals are willing to expend when far superior efficiencies are at handNonetheless the marketplace is currently investing large sums to develop new means to automate payments as well as other retail banking and financial transactions Projects for creating stored value cards and Internet based payment systems for example are being discussed around the world Again as in the s articles are being written and conferences are being held to pronounce the end of paper They may again prove prematureIt is clear however that security and privacy will be very important if confidence is to be established in these new systems Indeed in many privacy of communication is a necessary requirement Many projects are evolving daily to meet the business requirements of potential operators and the potential service needs of businesses and consumersThere is a significant need for flexibility in allowing these technologies to adapt and grow in response to pressures in the marketplace There is also a need to avoid building formal or burdensome regulatory systems on the shifting sands of project proposals If we wish to foster innovation we must be careful not to impose rules that inhibit it I am especially concerned that we not attempt to impede unduly our newest innovation electronic money or more generally our increasingly broad electronic payments system To develop new forms of payment the private sector will need the flexibility to experiment without broad interference by the governmentOur most intriguing challenge is whether new technologies can provide improved financial services and at the same time provide greater privacy and related benefits Flexibility by industry consumers and government may help make such overall advances possibleFinally I want to emphasize that the information age is not something to be feared but may well be a vast opportunity Personal computers an array of software and new communications channels have placed powerful and creative technologies directly into the hands of individuals The current enthusiasm of society for science and technology particularly among young people holds great promise for the future If history is any guide it is from this enthusiasm that the future will be bornReturn to top Speeches Home News and events Accessibility Contact Us Last update March PM'"
     },
     "execution_count": 17,
     "metadata": {},
     "output_type": "execute_result"
    }
   ],
   "source": [
    "df_speech[\"contents\"].iloc[10]"
   ],
   "metadata": {
    "collapsed": false,
    "pycharm": {
     "name": "#%%\n"
    }
   }
  },
  {
   "cell_type": "code",
   "execution_count": 20,
   "outputs": [],
   "source": [
    "load_model = spacy.load('en_core_web_sm')"
   ],
   "metadata": {
    "collapsed": false,
    "pycharm": {
     "name": "#%%\n"
    }
   }
  },
  {
   "cell_type": "code",
   "execution_count": 21,
   "outputs": [],
   "source": [
    "stopwords = load_model.Defaults.stop_words\n"
   ],
   "metadata": {
    "collapsed": false,
    "pycharm": {
     "name": "#%%\n"
    }
   }
  },
  {
   "cell_type": "code",
   "execution_count": 22,
   "outputs": [],
   "source": [
    "def apply_lemmatization(text: str):\n",
    "    doc = load_model(text)\n",
    "    return \" \".join([token.lemma_ for token in doc])"
   ],
   "metadata": {
    "collapsed": false,
    "pycharm": {
     "name": "#%%\n"
    }
   }
  },
  {
   "cell_type": "code",
   "execution_count": 23,
   "outputs": [],
   "source": [
    "N = 100"
   ],
   "metadata": {
    "collapsed": false,
    "pycharm": {
     "name": "#%%\n"
    }
   }
  },
  {
   "cell_type": "code",
   "execution_count": 24,
   "outputs": [],
   "source": [
    "df_statement[\"contents\"] = df_statement['contents'][-N:-1].apply(lambda x: apply_lemmatization(x))\n",
    "df_speech[\"contents\"] = df_speech['contents'][-N:-1].apply(lambda x: apply_lemmatization(x))\n",
    "df_minutes[\"contents\"] = df_minutes['contents'][-N:-1].apply(lambda x: apply_lemmatization(x))"
   ],
   "metadata": {
    "collapsed": false,
    "pycharm": {
     "name": "#%%\n"
    }
   }
  },
  {
   "cell_type": "code",
   "execution_count": 28,
   "outputs": [],
   "source": [],
   "metadata": {
    "collapsed": false,
    "pycharm": {
     "name": "#%%\n"
    }
   }
  },
  {
   "cell_type": "code",
   "execution_count": null,
   "outputs": [],
   "source": [],
   "metadata": {
    "collapsed": false,
    "pycharm": {
     "name": "#%%\n"
    }
   }
  }
 ],
 "metadata": {
  "kernelspec": {
   "display_name": "Python 3",
   "language": "python",
   "name": "python3"
  },
  "language_info": {
   "codemirror_mode": {
    "name": "ipython",
    "version": 2
   },
   "file_extension": ".py",
   "mimetype": "text/x-python",
   "name": "python",
   "nbconvert_exporter": "python",
   "pygments_lexer": "ipython2",
   "version": "2.7.6"
  }
 },
 "nbformat": 4,
 "nbformat_minor": 0
}