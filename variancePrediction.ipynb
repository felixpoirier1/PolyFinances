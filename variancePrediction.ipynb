{
 "cells": [
  {
   "cell_type": "code",
   "execution_count": 2,
   "metadata": {
    "collapsed": true
   },
   "outputs": [],
   "source": [
    "import pandas as pd"
   ]
  },
  {
   "cell_type": "code",
   "execution_count": 3,
   "outputs": [],
   "source": [
    "realizedVariance = pd.read_csv('data/realizedVariance.csv', index_col='DATE')"
   ],
   "metadata": {
    "collapsed": false,
    "pycharm": {
     "name": "#%%\n"
    }
   }
  },
  {
   "cell_type": "code",
   "execution_count": 4,
   "outputs": [
    {
     "data": {
      "text/plain": "             DEXCAUS  realizedVariance  jump  bipowerVariance\nDATE                                                         \n1998-02-20 -0.002110          0.000256   0.0         0.000285\n1998-02-23  0.002882          0.000260   0.0         0.000313\n1998-02-24 -0.001967          0.000267   0.0         0.000317\n1998-02-25  0.000984          0.000263   0.0         0.000301\n1998-02-26 -0.001899          0.000231   0.0         0.000239\n...              ...               ...   ...              ...\n2022-10-24  0.002265          0.000463   0.0         0.000563\n2022-10-25 -0.006442          0.000414   0.0         0.000479\n2022-10-26 -0.004785          0.000389   0.0         0.000437\n2022-10-27 -0.001403          0.000386   0.0         0.000462\n2022-10-28  0.006629          0.000379   0.0         0.000472\n\n[6441 rows x 4 columns]",
      "text/html": "<div>\n<style scoped>\n    .dataframe tbody tr th:only-of-type {\n        vertical-align: middle;\n    }\n\n    .dataframe tbody tr th {\n        vertical-align: top;\n    }\n\n    .dataframe thead th {\n        text-align: right;\n    }\n</style>\n<table border=\"1\" class=\"dataframe\">\n  <thead>\n    <tr style=\"text-align: right;\">\n      <th></th>\n      <th>DEXCAUS</th>\n      <th>realizedVariance</th>\n      <th>jump</th>\n      <th>bipowerVariance</th>\n    </tr>\n    <tr>\n      <th>DATE</th>\n      <th></th>\n      <th></th>\n      <th></th>\n      <th></th>\n    </tr>\n  </thead>\n  <tbody>\n    <tr>\n      <th>1998-02-20</th>\n      <td>-0.002110</td>\n      <td>0.000256</td>\n      <td>0.0</td>\n      <td>0.000285</td>\n    </tr>\n    <tr>\n      <th>1998-02-23</th>\n      <td>0.002882</td>\n      <td>0.000260</td>\n      <td>0.0</td>\n      <td>0.000313</td>\n    </tr>\n    <tr>\n      <th>1998-02-24</th>\n      <td>-0.001967</td>\n      <td>0.000267</td>\n      <td>0.0</td>\n      <td>0.000317</td>\n    </tr>\n    <tr>\n      <th>1998-02-25</th>\n      <td>0.000984</td>\n      <td>0.000263</td>\n      <td>0.0</td>\n      <td>0.000301</td>\n    </tr>\n    <tr>\n      <th>1998-02-26</th>\n      <td>-0.001899</td>\n      <td>0.000231</td>\n      <td>0.0</td>\n      <td>0.000239</td>\n    </tr>\n    <tr>\n      <th>...</th>\n      <td>...</td>\n      <td>...</td>\n      <td>...</td>\n      <td>...</td>\n    </tr>\n    <tr>\n      <th>2022-10-24</th>\n      <td>0.002265</td>\n      <td>0.000463</td>\n      <td>0.0</td>\n      <td>0.000563</td>\n    </tr>\n    <tr>\n      <th>2022-10-25</th>\n      <td>-0.006442</td>\n      <td>0.000414</td>\n      <td>0.0</td>\n      <td>0.000479</td>\n    </tr>\n    <tr>\n      <th>2022-10-26</th>\n      <td>-0.004785</td>\n      <td>0.000389</td>\n      <td>0.0</td>\n      <td>0.000437</td>\n    </tr>\n    <tr>\n      <th>2022-10-27</th>\n      <td>-0.001403</td>\n      <td>0.000386</td>\n      <td>0.0</td>\n      <td>0.000462</td>\n    </tr>\n    <tr>\n      <th>2022-10-28</th>\n      <td>0.006629</td>\n      <td>0.000379</td>\n      <td>0.0</td>\n      <td>0.000472</td>\n    </tr>\n  </tbody>\n</table>\n<p>6441 rows × 4 columns</p>\n</div>"
     },
     "execution_count": 4,
     "metadata": {},
     "output_type": "execute_result"
    }
   ],
   "source": [
    "realizedVariance"
   ],
   "metadata": {
    "collapsed": false,
    "pycharm": {
     "name": "#%%\n"
    }
   }
  },
  {
   "cell_type": "code",
   "execution_count": null,
   "outputs": [],
   "source": [],
   "metadata": {
    "collapsed": false,
    "pycharm": {
     "name": "#%%\n"
    }
   }
  }
 ],
 "metadata": {
  "kernelspec": {
   "display_name": "Python 3",
   "language": "python",
   "name": "python3"
  },
  "language_info": {
   "codemirror_mode": {
    "name": "ipython",
    "version": 2
   },
   "file_extension": ".py",
   "mimetype": "text/x-python",
   "name": "python",
   "nbconvert_exporter": "python",
   "pygments_lexer": "ipython2",
   "version": "2.7.6"
  }
 },
 "nbformat": 4,
 "nbformat_minor": 0
}