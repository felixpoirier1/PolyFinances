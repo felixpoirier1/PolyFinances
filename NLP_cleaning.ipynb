{
 "cells": [
  {
   "cell_type": "code",
   "execution_count": 1,
   "metadata": {
    "collapsed": true
   },
   "outputs": [],
   "source": [
    "import pandas as pd\n",
    "import numpy as np\n",
    "from utils import *"
   ]
  },
  {
   "cell_type": "code",
   "execution_count": 2,
   "outputs": [],
   "source": [
    "def read_data(filename: str) -> pd.DataFrame:\n",
    "    return pd.read_csv(f\"data/dataset/{filename}.csv\",\n",
    "                       index_col=0, parse_dates=True)\n",
    "\n",
    "df_statement = read_data(\"FOMC/statement\")\n",
    "df_speech = read_data(\"FOMC/speech\")\n",
    "df_testimony = read_data(\"FOMC/testimony\")"
   ],
   "metadata": {
    "collapsed": false
   }
  },
  {
   "cell_type": "code",
   "execution_count": 3,
   "outputs": [
    {
     "data": {
      "text/plain": "           date                                           contents speaker  \\\n196  2022-05-04  The Federal Reserve, the central bank of the U...   other   \n197  2022-06-15  The Federal Reserve, the central bank of the U...   other   \n198  2022-07-27  The Federal Reserve, the central bank of the U...   other   \n199  2022-09-21  The Federal Reserve, the central bank of the U...   other   \n200  2022-11-02  The Federal Reserve, the central bank of the U...   other   \n\n              title  \n196  FOMC Statement  \n197  FOMC Statement  \n198  FOMC Statement  \n199  FOMC Statement  \n200  FOMC Statement  ",
      "text/html": "<div>\n<style scoped>\n    .dataframe tbody tr th:only-of-type {\n        vertical-align: middle;\n    }\n\n    .dataframe tbody tr th {\n        vertical-align: top;\n    }\n\n    .dataframe thead th {\n        text-align: right;\n    }\n</style>\n<table border=\"1\" class=\"dataframe\">\n  <thead>\n    <tr style=\"text-align: right;\">\n      <th></th>\n      <th>date</th>\n      <th>contents</th>\n      <th>speaker</th>\n      <th>title</th>\n    </tr>\n  </thead>\n  <tbody>\n    <tr>\n      <th>196</th>\n      <td>2022-05-04</td>\n      <td>The Federal Reserve, the central bank of the U...</td>\n      <td>other</td>\n      <td>FOMC Statement</td>\n    </tr>\n    <tr>\n      <th>197</th>\n      <td>2022-06-15</td>\n      <td>The Federal Reserve, the central bank of the U...</td>\n      <td>other</td>\n      <td>FOMC Statement</td>\n    </tr>\n    <tr>\n      <th>198</th>\n      <td>2022-07-27</td>\n      <td>The Federal Reserve, the central bank of the U...</td>\n      <td>other</td>\n      <td>FOMC Statement</td>\n    </tr>\n    <tr>\n      <th>199</th>\n      <td>2022-09-21</td>\n      <td>The Federal Reserve, the central bank of the U...</td>\n      <td>other</td>\n      <td>FOMC Statement</td>\n    </tr>\n    <tr>\n      <th>200</th>\n      <td>2022-11-02</td>\n      <td>The Federal Reserve, the central bank of the U...</td>\n      <td>other</td>\n      <td>FOMC Statement</td>\n    </tr>\n  </tbody>\n</table>\n</div>"
     },
     "execution_count": 3,
     "metadata": {},
     "output_type": "execute_result"
    }
   ],
   "source": [
    "df_statement.tail()"
   ],
   "metadata": {
    "collapsed": false
   }
  },
  {
   "cell_type": "code",
   "execution_count": 4,
   "outputs": [
    {
     "data": {
      "text/plain": "            date                                           contents  \\\n1602  2022-10-12  The Federal Reserve, the central bank of the U...   \n1603  2022-10-12  The Federal Reserve, the central bank of the U...   \n1604  2022-10-14  The Federal Reserve, the central bank of the U...   \n1605  2022-10-20  The Federal Reserve, the central bank of the U...   \n1606  2022-10-20  The Federal Reserve, the central bank of the U...   \n\n                                         speaker  \\\n1602  Vice Chair for Supervision Michael S. Barr   \n1603                 Governor Michelle W. Bowman   \n1604              Governor Christopher J. Waller   \n1605                 Governor Michelle W. Bowman   \n1606                 Governor Michelle W. Bowman   \n\n                                                  title  \n1602  Managing the Promise and Risk of Financial Inn...  \n1603  Forward Guidance as a Monetary Policy Tool: Co...  \n1604  The U.S. Dollar and Central Bank Digital Curre...  \n1605                                  Welcoming Remarks  \n1606                                              Video  ",
      "text/html": "<div>\n<style scoped>\n    .dataframe tbody tr th:only-of-type {\n        vertical-align: middle;\n    }\n\n    .dataframe tbody tr th {\n        vertical-align: top;\n    }\n\n    .dataframe thead th {\n        text-align: right;\n    }\n</style>\n<table border=\"1\" class=\"dataframe\">\n  <thead>\n    <tr style=\"text-align: right;\">\n      <th></th>\n      <th>date</th>\n      <th>contents</th>\n      <th>speaker</th>\n      <th>title</th>\n    </tr>\n  </thead>\n  <tbody>\n    <tr>\n      <th>1602</th>\n      <td>2022-10-12</td>\n      <td>The Federal Reserve, the central bank of the U...</td>\n      <td>Vice Chair for Supervision Michael S. Barr</td>\n      <td>Managing the Promise and Risk of Financial Inn...</td>\n    </tr>\n    <tr>\n      <th>1603</th>\n      <td>2022-10-12</td>\n      <td>The Federal Reserve, the central bank of the U...</td>\n      <td>Governor Michelle W. Bowman</td>\n      <td>Forward Guidance as a Monetary Policy Tool: Co...</td>\n    </tr>\n    <tr>\n      <th>1604</th>\n      <td>2022-10-14</td>\n      <td>The Federal Reserve, the central bank of the U...</td>\n      <td>Governor Christopher J. Waller</td>\n      <td>The U.S. Dollar and Central Bank Digital Curre...</td>\n    </tr>\n    <tr>\n      <th>1605</th>\n      <td>2022-10-20</td>\n      <td>The Federal Reserve, the central bank of the U...</td>\n      <td>Governor Michelle W. Bowman</td>\n      <td>Welcoming Remarks</td>\n    </tr>\n    <tr>\n      <th>1606</th>\n      <td>2022-10-20</td>\n      <td>The Federal Reserve, the central bank of the U...</td>\n      <td>Governor Michelle W. Bowman</td>\n      <td>Video</td>\n    </tr>\n  </tbody>\n</table>\n</div>"
     },
     "execution_count": 4,
     "metadata": {},
     "output_type": "execute_result"
    }
   ],
   "source": [
    "df_speech.tail()"
   ],
   "metadata": {
    "collapsed": false
   }
  },
  {
   "cell_type": "code",
   "execution_count": 5,
   "outputs": [
    {
     "data": {
      "text/plain": "           date                                           contents  \\\n451  2022-01-11  The Federal Reserve, the central bank of the U...   \n452  2022-01-13  The Federal Reserve, the central bank of the U...   \n453  2022-03-02  The Federal Reserve, the central bank of the U...   \n454  2022-05-26  The Federal Reserve, the central bank of the U...   \n455  2022-06-22  The Federal Reserve, the central bank of the U...   \n\n                                 speaker  \\\n451               Chair Jerome H. Powell   \n452               Governor Lael Brainard   \n453  Chair Pro Tempore Jerome H. Powell    \n454             Vice Chair Lael Brainard   \n455               Chair Jerome H. Powell   \n\n                                                 title  \n451                                 Nomination hearing  \n452                                 Nomination hearing  \n453  Semiannual Monetary Policy Report to the Congress  \n454  Digital Assets and the Future of Finance: Exam...  \n455  Semiannual Monetary Policy Report to the Congress  ",
      "text/html": "<div>\n<style scoped>\n    .dataframe tbody tr th:only-of-type {\n        vertical-align: middle;\n    }\n\n    .dataframe tbody tr th {\n        vertical-align: top;\n    }\n\n    .dataframe thead th {\n        text-align: right;\n    }\n</style>\n<table border=\"1\" class=\"dataframe\">\n  <thead>\n    <tr style=\"text-align: right;\">\n      <th></th>\n      <th>date</th>\n      <th>contents</th>\n      <th>speaker</th>\n      <th>title</th>\n    </tr>\n  </thead>\n  <tbody>\n    <tr>\n      <th>451</th>\n      <td>2022-01-11</td>\n      <td>The Federal Reserve, the central bank of the U...</td>\n      <td>Chair Jerome H. Powell</td>\n      <td>Nomination hearing</td>\n    </tr>\n    <tr>\n      <th>452</th>\n      <td>2022-01-13</td>\n      <td>The Federal Reserve, the central bank of the U...</td>\n      <td>Governor Lael Brainard</td>\n      <td>Nomination hearing</td>\n    </tr>\n    <tr>\n      <th>453</th>\n      <td>2022-03-02</td>\n      <td>The Federal Reserve, the central bank of the U...</td>\n      <td>Chair Pro Tempore Jerome H. Powell</td>\n      <td>Semiannual Monetary Policy Report to the Congress</td>\n    </tr>\n    <tr>\n      <th>454</th>\n      <td>2022-05-26</td>\n      <td>The Federal Reserve, the central bank of the U...</td>\n      <td>Vice Chair Lael Brainard</td>\n      <td>Digital Assets and the Future of Finance: Exam...</td>\n    </tr>\n    <tr>\n      <th>455</th>\n      <td>2022-06-22</td>\n      <td>The Federal Reserve, the central bank of the U...</td>\n      <td>Chair Jerome H. Powell</td>\n      <td>Semiannual Monetary Policy Report to the Congress</td>\n    </tr>\n  </tbody>\n</table>\n</div>"
     },
     "execution_count": 5,
     "metadata": {},
     "output_type": "execute_result"
    }
   ],
   "source": [
    "df_testimony.tail()"
   ],
   "metadata": {
    "collapsed": false
   }
  },
  {
   "cell_type": "code",
   "execution_count": 6,
   "outputs": [
    {
     "data": {
      "text/plain": "\"The Federal Reserve, the central bank of the United States, provides\\n          the nation with a safe, flexible, and stable monetary and financial\\n          system.\\n\\n[SECTION]\\n\\nFederal Open Market Committee\\n\\n[SECTION]\\n\\nMonetary Policy Principles and Practice\\n\\n[SECTION]\\n\\nPolicy Implementation\\n\\n[SECTION]\\n\\nReports\\n\\n[SECTION]\\n\\nReview of Monetary Policy Strategy, Tools, and\\n                    Communications\\n\\n[SECTION]\\n\\nInstitution Supervision\\n\\n[SECTION]\\n\\nReports\\n\\n[SECTION]\\n\\nReporting Forms\\n\\n[SECTION]\\n\\nSupervision & Regulation Letters\\n\\n[SECTION]\\n\\nBanking Applications & Legal Developments\\n\\n[SECTION]\\n\\nRegulatory Resources\\n\\n[SECTION]\\n\\nBanking & Data Structure\\n\\n[SECTION]\\n\\nFinancial Stability Assessments\\n\\n[SECTION]\\n\\nFinancial Stability Coordination & Actions\\n\\n[SECTION]\\n\\nReports\\n\\n[SECTION]\\n\\nRegulations & Statutes\\n\\n[SECTION]\\n\\nPayment Policies\\n\\n[SECTION]\\n\\nReserve Bank Payment Services & Data\\n\\n[SECTION]\\n\\nFinancial Market Utilities & Infrastructures\\n\\n[SECTION]\\n\\nResearch, Committees, and Forums\\n\\n[SECTION]\\n\\nWorking Papers and Notes\\n\\n[SECTION]\\n\\nData, Models and Tools\\n\\n[SECTION]\\n\\nBank Assets and Liabilities\\n\\n[SECTION]\\n\\nBank Structure Data\\n\\n[SECTION]\\n\\nBusiness Finance\\n\\n[SECTION]\\n\\nDealer Financing Terms\\n\\n[SECTION]\\n\\nExchange Rates and International Data\\n\\n[SECTION]\\n\\nFinancial Accounts\\n\\n[SECTION]\\n\\nHousehold Finance\\n\\n[SECTION]\\n\\nIndustrial Activity\\n\\n[SECTION]\\n\\nInterest Rates\\n\\n[SECTION]\\n\\nMicro Data Reference Manual (MDRM)\\n\\n[SECTION]\\n\\nMoney Stock and Reserve Balances\\n\\n[SECTION]\\n\\nOther\\n\\n[SECTION]\\n\\nRegulations\\n\\n[SECTION]\\n\\nSupervisionÂ\\xa0& Enforcement\\n\\n[SECTION]\\n\\nCommunity Development\\n\\n[SECTION]\\n\\nResearchÂ\\xa0& Analysis\\n\\n[SECTION]\\n\\nConsumer Resources\\n\\n[SECTION]\\n\\nJune 22, 2022\\n\\n[SECTION]\\n\\nChair Jerome H. Powell\\n\\n[SECTION]\\n\\nBefore the Committee on Banking, Housing, and Urban Affairs, U.S. Senate, Washington, D.C.\\n\\n[SECTION]\\n\\nWatch Live\\n\\n[SECTION]\\n\\nChair Powell submitted identical remarks to the Committee on Financial Services, U.S. House of Representatives, on June 23, 2022.\\n\\n[SECTION]\\n\\nChairman Brown, Ranking Member Toomey, and other members of the Committee, I appreciate the opportunity to present the Federal Reserve's semiannual Monetary Policy Report.\\n\\n[SECTION]\\n\\nI will begin with one overarching message. At the Fed, we understand the hardship high inflation is causing. We are strongly committed to bringing inflation back down, and we are moving expeditiously to do so. We have both the tools we need and the resolve it will take to restore price stability on behalf of American families and businesses. It is essential that we bring inflation down if we are to have a sustained period of strong labor market conditions that benefit all.\\n\\n[SECTION]\\n\\nI will review the current economic situation before turning to monetary policy.\\n\\n[SECTION]\\n\\nCurrent Economic Situation and Outlook\\nInflation remains well above our longer-run goal of 2 percent. Over the 12 months ending in April, total PCE (personal consumption expenditures) prices rose 6.3 percent; excluding the volatile food and energy categories, core PCE prices rose 4.9 percent. The available data for May suggest the core measure likely held at that pace or eased slightly last month. Aggregate demand is strong, supply constraints have been larger and longer lasting than anticipated, and price pressures have spread to a broad range of goods and services. The surge in prices of crude oil and other commodities that resulted from Russia's invasion of Ukraine is boosting prices for gasoline and fuel and is creating additional upward pressure on inflation. And COVID-19-related lockdowns in China are likely to exacerbate ongoing supply chain disruptions. Over the past year, inflation also increased rapidly in many foreign economies, as discussed in a box in the June Monetary Policy Report.\\n\\n[SECTION]\\n\\nOverall economic activity edged down in the first quarter, as unusually sharp swings in inventories and net exports more than offset continued strong underlying demand. Recent indicators suggest that real gross domestic product growth has picked up this quarter, with consumption spending remaining strong. In contrast, growth in business fixed investment appears to be slowing, and activity in the housing sector looks to be softening, in part reflecting higher mortgage rates. The tightening in financial conditions that we have seen in recent months should continue to temper growth and help bring demand into better balance with supply.\\n\\n[SECTION]\\n\\nThe labor market has remained extremely tight, with the unemployment rate near a 50â\\x80\\x91year low, job vacancies at historical highs, and wage growth elevated. Over the past three months, employment rose by an average of 408,000 jobs per month, down from the average pace seen earlier in the year but still robust. Improvements in labor market conditions have been widespread, including for workers at the lower end of the wage distribution as well as for African Americans and Hispanics. A box in the June Monetary Policy Report discusses developments in employment and earnings across all major demographic groups. Labor demand is very strong, while labor supply remains subdued, with the labor force participation rate little changed since January.\\n\\n[SECTION]\\n\\nMonetary Policy\\nThe Fed's monetary policy actions are guided by our mandate to promote maximum employment and stable prices for the American people. My colleagues and I are acutely aware that high inflation imposes significant hardship, especially on those least able to meet the higher costs of essentials like food, housing, and transportation. We are highly attentive to the risks high inflation poses to both sides of our mandate, and we are strongly committed to returning inflation to our 2 percent objective.\\n\\n[SECTION]\\n\\nAgainst the backdrop of the rapidly evolving economic environment, our policy has been adapting, and it will continue to do so. With inflation well above our longer-run goal of 2 percent and an extremely tight labor market, we raised the target range for the federal funds rate at each of our past three meetings, resulting in a 1-1/2 percentage point increase in the target range so far this year. The Committee reiterated that it anticipates that ongoing increases in the target range will be appropriate. In May, we announced plans for reducing the size of our balance sheet and, shortly thereafter, began the process of significantly reducing our securities holdings. Financial conditions have been tightening since last fall and have now tightened significantly, reflecting both policy actions that we have already taken and anticipated actions.\\n\\n[SECTION]\\n\\nOver coming months, we will be looking for compelling evidence that inflation is moving down, consistent with inflation returning to 2 percent. We anticipate that ongoing rate increases will be appropriate; the pace of those changes will continue to depend on the incoming data and the evolving outlook for the economy. We will make our decisions meeting by meeting, and we will continue to communicate our thinking as clearly as possible. Our overarching focus is using our tools to bring inflation back down to our 2 percent goal and to keep longer-term inflation expectations well anchored.\\n\\n[SECTION]\\n\\nMaking appropriate monetary policy in this uncertain environment requires a recognition that the economy often evolves in unexpected ways. Inflation has obviously surprised to the upside over the past year, and further surprises could be in store. We therefore will need to be nimble in responding to incoming data and the evolving outlook. And we will strive to avoid adding uncertainty in what is already an extraordinarily challenging and uncertain time. We are highly attentive to inflation risks and determined to take the measures necessary to restore price stability. The American economy is very strong and well positioned to handle tighter monetary policy.\\n\\n[SECTION]\\n\\nTo conclude, we understand that our actions affect communities, families, and businesses across the country. Everything we do is in service to our public mission. We at the Fed will do everything we can to achieve our maximum-employment and price-stability goals.\\n\\n[SECTION]\\n\\nThank you. I am happy to take your questions.\\n\\n[SECTION]\\n\\nBoard of Governors of the Federal Reserve System\\n\\n[SECTION]\\n\\n20th Street and Constitution Avenue N.W., Washington, DC 20551\""
     },
     "execution_count": 6,
     "metadata": {},
     "output_type": "execute_result"
    }
   ],
   "source": [
    "df_testimony[\"contents\"].iloc[-1]"
   ],
   "metadata": {
    "collapsed": false
   }
  },
  {
   "cell_type": "code",
   "execution_count": 7,
   "outputs": [
    {
     "data": {
      "text/plain": "'The Federal Reserve the central bank of the United States provides           the nation with a safe flexible and stable monetary and financial           system  SECTION  Federal Open Market Committee  SECTION  Monetary Policy Principles and Practice  SECTION  Policy Implementation  SECTION  Reports  SECTION  Review of Monetary Policy Strategy Tools and                     Communications  SECTION  Institution Supervision  SECTION  Reports  SECTION  Reporting Forms  SECTION  Supervision  Regulation Letters  SECTION  Banking Applications  Legal Developments  SECTION  Regulatory Resources  SECTION  Banking  Data Structure  SECTION  Financial Stability Assessments  SECTION  Financial Stability Coordination  Actions  SECTION  Reports  SECTION  Regulations  Statutes  SECTION  Payment Policies  SECTION  Reserve Bank Payment Services  Data  SECTION  Financial Market Utilities  Infrastructures  SECTION  Research Committees and Forums  SECTION  Working Papers and Notes  SECTION  Data Models and Tools  SECTION  Bank Assets and Liabilities  SECTION  Bank Structure Data  SECTION  Business Finance  SECTION  Dealer Financing Terms  SECTION  Exchange Rates and International Data  SECTION  Financial Accounts  SECTION  Household Finance  SECTION  Industrial Activity  SECTION  Interest Rates  SECTION  Micro Data Reference Manual MDRM  SECTION  Money Stock and Reserve Balances  SECTION  Other  SECTION  Regulations  SECTION  SupervisionÂ\\xa0 Enforcement  SECTION  Community Development  SECTION  ResearchÂ\\xa0 Analysis  SECTION  Consumer Resources  SECTION  June    SECTION  Chair Jerome H Powell  SECTION  Before the Committee on Banking Housing and Urban Affairs US Senate Washington DC  SECTION  Watch Live  SECTION  Chair Powell submitted identical remarks to the Committee on Financial Services US House of Representatives on June    SECTION  Chairman Brown Ranking Member Toomey and other members of the Committee I appreciate the opportunity to present the Federal Reserves semiannual Monetary Policy Report  SECTION  I will begin with one overarching message At the Fed we understand the hardship high inflation is causing We are strongly committed to bringing inflation back down and we are moving expeditiously to do so We have both the tools we need and the resolve it will take to restore price stability on behalf of American families and businesses It is essential that we bring inflation down if we are to have a sustained period of strong labor market conditions that benefit all  SECTION  I will review the current economic situation before turning to monetary policy  SECTION  Current Economic Situation and Outlook Inflation remains well above our longer run goal of  percent Over the  months ending in April total PCE personal consumption expenditures prices rose  percent excluding the volatile food and energy categories core PCE prices rose  percent The available data for May suggest the core measure likely held at that pace or eased slightly last month Aggregate demand is strong supply constraints have been larger and longer lasting than anticipated and price pressures have spread to a broad range of goods and services The surge in prices of crude oil and other commodities that resulted from Russias invasion of Ukraine is boosting prices for gasoline and fuel and is creating additional upward pressure on inflation And COVID  related lockdowns in China are likely to exacerbate ongoing supply chain disruptions Over the past year inflation also increased rapidly in many foreign economies as discussed in a box in the June Monetary Policy Report  SECTION  Overall economic activity edged down in the first quarter as unusually sharp swings in inventories and net exports more than offset continued strong underlying demand Recent indicators suggest that real gross domestic product growth has picked up this quarter with consumption spending remaining strong In contrast growth in business fixed investment appears to be slowing and activity in the housing sector looks to be softening in part reflecting higher mortgage rates The tightening in financial conditions that we have seen in recent months should continue to temper growth and help bring demand into better balance with supply  SECTION  The labor market has remained extremely tight with the unemployment rate near a âyear low job vacancies at historical highs and wage growth elevated Over the past three months employment rose by an average of  jobs per month down from the average pace seen earlier in the year but still robust Improvements in labor market conditions have been widespread including for workers at the lower end of the wage distribution as well as for African Americans and Hispanics A box in the June Monetary Policy Report discusses developments in employment and earnings across all major demographic groups Labor demand is very strong while labor supply remains subdued with the labor force participation rate little changed since January  SECTION  Monetary Policy The Feds monetary policy actions are guided by our mandate to promote maximum employment and stable prices for the American people My colleagues and I are acutely aware that high inflation imposes significant hardship especially on those least able to meet the higher costs of essentials like food housing and transportation We are highly attentive to the risks high inflation poses to both sides of our mandate and we are strongly committed to returning inflation to our  percent objective  SECTION  Against the backdrop of the rapidly evolving economic environment our policy has been adapting and it will continue to do so With inflation well above our longer run goal of  percent and an extremely tight labor market we raised the target range for the federal funds rate at each of our past three meetings resulting in a   percentage point increase in the target range so far this year The Committee reiterated that it anticipates that ongoing increases in the target range will be appropriate In May we announced plans for reducing the size of our balance sheet and shortly thereafter began the process of significantly reducing our securities holdings Financial conditions have been tightening since last fall and have now tightened significantly reflecting both policy actions that we have already taken and anticipated actions  SECTION  Over coming months we will be looking for compelling evidence that inflation is moving down consistent with inflation returning to  percent We anticipate that ongoing rate increases will be appropriate the pace of those changes will continue to depend on the incoming data and the evolving outlook for the economy We will make our decisions meeting by meeting and we will continue to communicate our thinking as clearly as possible Our overarching focus is using our tools to bring inflation back down to our  percent goal and to keep longer term inflation expectations well anchored  SECTION  Making appropriate monetary policy in this uncertain environment requires a recognition that the economy often evolves in unexpected ways Inflation has obviously surprised to the upside over the past year and further surprises could be in store We therefore will need to be nimble in responding to incoming data and the evolving outlook And we will strive to avoid adding uncertainty in what is already an extraordinarily challenging and uncertain time We are highly attentive to inflation risks and determined to take the measures necessary to restore price stability The American economy is very strong and well positioned to handle tighter monetary policy  SECTION  To conclude we understand that our actions affect communities families and businesses across the country Everything we do is in service to our public mission We at the Fed will do everything we can to achieve our maximum employment and price stability goals  SECTION  Thank you I am happy to take your questions  SECTION  Board of Governors of the Federal Reserve System  SECTION  th Street and Constitution Avenue NW Washington DC'"
     },
     "execution_count": 7,
     "metadata": {},
     "output_type": "execute_result"
    }
   ],
   "source": [
    "df_testimony = clean_speech_text(df_testimony)\n",
    "df_testimony[\"contents\"].iloc[-1]"
   ],
   "metadata": {
    "collapsed": false
   }
  },
  {
   "cell_type": "code",
   "execution_count": 18,
   "outputs": [],
   "source": [
    "df_statement['text'] = df_statement['contents'].apply(lambda x: x.replace('\\n\\n[SECTION]\\n\\n', '').replace('\\n', ' ').replace('\\r', ' ').strip())"
   ],
   "metadata": {
    "collapsed": false
   }
  },
  {
   "cell_type": "code",
   "execution_count": 21,
   "outputs": [
    {
     "data": {
      "text/plain": "\"The Federal Reserve, the central bank of the United States, provides           the nation with a safe, flexible, and stable monetary and financial           system.Federal Open Market CommitteeMonetary Policy Principles and PracticePolicy ImplementationReportsReview of Monetary Policy Strategy, Tools, and                     CommunicationsInstitution SupervisionReportsReporting FormsSupervision & Regulation LettersBanking Applications & Legal DevelopmentsRegulatory ResourcesBanking & Data StructureFinancial Stability AssessmentsFinancial Stability Coordination & ActionsReportsRegulations & StatutesPayment PoliciesReserve Bank Payment Services & DataFinancial Market Utilities & InfrastructuresResearch, Committees, and ForumsWorking Papers and NotesData, Models and ToolsBank Assets and LiabilitiesBank Structure DataBusiness FinanceDealer Financing TermsExchange Rates and International DataFinancial AccountsHousehold FinanceIndustrial ActivityInterest RatesMicro Data Reference Manual (MDRM)Money Stock and Reserve BalancesOtherRegulationsSupervisionÂ\\xa0& EnforcementCommunity DevelopmentResearchÂ\\xa0& AnalysisConsumer ResourcesNovember 02, 2022For release at 2:00 p.m. EDT                                                         ShareRecent indicators point to modest growth in spending and production. Job gains have been robust in recent months, and the unemployment rate has remained low. Inflation remains elevated, reflecting supply and demand imbalances related to the pandemic, higher food and energy prices, and broader price pressures.Russia's war against Ukraine is causing tremendous human and economic hardship. The war and related events are creating additional upward pressure on inflation and are weighing on global economic activity. The Committee is highly attentive to inflation risks.The Committee seeks to achieve maximum employment and inflation at the rate of 2 percent over the longer run. In support of these goals, the Committee decided to raise the target range for the federal funds rate to 3-3/4 to 4 percent. The Committee anticipates that ongoing increases in the target range will be appropriate in order to attain a stance of monetary policy that is sufficiently restrictive to return inflation to 2 percent over time. In determining the pace of future increases in the target range, the Committee will take into account the cumulative tightening of monetary policy, the lags with which monetary policy affects economic activity and inflation, and economic and financial developments. In addition, the Committee will continue reducing its holdings of Treasury securities and agency debt and agency mortgage-backed securities, as described in the Plans for Reducing the Size of the Federal Reserve's Balance Sheet that were issued in May. The Committee is strongly committed to returning inflation to its 2 percent objective.In assessing the appropriate stance of monetary policy, the Committee will continue to monitor the implications of incoming information for the economic outlook. The Committee would be prepared to adjust the stance of monetary policy as appropriate if risks emerge that could impede the attainment of the Committee's goals. The Committee's assessments will take into account a wide range of information, including readings on public health, labor market conditions, inflation pressures and inflation expectations, and financial and international developments.Voting for the monetary policy action were Jerome H. Powell, Chair; John C. Williams, Vice Chair; Michael S. Barr; Michelle W. Bowman; Lael Brainard; James Bullard; Susan M. Collins; Lisa D. Cook; Esther L. George; Philip N. Jefferson; Loretta J. Mester; and Christopher J. Waller.For media inquiries, please email [email\\xa0protected] or call 202-452-2955.Implementation Note issued November 2, 2022Board of Governors of the Federal Reserve System20th Street and Constitution Avenue N.W., Washington, DC 20551\""
     },
     "execution_count": 21,
     "metadata": {},
     "output_type": "execute_result"
    }
   ],
   "source": [
    "df_statement['text'].iloc[-1][0:]"
   ],
   "metadata": {
    "collapsed": false
   }
  },
  {
   "cell_type": "code",
   "execution_count": 22,
   "outputs": [
    {
     "data": {
      "text/plain": "\"The Federal Reserve, the central bank of the United States, provides           the nation with a safe, flexible, and stable monetary and financial           system.Federal Open Market CommitteeMonetary Policy Principles and PracticePolicy ImplementationReportsReview of Monetary Policy Strategy, Tools, and                     CommunicationsInstitution SupervisionReportsReporting FormsSupervision & Regulation LettersBanking Applications & Legal DevelopmentsRegulatory ResourcesBanking & Data StructureFinancial Stability AssessmentsFinancial Stability Coordination & ActionsReportsRegulations & StatutesPayment PoliciesReserve Bank Payment Services & DataFinancial Market Utilities & InfrastructuresResearch, Committees, and ForumsWorking Papers and NotesData, Models and ToolsBank Assets and LiabilitiesBank Structure DataBusiness FinanceDealer Financing TermsExchange Rates and International DataFinancial AccountsHousehold FinanceIndustrial ActivityInterest RatesMicro Data Reference Manual (MDRM)Money Stock and Reserve BalancesOtherRegulationsSupervisionÂ\\xa0& EnforcementCommunity DevelopmentResearchÂ\\xa0& AnalysisConsumer ResourcesSeptember 21, 2022For release at 2:00 p.m. EDT                                                         ShareRecent indicators point to modest growth in spending and production. Job gains have been robust in recent months, and the unemployment rate has remained low. Inflation remains elevated, reflecting supply and demand imbalances related to the pandemic, higher food and energy prices, and broader price pressures.Russia's war against Ukraine is causing tremendous human and economic hardship. The war and related events are creating additional upward pressure on inflation and are weighing on global economic activity. The Committee is highly attentive to inflation risks.The Committee seeks to achieve maximum employment and inflation at the rate of 2 percent over the longer run. In support of these goals, the Committee decided to raise the target range for the federal funds rate to 3 to 3-1/4 percent and anticipates that ongoing increases in the target range will be appropriate. In addition, the Committee will continue reducing its holdings of Treasury securities and agency debt and agency mortgage-backed securities, as described in the Plans for Reducing the Size of the Federal Reserve's Balance Sheet that were issued in May. The Committee is strongly committed to returning inflation to its 2 percent objective.In assessing the appropriate stance of monetary policy, the Committee will continue to monitor the implications of incoming information for the economic outlook. The Committee would be prepared to adjust the stance of monetary policy as appropriate if risks emerge that could impede the attainment of the Committee's goals. The Committee's assessments will take into account a wide range of information, including readings on public health, labor market conditions, inflation pressures and inflation expectations, and financial and international developments.Voting for the monetary policy action were Jerome H. Powell, Chair; John C. Williams, Vice Chair; Michael S. Barr; Michelle W. Bowman; Lael Brainard; James Bullard; Susan M. Collins; Lisa D. Cook; Esther L. George; Philip N. Jefferson; Loretta J. Mester; and Christopher J. Waller.Implementation Note issued September 21, 2022Board of Governors of the Federal Reserve System20th Street and Constitution Avenue N.W., Washington, DC 20551\""
     },
     "execution_count": 22,
     "metadata": {},
     "output_type": "execute_result"
    }
   ],
   "source": [
    "df_statement['text'].iloc[-2][0:]"
   ],
   "metadata": {
    "collapsed": false
   }
  },
  {
   "cell_type": "code",
   "execution_count": 7,
   "outputs": [],
   "source": [],
   "metadata": {
    "collapsed": false
   }
  }
 ],
 "metadata": {
  "kernelspec": {
   "display_name": "Python 3",
   "language": "python",
   "name": "python3"
  },
  "language_info": {
   "codemirror_mode": {
    "name": "ipython",
    "version": 2
   },
   "file_extension": ".py",
   "mimetype": "text/x-python",
   "name": "python",
   "nbconvert_exporter": "python",
   "pygments_lexer": "ipython2",
   "version": "2.7.6"
  }
 },
 "nbformat": 4,
 "nbformat_minor": 0
}
