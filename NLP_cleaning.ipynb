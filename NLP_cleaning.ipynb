{
 "cells": [
  {
   "cell_type": "code",
   "execution_count": 1,
   "metadata": {
    "collapsed": true
   },
   "outputs": [],
   "source": [
    "import pandas as pd\n",
    "import numpy as np\n",
    "import spacy\n",
    "import re\n",
    "\n"
   ]
  },
  {
   "cell_type": "code",
   "execution_count": 2,
   "metadata": {
    "collapsed": false
   },
   "outputs": [],
   "source": [
    "def read_data(filename: str) -> pd.DataFrame:\n",
    "    return pd.read_csv(f\"data/dataset/{filename}.csv\",\n",
    "                       index_col=0, parse_dates=True)\n",
    "\n",
    "df_statement = read_data(\"FOMC/statement\")\n",
    "df_speech = read_data(\"FOMC/speech\")\n",
    "df_minutes = read_data(\"FOMC/minutes\")"
   ]
  },
  {
   "cell_type": "code",
   "execution_count": 3,
   "metadata": {
    "collapsed": false
   },
   "outputs": [
    {
     "data": {
      "text/plain": [
       "((1607, 4), (201, 4), (229, 4))"
      ]
     },
     "execution_count": 3,
     "metadata": {},
     "output_type": "execute_result"
    }
   ],
   "source": [
    "df_speech.shape, df_statement.shape, df_minutes.shape"
   ]
  },
  {
   "cell_type": "code",
   "execution_count": 4,
   "metadata": {
    "collapsed": false
   },
   "outputs": [
    {
     "data": {
      "text/plain": [
       "array(['Alan Greenspan', 'Ben Bernanke', 'Janet Yellen', 'Jerome Powell',\n",
       "       'other'], dtype=object)"
      ]
     },
     "execution_count": 4,
     "metadata": {},
     "output_type": "execute_result"
    }
   ],
   "source": [
    "df_minutes[\"speaker\"].unique()"
   ]
  },
  {
   "cell_type": "code",
   "execution_count": 5,
   "metadata": {
    "collapsed": false
   },
   "outputs": [],
   "source": [
    "df_speech.dropna(inplace=True)\n",
    "df_statement.dropna(inplace=True)\n",
    "df_minutes.dropna(inplace=True)"
   ]
  },
  {
   "cell_type": "code",
   "execution_count": 6,
   "metadata": {
    "collapsed": false
   },
   "outputs": [
    {
     "data": {
      "text/html": [
       "<div>\n",
       "<style scoped>\n",
       "    .dataframe tbody tr th:only-of-type {\n",
       "        vertical-align: middle;\n",
       "    }\n",
       "\n",
       "    .dataframe tbody tr th {\n",
       "        vertical-align: top;\n",
       "    }\n",
       "\n",
       "    .dataframe thead th {\n",
       "        text-align: right;\n",
       "    }\n",
       "</style>\n",
       "<table border=\"1\" class=\"dataframe\">\n",
       "  <thead>\n",
       "    <tr style=\"text-align: right;\">\n",
       "      <th></th>\n",
       "      <th>date</th>\n",
       "      <th>contents</th>\n",
       "      <th>speaker</th>\n",
       "      <th>title</th>\n",
       "    </tr>\n",
       "  </thead>\n",
       "  <tbody>\n",
       "    <tr>\n",
       "      <th>1</th>\n",
       "      <td>1996-06-18</td>\n",
       "      <td>Remarks by Governor Edward W. Kelley, Jr.\\nDev...</td>\n",
       "      <td>Governor Edward W. Kelley, Jr.</td>\n",
       "      <td>Developments in electronic money and banking</td>\n",
       "    </tr>\n",
       "    <tr>\n",
       "      <th>2</th>\n",
       "      <td>1996-09-08</td>\n",
       "      <td>Monetary Policy Objectives and Strategy\\n\\n[SE...</td>\n",
       "      <td>Governor Laurence H. Meyer</td>\n",
       "      <td>Monetary policy objectives and strategy</td>\n",
       "    </tr>\n",
       "    <tr>\n",
       "      <th>4</th>\n",
       "      <td>1996-10-02</td>\n",
       "      <td>Remarks by Governor Lawrence B. Lindsey\\nAt th...</td>\n",
       "      <td>Governor Lawrence B. Lindsey</td>\n",
       "      <td>Small business is big business</td>\n",
       "    </tr>\n",
       "    <tr>\n",
       "      <th>7</th>\n",
       "      <td>1996-10-09</td>\n",
       "      <td>Remarks by Governor Lawrence B. Lindsey\\nAt th...</td>\n",
       "      <td>Governor Lawrence B. Lindsey</td>\n",
       "      <td>Here we go again?</td>\n",
       "    </tr>\n",
       "    <tr>\n",
       "      <th>8</th>\n",
       "      <td>1996-10-11</td>\n",
       "      <td>Remarks by Governor Lawrence B. Lindsey\\nAt th...</td>\n",
       "      <td>Governor Lawrence B. Lindsey</td>\n",
       "      <td>How to grow faster</td>\n",
       "    </tr>\n",
       "    <tr>\n",
       "      <th>...</th>\n",
       "      <td>...</td>\n",
       "      <td>...</td>\n",
       "      <td>...</td>\n",
       "      <td>...</td>\n",
       "    </tr>\n",
       "    <tr>\n",
       "      <th>1600</th>\n",
       "      <td>2022-10-06</td>\n",
       "      <td>The Federal Reserve, the central bank of the U...</td>\n",
       "      <td>Governor Christopher J. Waller</td>\n",
       "      <td>The Economic Outlook with a Look at the Housin...</td>\n",
       "    </tr>\n",
       "    <tr>\n",
       "      <th>1603</th>\n",
       "      <td>2022-10-12</td>\n",
       "      <td>The Federal Reserve, the central bank of the U...</td>\n",
       "      <td>Governor Michelle W. Bowman</td>\n",
       "      <td>Forward Guidance as a Monetary Policy Tool: Co...</td>\n",
       "    </tr>\n",
       "    <tr>\n",
       "      <th>1604</th>\n",
       "      <td>2022-10-14</td>\n",
       "      <td>The Federal Reserve, the central bank of the U...</td>\n",
       "      <td>Governor Christopher J. Waller</td>\n",
       "      <td>The U.S. Dollar and Central Bank Digital Curre...</td>\n",
       "    </tr>\n",
       "    <tr>\n",
       "      <th>1605</th>\n",
       "      <td>2022-10-20</td>\n",
       "      <td>The Federal Reserve, the central bank of the U...</td>\n",
       "      <td>Governor Michelle W. Bowman</td>\n",
       "      <td>Welcoming Remarks</td>\n",
       "    </tr>\n",
       "    <tr>\n",
       "      <th>1606</th>\n",
       "      <td>2022-10-20</td>\n",
       "      <td>The Federal Reserve, the central bank of the U...</td>\n",
       "      <td>Governor Michelle W. Bowman</td>\n",
       "      <td>Video</td>\n",
       "    </tr>\n",
       "  </tbody>\n",
       "</table>\n",
       "<p>817 rows × 4 columns</p>\n",
       "</div>"
      ],
      "text/plain": [
       "            date                                           contents  \\\n",
       "1     1996-06-18  Remarks by Governor Edward W. Kelley, Jr.\\nDev...   \n",
       "2     1996-09-08  Monetary Policy Objectives and Strategy\\n\\n[SE...   \n",
       "4     1996-10-02  Remarks by Governor Lawrence B. Lindsey\\nAt th...   \n",
       "7     1996-10-09  Remarks by Governor Lawrence B. Lindsey\\nAt th...   \n",
       "8     1996-10-11  Remarks by Governor Lawrence B. Lindsey\\nAt th...   \n",
       "...          ...                                                ...   \n",
       "1600  2022-10-06  The Federal Reserve, the central bank of the U...   \n",
       "1603  2022-10-12  The Federal Reserve, the central bank of the U...   \n",
       "1604  2022-10-14  The Federal Reserve, the central bank of the U...   \n",
       "1605  2022-10-20  The Federal Reserve, the central bank of the U...   \n",
       "1606  2022-10-20  The Federal Reserve, the central bank of the U...   \n",
       "\n",
       "                             speaker  \\\n",
       "1     Governor Edward W. Kelley, Jr.   \n",
       "2         Governor Laurence H. Meyer   \n",
       "4       Governor Lawrence B. Lindsey   \n",
       "7       Governor Lawrence B. Lindsey   \n",
       "8       Governor Lawrence B. Lindsey   \n",
       "...                              ...   \n",
       "1600  Governor Christopher J. Waller   \n",
       "1603     Governor Michelle W. Bowman   \n",
       "1604  Governor Christopher J. Waller   \n",
       "1605     Governor Michelle W. Bowman   \n",
       "1606     Governor Michelle W. Bowman   \n",
       "\n",
       "                                                  title  \n",
       "1          Developments in electronic money and banking  \n",
       "2               Monetary policy objectives and strategy  \n",
       "4                        Small business is big business  \n",
       "7                                     Here we go again?  \n",
       "8                                    How to grow faster  \n",
       "...                                                 ...  \n",
       "1600  The Economic Outlook with a Look at the Housin...  \n",
       "1603  Forward Guidance as a Monetary Policy Tool: Co...  \n",
       "1604  The U.S. Dollar and Central Bank Digital Curre...  \n",
       "1605                                  Welcoming Remarks  \n",
       "1606                                              Video  \n",
       "\n",
       "[817 rows x 4 columns]"
      ]
     },
     "execution_count": 6,
     "metadata": {},
     "output_type": "execute_result"
    }
   ],
   "source": [
    "df_speech[df_speech[\"speaker\"].str.contains(\"Gov\")]"
   ]
  },
  {
   "cell_type": "markdown",
   "metadata": {
    "collapsed": false
   },
   "source": [
    "On veut conserver seulement les textes présentés par les \"Governor\""
   ]
  },
  {
   "cell_type": "code",
   "execution_count": 7,
   "metadata": {
    "collapsed": false
   },
   "outputs": [],
   "source": [
    "def filter_by_title(df: pd.DataFrame, title: str) -> pd.DataFrame:\n",
    "    return df[df[\"speaker\"].str.contains(title)]"
   ]
  },
  {
   "cell_type": "code",
   "execution_count": 8,
   "metadata": {
    "collapsed": false
   },
   "outputs": [],
   "source": [
    "df_speech = filter_by_title(df_speech, \"Governor\")\n",
    "df_statement = filter_by_title(df_speech, \"Governor\")\n",
    "df_minutes = filter_by_title(df_speech, \"Governor\")"
   ]
  },
  {
   "cell_type": "code",
   "execution_count": null,
   "metadata": {
    "collapsed": false
   },
   "outputs": [],
   "source": [
    "df_minutes[\"contents\"].iloc[-1]"
   ]
  },
  {
   "cell_type": "code",
   "execution_count": 44,
   "metadata": {
    "collapsed": false
   },
   "outputs": [],
   "source": [
    "def clean_speech_text(df: pd.DataFrame):\n",
    "    df_new = df.copy()\n",
    "    full_text_col = df_new[\"contents\"].apply \\\n",
    "        (lambda x: x.replace('\\n\\n[SECTION]\\n\\n', '').replace('\\n', ' ').replace('\\r', ' ').strip())\n",
    "    full_text_col = full_text_col.apply(lambda x: re.sub(r'(http)\\S+(htm)(l)?', '', x))\n",
    "    full_text_col = full_text_col.apply(lambda x: re.sub(r'(www.)\\S+', '', x))\n",
    "    full_text_col = full_text_col.apply(lambda x: re.sub(r'[\\d]', '', x))\n",
    "    full_text_col = full_text_col.str.replace('—', ' ')\n",
    "    full_text_col = full_text_col.str.replace('-', ' ')\n",
    "    full_text_col = full_text_col.apply(lambda x: re.sub(r'[^\\w\\s]', '', x))\n",
    "    full_text_col = full_text_col.apply(lambda x: re.sub(r'([Rr]eturn to text)', '', x))\n",
    "    full_text_col = full_text_col.apply(lambda x: re.sub(r'([Pp]lay [vV]ideo)', '', x))\n",
    "    full_text_col = full_text_col.apply(lambda x: re.sub(r'function()', '', x))\n",
    "    full_text_col = full_text_col.apply(lambda x: re.sub(r'/[^\\s]{15,}/', '', x))\n",
    "    df_new.drop(labels='contents', axis=\"columns\", inplace=True)\n",
    "    df_new['contents'] = full_text_col\n",
    "    return df_new"
   ]
  },
  {
   "cell_type": "code",
   "execution_count": 45,
   "metadata": {
    "collapsed": false
   },
   "outputs": [],
   "source": [
    "df_minutes = clean_speech_text(df_minutes)\n",
    "df_speech = clean_speech_text(df_speech)\n",
    "df_statement = clean_speech_text(df_statement)\n"
   ]
  },
  {
   "cell_type": "code",
   "execution_count": null,
   "metadata": {
    "collapsed": false
   },
   "outputs": [],
   "source": [
    "df_minutes[\"contents\"].iloc[3]"
   ]
  },
  {
   "cell_type": "code",
   "execution_count": null,
   "metadata": {
    "collapsed": false,
    "pycharm": {
     "is_executing": true
    }
   },
   "outputs": [],
   "source": [
    "def find_start_speech(text: str):\n",
    "    try:\n",
    "        idx_start = re.search(\"Share\", text).start()\n",
    "        return text[idx_start + 5:]\n",
    "    except:\n",
    "        return text\n"
   ]
  },
  {
   "cell_type": "code",
   "execution_count": 30,
   "metadata": {
    "collapsed": false
   },
   "outputs": [],
   "source": [
    "def replace_white_spaces(text: str):\n",
    "    return \" \".join(text.split())\n",
    "\n",
    "df_statement[\"contents\"] = df_statement['contents'].apply(lambda x: replace_white_spaces(x))\n",
    "df_speech[\"contents\"] = df_speech['contents'].apply(lambda x: replace_white_spaces(x))\n",
    "df_minutes[\"contents\"] = df_minutes['contents'].apply(lambda x: replace_white_spaces(x))"
   ]
  },
  {
   "cell_type": "code",
   "execution_count": null,
   "metadata": {
    "collapsed": false
   },
   "outputs": [],
   "source": [
    "df_statement[\"contents\"].iloc[10]"
   ]
  },
  {
   "cell_type": "code",
   "execution_count": 32,
   "metadata": {
    "collapsed": false
   },
   "outputs": [],
   "source": [
    "df_statement[\"contents\"] = df_statement['contents'].apply(lambda x: find_start_speech(x))\n",
    "df_speech[\"contents\"] = df_speech['contents'].apply(lambda x: find_start_speech(x))\n",
    "df_minutes[\"contents\"] = df_minutes['contents'].apply(lambda x: find_start_speech(x))\n",
    "\n"
   ]
  },
  {
   "cell_type": "code",
   "execution_count": null,
   "metadata": {
    "collapsed": false
   },
   "outputs": [],
   "source": [
    "df_speech[\"contents\"].iloc[10]"
   ]
  },
  {
   "cell_type": "code",
   "execution_count": 18,
   "metadata": {
    "collapsed": false
   },
   "outputs": [],
   "source": [
    "load_model = spacy.load('en_core_web_sm')"
   ]
  },
  {
   "cell_type": "code",
   "execution_count": 19,
   "metadata": {
    "collapsed": false
   },
   "outputs": [],
   "source": [
    "stopwords = load_model.Defaults.stop_words\n"
   ]
  },
  {
   "cell_type": "code",
   "execution_count": 52,
   "metadata": {
    "collapsed": false
   },
   "outputs": [],
   "source": [
    "def apply_lemmatization(text: str):\n",
    "    doc = load_model(text)\n",
    "    return \" \".join([token.lemma_ for token in doc])"
   ]
  },
  {
   "cell_type": "code",
   "execution_count": null,
   "metadata": {
    "collapsed": false,
    "pycharm": {
     "is_executing": true
    }
   },
   "outputs": [],
   "source": [
    "df_statement[\"contents\"].apply(lambda x: apply_lemmatization(x))"
   ]
  },
  {
   "cell_type": "code",
   "execution_count": 22,
   "metadata": {
    "collapsed": false
   },
   "outputs": [],
   "source": []
  },
  {
   "cell_type": "code",
   "execution_count": 22,
   "metadata": {
    "collapsed": false
   },
   "outputs": [],
   "source": []
  },
  {
   "cell_type": "code",
   "execution_count": 22,
   "metadata": {
    "collapsed": false
   },
   "outputs": [],
   "source": []
  },
  {
   "cell_type": "code",
   "execution_count": 22,
   "metadata": {
    "collapsed": false
   },
   "outputs": [],
   "source": []
  },
  {
   "cell_type": "code",
   "execution_count": 22,
   "metadata": {
    "collapsed": false
   },
   "outputs": [],
   "source": []
  }
 ],
 "metadata": {
  "kernelspec": {
   "display_name": "Python 3",
   "language": "python",
   "name": "python3"
  },
  "language_info": {
   "codemirror_mode": {
    "name": "ipython",
    "version": 2
   },
   "file_extension": ".py",
   "mimetype": "text/x-python",
   "name": "python",
   "nbconvert_exporter": "python",
   "pygments_lexer": "ipython2",
   "version": "2.7.6"
  }
 },
 "nbformat": 4,
 "nbformat_minor": 0
}
