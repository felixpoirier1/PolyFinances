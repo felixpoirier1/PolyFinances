{
 "cells": [
  {
   "cell_type": "code",
   "execution_count": 1,
   "outputs": [],
   "source": [
    "import pandas as pd\n",
    "import numpy as np"
   ],
   "metadata": {
    "collapsed": false,
    "pycharm": {
     "name": "#%%\n"
    }
   }
  },
  {
   "cell_type": "code",
   "execution_count": 2,
   "outputs": [],
   "source": [
    "# Compile all the data in one dataframe"
   ],
   "metadata": {
    "collapsed": false,
    "pycharm": {
     "name": "#%%\n"
    }
   }
  },
  {
   "cell_type": "code",
   "execution_count": 3,
   "outputs": [],
   "source": [
    "# Read all the data in data/dataset folder\n",
    "\n",
    "PATH = 'data/dataset/'\n",
    "# Read data starting from line 18\n",
    "\n",
    "df_bcpi = pd.read_csv(f\"{PATH}EconomicIndexCa/BCPI_WEEKLY.csv\", skiprows=17)\n",
    "df_ca_interest = pd.read_csv(f\"{PATH}EconomicIndexCa/CA.-interest_rate.csv\", index_col=0)\n",
    "df_ca_interest.columns = [\"date\", \"can_rate\"]\n",
    "\n",
    "df_crude_oil = pd.read_csv(f\"{PATH}EconomicIndexCa/Crude_Oil_Component_Weights.csv\", skiprows=13)\n"
   ],
   "metadata": {
    "collapsed": false,
    "pycharm": {
     "name": "#%%\n"
    }
   }
  },
  {
   "cell_type": "code",
   "execution_count": 4,
   "outputs": [
    {
     "data": {
      "text/plain": "           date  W.BCPI  W.BCNE   W.ENER  W.MTLS  W.FOPR  W.AGRI   W.FISH  \\\n0    2012-01-04  649.14  391.26  1731.29  717.14  313.74  290.37   923.99   \n1    2012-01-11  646.56  394.83  1707.51  734.82  313.94  288.23   943.50   \n2    2012-01-18  637.80  398.72  1654.60  750.74  313.41  288.67   943.50   \n3    2012-01-25  633.99  402.90  1624.39  761.64  311.42  292.87   943.50   \n4    2012-02-01  633.99  409.16  1605.66  780.23  308.86  297.71   958.40   \n..          ...     ...     ...      ...     ...     ...     ...      ...   \n561  2022-10-05  659.33  451.31  1569.04  784.47  455.27  335.27  1722.21   \n562  2022-10-12  687.44  459.82  1660.19  788.60  484.11  336.83  1722.21   \n563  2022-10-19  661.43  464.30  1549.10  778.44  518.05  335.30  1722.21   \n564  2022-10-26  658.19  465.53  1533.97  775.82  520.11  339.04  1722.21   \n565  2022-11-02  664.19  459.46  1569.92  779.38  484.24  341.87  1722.21   \n\n     can_rate  \n0        1.25  \n1        1.25  \n2        1.25  \n3        1.25  \n4        1.25  \n..        ...  \n561      3.50  \n562      3.50  \n563      3.50  \n564      3.50  \n565      4.00  \n\n[566 rows x 9 columns]",
      "text/html": "<div>\n<style scoped>\n    .dataframe tbody tr th:only-of-type {\n        vertical-align: middle;\n    }\n\n    .dataframe tbody tr th {\n        vertical-align: top;\n    }\n\n    .dataframe thead th {\n        text-align: right;\n    }\n</style>\n<table border=\"1\" class=\"dataframe\">\n  <thead>\n    <tr style=\"text-align: right;\">\n      <th></th>\n      <th>date</th>\n      <th>W.BCPI</th>\n      <th>W.BCNE</th>\n      <th>W.ENER</th>\n      <th>W.MTLS</th>\n      <th>W.FOPR</th>\n      <th>W.AGRI</th>\n      <th>W.FISH</th>\n      <th>can_rate</th>\n    </tr>\n  </thead>\n  <tbody>\n    <tr>\n      <th>0</th>\n      <td>2012-01-04</td>\n      <td>649.14</td>\n      <td>391.26</td>\n      <td>1731.29</td>\n      <td>717.14</td>\n      <td>313.74</td>\n      <td>290.37</td>\n      <td>923.99</td>\n      <td>1.25</td>\n    </tr>\n    <tr>\n      <th>1</th>\n      <td>2012-01-11</td>\n      <td>646.56</td>\n      <td>394.83</td>\n      <td>1707.51</td>\n      <td>734.82</td>\n      <td>313.94</td>\n      <td>288.23</td>\n      <td>943.50</td>\n      <td>1.25</td>\n    </tr>\n    <tr>\n      <th>2</th>\n      <td>2012-01-18</td>\n      <td>637.80</td>\n      <td>398.72</td>\n      <td>1654.60</td>\n      <td>750.74</td>\n      <td>313.41</td>\n      <td>288.67</td>\n      <td>943.50</td>\n      <td>1.25</td>\n    </tr>\n    <tr>\n      <th>3</th>\n      <td>2012-01-25</td>\n      <td>633.99</td>\n      <td>402.90</td>\n      <td>1624.39</td>\n      <td>761.64</td>\n      <td>311.42</td>\n      <td>292.87</td>\n      <td>943.50</td>\n      <td>1.25</td>\n    </tr>\n    <tr>\n      <th>4</th>\n      <td>2012-02-01</td>\n      <td>633.99</td>\n      <td>409.16</td>\n      <td>1605.66</td>\n      <td>780.23</td>\n      <td>308.86</td>\n      <td>297.71</td>\n      <td>958.40</td>\n      <td>1.25</td>\n    </tr>\n    <tr>\n      <th>...</th>\n      <td>...</td>\n      <td>...</td>\n      <td>...</td>\n      <td>...</td>\n      <td>...</td>\n      <td>...</td>\n      <td>...</td>\n      <td>...</td>\n      <td>...</td>\n    </tr>\n    <tr>\n      <th>561</th>\n      <td>2022-10-05</td>\n      <td>659.33</td>\n      <td>451.31</td>\n      <td>1569.04</td>\n      <td>784.47</td>\n      <td>455.27</td>\n      <td>335.27</td>\n      <td>1722.21</td>\n      <td>3.50</td>\n    </tr>\n    <tr>\n      <th>562</th>\n      <td>2022-10-12</td>\n      <td>687.44</td>\n      <td>459.82</td>\n      <td>1660.19</td>\n      <td>788.60</td>\n      <td>484.11</td>\n      <td>336.83</td>\n      <td>1722.21</td>\n      <td>3.50</td>\n    </tr>\n    <tr>\n      <th>563</th>\n      <td>2022-10-19</td>\n      <td>661.43</td>\n      <td>464.30</td>\n      <td>1549.10</td>\n      <td>778.44</td>\n      <td>518.05</td>\n      <td>335.30</td>\n      <td>1722.21</td>\n      <td>3.50</td>\n    </tr>\n    <tr>\n      <th>564</th>\n      <td>2022-10-26</td>\n      <td>658.19</td>\n      <td>465.53</td>\n      <td>1533.97</td>\n      <td>775.82</td>\n      <td>520.11</td>\n      <td>339.04</td>\n      <td>1722.21</td>\n      <td>3.50</td>\n    </tr>\n    <tr>\n      <th>565</th>\n      <td>2022-11-02</td>\n      <td>664.19</td>\n      <td>459.46</td>\n      <td>1569.92</td>\n      <td>779.38</td>\n      <td>484.24</td>\n      <td>341.87</td>\n      <td>1722.21</td>\n      <td>4.00</td>\n    </tr>\n  </tbody>\n</table>\n<p>566 rows × 9 columns</p>\n</div>"
     },
     "execution_count": 4,
     "metadata": {},
     "output_type": "execute_result"
    }
   ],
   "source": [
    "# Merge all the data on the column date\n",
    "\n",
    "df_eco_ca = pd.merge(df_bcpi, df_ca_interest, on='date')\n",
    "df_eco_ca"
   ],
   "metadata": {
    "collapsed": false,
    "pycharm": {
     "name": "#%%\n"
    }
   }
  },
  {
   "cell_type": "code",
   "execution_count": 5,
   "outputs": [],
   "source": [
    "# Forward fill the data in weeks to days\n",
    "\n",
    "df_eco_ca['date'] = pd.to_datetime(df_eco_ca['date'])\n",
    "df_eco_ca = df_eco_ca.set_index('date')\n",
    "df_eco_ca = df_eco_ca.resample('D').ffill()\n",
    "df_eco_ca = df_eco_ca.reset_index()\n",
    "\n",
    "# Convert datetime date column to object\n",
    "df_eco_ca['date'] = df_eco_ca['date'].astype(str)\n",
    "\n",
    "\n",
    "\n"
   ],
   "metadata": {
    "collapsed": false,
    "pycharm": {
     "name": "#%%\n"
    }
   }
  },
  {
   "cell_type": "markdown",
   "source": [
    "1. Forward fill les données entre les semaines\n",
    "2. Mettre un 0 quand la FED ne fait pas de speech"
   ],
   "metadata": {
    "collapsed": false,
    "pycharm": {
     "name": "#%% md\n"
    }
   }
  },
  {
   "cell_type": "code",
   "execution_count": 6,
   "outputs": [
    {
     "data": {
      "text/plain": "(6108, 43)"
     },
     "execution_count": 6,
     "metadata": {},
     "output_type": "execute_result"
    }
   ],
   "source": [
    "df_fx_eur = pd.read_csv(f\"{PATH}EconomicIndexEuro/FXEURFOREIGN.csv\")\n",
    "df_fx_eur.shape"
   ],
   "metadata": {
    "collapsed": false,
    "pycharm": {
     "name": "#%%\n"
    }
   }
  },
  {
   "cell_type": "code",
   "execution_count": 7,
   "outputs": [],
   "source": [
    "df_fx_eur.columns = df_fx_eur.columns.str.lower()"
   ],
   "metadata": {
    "collapsed": false,
    "pycharm": {
     "name": "#%%\n"
    }
   }
  },
  {
   "cell_type": "code",
   "execution_count": 8,
   "outputs": [],
   "source": [
    "df_fx_eur.dropna(inplace=True, axis=1)"
   ],
   "metadata": {
    "collapsed": false,
    "pycharm": {
     "name": "#%%\n"
    }
   }
  },
  {
   "cell_type": "code",
   "execution_count": 8,
   "outputs": [],
   "source": [],
   "metadata": {
    "collapsed": false,
    "pycharm": {
     "name": "#%%\n"
    }
   }
  },
  {
   "cell_type": "code",
   "execution_count": 9,
   "outputs": [],
   "source": [
    "df_eco = pd.merge(df_eco_ca, df_fx_eur, on='date')"
   ],
   "metadata": {
    "collapsed": false,
    "pycharm": {
     "name": "#%%\n"
    }
   }
  },
  {
   "cell_type": "code",
   "execution_count": 10,
   "outputs": [
    {
     "data": {
      "text/plain": "            date  W.BCPI  W.BCNE   W.ENER  W.MTLS  W.FOPR  W.AGRI   W.FISH  \\\n0     2012-01-04  649.14  391.26  1731.29  717.14  313.74  290.37   923.99   \n1     2012-01-05  649.14  391.26  1731.29  717.14  313.74  290.37   923.99   \n2     2012-01-06  649.14  391.26  1731.29  717.14  313.74  290.37   923.99   \n3     2012-01-09  649.14  391.26  1731.29  717.14  313.74  290.37   923.99   \n4     2012-01-10  649.14  391.26  1731.29  717.14  313.74  290.37   923.99   \n...          ...     ...     ...      ...     ...     ...     ...      ...   \n2768  2022-10-27  658.19  465.53  1533.97  775.82  520.11  339.04  1722.21   \n2769  2022-10-28  658.19  465.53  1533.97  775.82  520.11  339.04  1722.21   \n2770  2022-10-31  658.19  465.53  1533.97  775.82  520.11  339.04  1722.21   \n2771  2022-11-01  658.19  465.53  1533.97  775.82  520.11  339.04  1722.21   \n2772  2022-11-02  664.19  459.46  1569.92  779.38  484.24  341.87  1722.21   \n\n      can_rate     usd  ...      sek     chf      nok     aud     cad  \\\n0         1.25  1.2948  ...   8.8985  1.2196   7.7005  1.2552  1.3153   \n1         1.25  1.2832  ...   8.8461  1.2187   7.6825  1.2491  1.3039   \n2         1.25  1.2776  ...   8.8388  1.2177   7.6745  1.2472  1.3051   \n3         1.25  1.2728  ...   8.8343  1.2139   7.6570  1.2468  1.3086   \n4         1.25  1.2808  ...   8.8120  1.2136   7.6555  1.2379  1.3021   \n...        ...     ...  ...      ...     ...      ...     ...     ...   \n2768      3.50  1.0037  ...  10.9583  0.9949  10.3420  1.5610  1.3672   \n2769      3.50  0.9951  ...  10.9403  0.9920  10.2695  1.5511  1.3542   \n2770      3.50  0.9914  ...  10.9010  0.9925  10.3028  1.5529  1.3553   \n2771      3.50  0.9947  ...  10.8740  0.9878  10.1835  1.5409  1.3469   \n2772      4.00  0.9908  ...  10.9065  0.9861  10.2388  1.5426  1.3470   \n\n          hkd      krw     nzd     sgd      zar  \n0     10.0585  1490.61  1.6452  1.6698  10.5259  \n1      9.9647  1482.77  1.6399  1.6562  10.5038  \n2      9.9209  1483.11  1.6347  1.6528  10.4241  \n3      9.8832  1477.28  1.6221  1.6512  10.3735  \n4      9.9471  1478.49  1.6098  1.6506  10.3390  \n...       ...      ...     ...     ...      ...  \n2768   7.8782  1428.57  1.7316  1.4154  18.1521  \n2769   7.8107  1417.70  1.7151  1.4055  18.0530  \n2770   7.7822  1416.12  1.7099  1.4038  18.1736  \n2771   7.8079  1404.63  1.6876  1.4017  17.9802  \n2772   7.7774  1402.01  1.6844  1.3983  17.9608  \n\n[2773 rows x 26 columns]",
      "text/html": "<div>\n<style scoped>\n    .dataframe tbody tr th:only-of-type {\n        vertical-align: middle;\n    }\n\n    .dataframe tbody tr th {\n        vertical-align: top;\n    }\n\n    .dataframe thead th {\n        text-align: right;\n    }\n</style>\n<table border=\"1\" class=\"dataframe\">\n  <thead>\n    <tr style=\"text-align: right;\">\n      <th></th>\n      <th>date</th>\n      <th>W.BCPI</th>\n      <th>W.BCNE</th>\n      <th>W.ENER</th>\n      <th>W.MTLS</th>\n      <th>W.FOPR</th>\n      <th>W.AGRI</th>\n      <th>W.FISH</th>\n      <th>can_rate</th>\n      <th>usd</th>\n      <th>...</th>\n      <th>sek</th>\n      <th>chf</th>\n      <th>nok</th>\n      <th>aud</th>\n      <th>cad</th>\n      <th>hkd</th>\n      <th>krw</th>\n      <th>nzd</th>\n      <th>sgd</th>\n      <th>zar</th>\n    </tr>\n  </thead>\n  <tbody>\n    <tr>\n      <th>0</th>\n      <td>2012-01-04</td>\n      <td>649.14</td>\n      <td>391.26</td>\n      <td>1731.29</td>\n      <td>717.14</td>\n      <td>313.74</td>\n      <td>290.37</td>\n      <td>923.99</td>\n      <td>1.25</td>\n      <td>1.2948</td>\n      <td>...</td>\n      <td>8.8985</td>\n      <td>1.2196</td>\n      <td>7.7005</td>\n      <td>1.2552</td>\n      <td>1.3153</td>\n      <td>10.0585</td>\n      <td>1490.61</td>\n      <td>1.6452</td>\n      <td>1.6698</td>\n      <td>10.5259</td>\n    </tr>\n    <tr>\n      <th>1</th>\n      <td>2012-01-05</td>\n      <td>649.14</td>\n      <td>391.26</td>\n      <td>1731.29</td>\n      <td>717.14</td>\n      <td>313.74</td>\n      <td>290.37</td>\n      <td>923.99</td>\n      <td>1.25</td>\n      <td>1.2832</td>\n      <td>...</td>\n      <td>8.8461</td>\n      <td>1.2187</td>\n      <td>7.6825</td>\n      <td>1.2491</td>\n      <td>1.3039</td>\n      <td>9.9647</td>\n      <td>1482.77</td>\n      <td>1.6399</td>\n      <td>1.6562</td>\n      <td>10.5038</td>\n    </tr>\n    <tr>\n      <th>2</th>\n      <td>2012-01-06</td>\n      <td>649.14</td>\n      <td>391.26</td>\n      <td>1731.29</td>\n      <td>717.14</td>\n      <td>313.74</td>\n      <td>290.37</td>\n      <td>923.99</td>\n      <td>1.25</td>\n      <td>1.2776</td>\n      <td>...</td>\n      <td>8.8388</td>\n      <td>1.2177</td>\n      <td>7.6745</td>\n      <td>1.2472</td>\n      <td>1.3051</td>\n      <td>9.9209</td>\n      <td>1483.11</td>\n      <td>1.6347</td>\n      <td>1.6528</td>\n      <td>10.4241</td>\n    </tr>\n    <tr>\n      <th>3</th>\n      <td>2012-01-09</td>\n      <td>649.14</td>\n      <td>391.26</td>\n      <td>1731.29</td>\n      <td>717.14</td>\n      <td>313.74</td>\n      <td>290.37</td>\n      <td>923.99</td>\n      <td>1.25</td>\n      <td>1.2728</td>\n      <td>...</td>\n      <td>8.8343</td>\n      <td>1.2139</td>\n      <td>7.6570</td>\n      <td>1.2468</td>\n      <td>1.3086</td>\n      <td>9.8832</td>\n      <td>1477.28</td>\n      <td>1.6221</td>\n      <td>1.6512</td>\n      <td>10.3735</td>\n    </tr>\n    <tr>\n      <th>4</th>\n      <td>2012-01-10</td>\n      <td>649.14</td>\n      <td>391.26</td>\n      <td>1731.29</td>\n      <td>717.14</td>\n      <td>313.74</td>\n      <td>290.37</td>\n      <td>923.99</td>\n      <td>1.25</td>\n      <td>1.2808</td>\n      <td>...</td>\n      <td>8.8120</td>\n      <td>1.2136</td>\n      <td>7.6555</td>\n      <td>1.2379</td>\n      <td>1.3021</td>\n      <td>9.9471</td>\n      <td>1478.49</td>\n      <td>1.6098</td>\n      <td>1.6506</td>\n      <td>10.3390</td>\n    </tr>\n    <tr>\n      <th>...</th>\n      <td>...</td>\n      <td>...</td>\n      <td>...</td>\n      <td>...</td>\n      <td>...</td>\n      <td>...</td>\n      <td>...</td>\n      <td>...</td>\n      <td>...</td>\n      <td>...</td>\n      <td>...</td>\n      <td>...</td>\n      <td>...</td>\n      <td>...</td>\n      <td>...</td>\n      <td>...</td>\n      <td>...</td>\n      <td>...</td>\n      <td>...</td>\n      <td>...</td>\n      <td>...</td>\n    </tr>\n    <tr>\n      <th>2768</th>\n      <td>2022-10-27</td>\n      <td>658.19</td>\n      <td>465.53</td>\n      <td>1533.97</td>\n      <td>775.82</td>\n      <td>520.11</td>\n      <td>339.04</td>\n      <td>1722.21</td>\n      <td>3.50</td>\n      <td>1.0037</td>\n      <td>...</td>\n      <td>10.9583</td>\n      <td>0.9949</td>\n      <td>10.3420</td>\n      <td>1.5610</td>\n      <td>1.3672</td>\n      <td>7.8782</td>\n      <td>1428.57</td>\n      <td>1.7316</td>\n      <td>1.4154</td>\n      <td>18.1521</td>\n    </tr>\n    <tr>\n      <th>2769</th>\n      <td>2022-10-28</td>\n      <td>658.19</td>\n      <td>465.53</td>\n      <td>1533.97</td>\n      <td>775.82</td>\n      <td>520.11</td>\n      <td>339.04</td>\n      <td>1722.21</td>\n      <td>3.50</td>\n      <td>0.9951</td>\n      <td>...</td>\n      <td>10.9403</td>\n      <td>0.9920</td>\n      <td>10.2695</td>\n      <td>1.5511</td>\n      <td>1.3542</td>\n      <td>7.8107</td>\n      <td>1417.70</td>\n      <td>1.7151</td>\n      <td>1.4055</td>\n      <td>18.0530</td>\n    </tr>\n    <tr>\n      <th>2770</th>\n      <td>2022-10-31</td>\n      <td>658.19</td>\n      <td>465.53</td>\n      <td>1533.97</td>\n      <td>775.82</td>\n      <td>520.11</td>\n      <td>339.04</td>\n      <td>1722.21</td>\n      <td>3.50</td>\n      <td>0.9914</td>\n      <td>...</td>\n      <td>10.9010</td>\n      <td>0.9925</td>\n      <td>10.3028</td>\n      <td>1.5529</td>\n      <td>1.3553</td>\n      <td>7.7822</td>\n      <td>1416.12</td>\n      <td>1.7099</td>\n      <td>1.4038</td>\n      <td>18.1736</td>\n    </tr>\n    <tr>\n      <th>2771</th>\n      <td>2022-11-01</td>\n      <td>658.19</td>\n      <td>465.53</td>\n      <td>1533.97</td>\n      <td>775.82</td>\n      <td>520.11</td>\n      <td>339.04</td>\n      <td>1722.21</td>\n      <td>3.50</td>\n      <td>0.9947</td>\n      <td>...</td>\n      <td>10.8740</td>\n      <td>0.9878</td>\n      <td>10.1835</td>\n      <td>1.5409</td>\n      <td>1.3469</td>\n      <td>7.8079</td>\n      <td>1404.63</td>\n      <td>1.6876</td>\n      <td>1.4017</td>\n      <td>17.9802</td>\n    </tr>\n    <tr>\n      <th>2772</th>\n      <td>2022-11-02</td>\n      <td>664.19</td>\n      <td>459.46</td>\n      <td>1569.92</td>\n      <td>779.38</td>\n      <td>484.24</td>\n      <td>341.87</td>\n      <td>1722.21</td>\n      <td>4.00</td>\n      <td>0.9908</td>\n      <td>...</td>\n      <td>10.9065</td>\n      <td>0.9861</td>\n      <td>10.2388</td>\n      <td>1.5426</td>\n      <td>1.3470</td>\n      <td>7.7774</td>\n      <td>1402.01</td>\n      <td>1.6844</td>\n      <td>1.3983</td>\n      <td>17.9608</td>\n    </tr>\n  </tbody>\n</table>\n<p>2773 rows × 26 columns</p>\n</div>"
     },
     "execution_count": 10,
     "metadata": {},
     "output_type": "execute_result"
    }
   ],
   "source": [
    "df_eco"
   ],
   "metadata": {
    "collapsed": false,
    "pycharm": {
     "name": "#%%\n"
    }
   }
  },
  {
   "cell_type": "code",
   "execution_count": 11,
   "outputs": [],
   "source": [
    "df_us_interest_rate = pd.read_csv(f\"{PATH}EconomicIndexUs/U.S.-interest_rate.csv\", index_col=0)\n",
    "df_us_interest_rate.columns = [\"date\", \"us_rate\"]"
   ],
   "metadata": {
    "collapsed": false,
    "pycharm": {
     "name": "#%%\n"
    }
   }
  },
  {
   "cell_type": "code",
   "execution_count": 12,
   "outputs": [],
   "source": [
    "df_us_interest_rate['date'] = pd.to_datetime(df_us_interest_rate['date'])\n",
    "df_us_interest_rate = df_us_interest_rate.set_index('date')\n",
    "df_us_interest_rate = df_us_interest_rate.resample('D').ffill()\n",
    "df_us_interest_rate = df_us_interest_rate.reset_index()\n",
    "# Convert datetime date column to object\n",
    "df_us_interest_rate['date'] = df_us_interest_rate['date'].astype(str)\n"
   ],
   "metadata": {
    "collapsed": false,
    "pycharm": {
     "name": "#%%\n"
    }
   }
  },
  {
   "cell_type": "code",
   "execution_count": 13,
   "outputs": [
    {
     "data": {
      "text/plain": "            date  us_rate\n0     2012-01-04     3.25\n1     2012-01-05     3.25\n2     2012-01-06     3.25\n3     2012-01-07     3.25\n4     2012-01-08     3.25\n...          ...      ...\n3944  2022-10-22     6.25\n3945  2022-10-23     6.25\n3946  2022-10-24     6.25\n3947  2022-10-25     6.25\n3948  2022-10-26     6.25\n\n[3949 rows x 2 columns]",
      "text/html": "<div>\n<style scoped>\n    .dataframe tbody tr th:only-of-type {\n        vertical-align: middle;\n    }\n\n    .dataframe tbody tr th {\n        vertical-align: top;\n    }\n\n    .dataframe thead th {\n        text-align: right;\n    }\n</style>\n<table border=\"1\" class=\"dataframe\">\n  <thead>\n    <tr style=\"text-align: right;\">\n      <th></th>\n      <th>date</th>\n      <th>us_rate</th>\n    </tr>\n  </thead>\n  <tbody>\n    <tr>\n      <th>0</th>\n      <td>2012-01-04</td>\n      <td>3.25</td>\n    </tr>\n    <tr>\n      <th>1</th>\n      <td>2012-01-05</td>\n      <td>3.25</td>\n    </tr>\n    <tr>\n      <th>2</th>\n      <td>2012-01-06</td>\n      <td>3.25</td>\n    </tr>\n    <tr>\n      <th>3</th>\n      <td>2012-01-07</td>\n      <td>3.25</td>\n    </tr>\n    <tr>\n      <th>4</th>\n      <td>2012-01-08</td>\n      <td>3.25</td>\n    </tr>\n    <tr>\n      <th>...</th>\n      <td>...</td>\n      <td>...</td>\n    </tr>\n    <tr>\n      <th>3944</th>\n      <td>2022-10-22</td>\n      <td>6.25</td>\n    </tr>\n    <tr>\n      <th>3945</th>\n      <td>2022-10-23</td>\n      <td>6.25</td>\n    </tr>\n    <tr>\n      <th>3946</th>\n      <td>2022-10-24</td>\n      <td>6.25</td>\n    </tr>\n    <tr>\n      <th>3947</th>\n      <td>2022-10-25</td>\n      <td>6.25</td>\n    </tr>\n    <tr>\n      <th>3948</th>\n      <td>2022-10-26</td>\n      <td>6.25</td>\n    </tr>\n  </tbody>\n</table>\n<p>3949 rows × 2 columns</p>\n</div>"
     },
     "execution_count": 13,
     "metadata": {},
     "output_type": "execute_result"
    }
   ],
   "source": [
    "df_us_interest_rate"
   ],
   "metadata": {
    "collapsed": false,
    "pycharm": {
     "name": "#%%\n"
    }
   }
  },
  {
   "cell_type": "code",
   "execution_count": 14,
   "outputs": [
    {
     "data": {
      "text/plain": "            date  W.BCPI  W.BCNE   W.ENER  W.MTLS  W.FOPR  W.AGRI   W.FISH  \\\n0     2012-01-04  649.14  391.26  1731.29  717.14  313.74  290.37   923.99   \n1     2012-01-05  649.14  391.26  1731.29  717.14  313.74  290.37   923.99   \n2     2012-01-06  649.14  391.26  1731.29  717.14  313.74  290.37   923.99   \n3     2012-01-09  649.14  391.26  1731.29  717.14  313.74  290.37   923.99   \n4     2012-01-10  649.14  391.26  1731.29  717.14  313.74  290.37   923.99   \n...          ...     ...     ...      ...     ...     ...     ...      ...   \n2763  2022-10-20  661.43  464.30  1549.10  778.44  518.05  335.30  1722.21   \n2764  2022-10-21  661.43  464.30  1549.10  778.44  518.05  335.30  1722.21   \n2765  2022-10-24  661.43  464.30  1549.10  778.44  518.05  335.30  1722.21   \n2766  2022-10-25  661.43  464.30  1549.10  778.44  518.05  335.30  1722.21   \n2767  2022-10-26  658.19  465.53  1533.97  775.82  520.11  339.04  1722.21   \n\n      can_rate     usd  ...     chf      nok     aud     cad      hkd  \\\n0         1.25  1.2948  ...  1.2196   7.7005  1.2552  1.3153  10.0585   \n1         1.25  1.2832  ...  1.2187   7.6825  1.2491  1.3039   9.9647   \n2         1.25  1.2776  ...  1.2177   7.6745  1.2472  1.3051   9.9209   \n3         1.25  1.2728  ...  1.2139   7.6570  1.2468  1.3086   9.8832   \n4         1.25  1.2808  ...  1.2136   7.6555  1.2379  1.3021   9.9471   \n...        ...     ...  ...     ...      ...     ...     ...      ...   \n2763      3.50  0.9811  ...  0.9836  10.4020  1.5554  1.3461   7.7008   \n2764      3.50  0.9730  ...  0.9855  10.4315  1.5646  1.3465   7.6376   \n2765      3.50  0.9851  ...  0.9856  10.3920  1.5631  1.3502   7.7329   \n2766      3.50  0.9861  ...  0.9888  10.3910  1.5599  1.3537   7.7407   \n2767      3.50  1.0023  ...  0.9917  10.3408  1.5466  1.3568   7.8678   \n\n          krw     nzd     sgd      zar  us_rate  \n0     1490.61  1.6452  1.6698  10.5259     3.25  \n1     1482.77  1.6399  1.6562  10.5038     3.25  \n2     1483.11  1.6347  1.6528  10.4241     3.25  \n3     1477.28  1.6221  1.6512  10.3735     3.25  \n4     1478.49  1.6098  1.6506  10.3390     3.25  \n...       ...     ...     ...      ...      ...  \n2763  1400.30  1.7206  1.3959  17.9106     6.25  \n2764  1404.32  1.7347  1.3917  18.0021     6.25  \n2765  1418.40  1.7343  1.4008  18.0625     6.25  \n2766  1417.50  1.7321  1.4050  18.2211     6.25  \n2767  1422.11  1.7249  1.4104  18.0212     6.25  \n\n[2768 rows x 27 columns]",
      "text/html": "<div>\n<style scoped>\n    .dataframe tbody tr th:only-of-type {\n        vertical-align: middle;\n    }\n\n    .dataframe tbody tr th {\n        vertical-align: top;\n    }\n\n    .dataframe thead th {\n        text-align: right;\n    }\n</style>\n<table border=\"1\" class=\"dataframe\">\n  <thead>\n    <tr style=\"text-align: right;\">\n      <th></th>\n      <th>date</th>\n      <th>W.BCPI</th>\n      <th>W.BCNE</th>\n      <th>W.ENER</th>\n      <th>W.MTLS</th>\n      <th>W.FOPR</th>\n      <th>W.AGRI</th>\n      <th>W.FISH</th>\n      <th>can_rate</th>\n      <th>usd</th>\n      <th>...</th>\n      <th>chf</th>\n      <th>nok</th>\n      <th>aud</th>\n      <th>cad</th>\n      <th>hkd</th>\n      <th>krw</th>\n      <th>nzd</th>\n      <th>sgd</th>\n      <th>zar</th>\n      <th>us_rate</th>\n    </tr>\n  </thead>\n  <tbody>\n    <tr>\n      <th>0</th>\n      <td>2012-01-04</td>\n      <td>649.14</td>\n      <td>391.26</td>\n      <td>1731.29</td>\n      <td>717.14</td>\n      <td>313.74</td>\n      <td>290.37</td>\n      <td>923.99</td>\n      <td>1.25</td>\n      <td>1.2948</td>\n      <td>...</td>\n      <td>1.2196</td>\n      <td>7.7005</td>\n      <td>1.2552</td>\n      <td>1.3153</td>\n      <td>10.0585</td>\n      <td>1490.61</td>\n      <td>1.6452</td>\n      <td>1.6698</td>\n      <td>10.5259</td>\n      <td>3.25</td>\n    </tr>\n    <tr>\n      <th>1</th>\n      <td>2012-01-05</td>\n      <td>649.14</td>\n      <td>391.26</td>\n      <td>1731.29</td>\n      <td>717.14</td>\n      <td>313.74</td>\n      <td>290.37</td>\n      <td>923.99</td>\n      <td>1.25</td>\n      <td>1.2832</td>\n      <td>...</td>\n      <td>1.2187</td>\n      <td>7.6825</td>\n      <td>1.2491</td>\n      <td>1.3039</td>\n      <td>9.9647</td>\n      <td>1482.77</td>\n      <td>1.6399</td>\n      <td>1.6562</td>\n      <td>10.5038</td>\n      <td>3.25</td>\n    </tr>\n    <tr>\n      <th>2</th>\n      <td>2012-01-06</td>\n      <td>649.14</td>\n      <td>391.26</td>\n      <td>1731.29</td>\n      <td>717.14</td>\n      <td>313.74</td>\n      <td>290.37</td>\n      <td>923.99</td>\n      <td>1.25</td>\n      <td>1.2776</td>\n      <td>...</td>\n      <td>1.2177</td>\n      <td>7.6745</td>\n      <td>1.2472</td>\n      <td>1.3051</td>\n      <td>9.9209</td>\n      <td>1483.11</td>\n      <td>1.6347</td>\n      <td>1.6528</td>\n      <td>10.4241</td>\n      <td>3.25</td>\n    </tr>\n    <tr>\n      <th>3</th>\n      <td>2012-01-09</td>\n      <td>649.14</td>\n      <td>391.26</td>\n      <td>1731.29</td>\n      <td>717.14</td>\n      <td>313.74</td>\n      <td>290.37</td>\n      <td>923.99</td>\n      <td>1.25</td>\n      <td>1.2728</td>\n      <td>...</td>\n      <td>1.2139</td>\n      <td>7.6570</td>\n      <td>1.2468</td>\n      <td>1.3086</td>\n      <td>9.8832</td>\n      <td>1477.28</td>\n      <td>1.6221</td>\n      <td>1.6512</td>\n      <td>10.3735</td>\n      <td>3.25</td>\n    </tr>\n    <tr>\n      <th>4</th>\n      <td>2012-01-10</td>\n      <td>649.14</td>\n      <td>391.26</td>\n      <td>1731.29</td>\n      <td>717.14</td>\n      <td>313.74</td>\n      <td>290.37</td>\n      <td>923.99</td>\n      <td>1.25</td>\n      <td>1.2808</td>\n      <td>...</td>\n      <td>1.2136</td>\n      <td>7.6555</td>\n      <td>1.2379</td>\n      <td>1.3021</td>\n      <td>9.9471</td>\n      <td>1478.49</td>\n      <td>1.6098</td>\n      <td>1.6506</td>\n      <td>10.3390</td>\n      <td>3.25</td>\n    </tr>\n    <tr>\n      <th>...</th>\n      <td>...</td>\n      <td>...</td>\n      <td>...</td>\n      <td>...</td>\n      <td>...</td>\n      <td>...</td>\n      <td>...</td>\n      <td>...</td>\n      <td>...</td>\n      <td>...</td>\n      <td>...</td>\n      <td>...</td>\n      <td>...</td>\n      <td>...</td>\n      <td>...</td>\n      <td>...</td>\n      <td>...</td>\n      <td>...</td>\n      <td>...</td>\n      <td>...</td>\n      <td>...</td>\n    </tr>\n    <tr>\n      <th>2763</th>\n      <td>2022-10-20</td>\n      <td>661.43</td>\n      <td>464.30</td>\n      <td>1549.10</td>\n      <td>778.44</td>\n      <td>518.05</td>\n      <td>335.30</td>\n      <td>1722.21</td>\n      <td>3.50</td>\n      <td>0.9811</td>\n      <td>...</td>\n      <td>0.9836</td>\n      <td>10.4020</td>\n      <td>1.5554</td>\n      <td>1.3461</td>\n      <td>7.7008</td>\n      <td>1400.30</td>\n      <td>1.7206</td>\n      <td>1.3959</td>\n      <td>17.9106</td>\n      <td>6.25</td>\n    </tr>\n    <tr>\n      <th>2764</th>\n      <td>2022-10-21</td>\n      <td>661.43</td>\n      <td>464.30</td>\n      <td>1549.10</td>\n      <td>778.44</td>\n      <td>518.05</td>\n      <td>335.30</td>\n      <td>1722.21</td>\n      <td>3.50</td>\n      <td>0.9730</td>\n      <td>...</td>\n      <td>0.9855</td>\n      <td>10.4315</td>\n      <td>1.5646</td>\n      <td>1.3465</td>\n      <td>7.6376</td>\n      <td>1404.32</td>\n      <td>1.7347</td>\n      <td>1.3917</td>\n      <td>18.0021</td>\n      <td>6.25</td>\n    </tr>\n    <tr>\n      <th>2765</th>\n      <td>2022-10-24</td>\n      <td>661.43</td>\n      <td>464.30</td>\n      <td>1549.10</td>\n      <td>778.44</td>\n      <td>518.05</td>\n      <td>335.30</td>\n      <td>1722.21</td>\n      <td>3.50</td>\n      <td>0.9851</td>\n      <td>...</td>\n      <td>0.9856</td>\n      <td>10.3920</td>\n      <td>1.5631</td>\n      <td>1.3502</td>\n      <td>7.7329</td>\n      <td>1418.40</td>\n      <td>1.7343</td>\n      <td>1.4008</td>\n      <td>18.0625</td>\n      <td>6.25</td>\n    </tr>\n    <tr>\n      <th>2766</th>\n      <td>2022-10-25</td>\n      <td>661.43</td>\n      <td>464.30</td>\n      <td>1549.10</td>\n      <td>778.44</td>\n      <td>518.05</td>\n      <td>335.30</td>\n      <td>1722.21</td>\n      <td>3.50</td>\n      <td>0.9861</td>\n      <td>...</td>\n      <td>0.9888</td>\n      <td>10.3910</td>\n      <td>1.5599</td>\n      <td>1.3537</td>\n      <td>7.7407</td>\n      <td>1417.50</td>\n      <td>1.7321</td>\n      <td>1.4050</td>\n      <td>18.2211</td>\n      <td>6.25</td>\n    </tr>\n    <tr>\n      <th>2767</th>\n      <td>2022-10-26</td>\n      <td>658.19</td>\n      <td>465.53</td>\n      <td>1533.97</td>\n      <td>775.82</td>\n      <td>520.11</td>\n      <td>339.04</td>\n      <td>1722.21</td>\n      <td>3.50</td>\n      <td>1.0023</td>\n      <td>...</td>\n      <td>0.9917</td>\n      <td>10.3408</td>\n      <td>1.5466</td>\n      <td>1.3568</td>\n      <td>7.8678</td>\n      <td>1422.11</td>\n      <td>1.7249</td>\n      <td>1.4104</td>\n      <td>18.0212</td>\n      <td>6.25</td>\n    </tr>\n  </tbody>\n</table>\n<p>2768 rows × 27 columns</p>\n</div>"
     },
     "execution_count": 14,
     "metadata": {},
     "output_type": "execute_result"
    }
   ],
   "source": [
    "df_eco = pd.merge(df_eco, df_us_interest_rate, on='date')\n",
    "df_eco"
   ],
   "metadata": {
    "collapsed": false,
    "pycharm": {
     "name": "#%%\n"
    }
   }
  },
  {
   "cell_type": "code",
   "execution_count": 15,
   "outputs": [
    {
     "data": {
      "text/plain": "            date  us_2y  us_3y  us_5y  us_10y  convex1  convex2  convex3\n0     2001-01-02  -0.24  -0.32  -0.43   -0.36    -0.08    -0.11     0.07\n1     2001-01-03  -0.19  -0.25  -0.34   -0.29    -0.06    -0.09     0.05\n2     2001-01-04  -0.22  -0.29  -0.38   -0.36    -0.07    -0.09     0.02\n3     2001-01-05  -0.32  -0.39  -0.44   -0.39    -0.07    -0.05     0.05\n4     2001-01-08  -0.35  -0.43  -0.47   -0.41    -0.08    -0.04     0.06\n...          ...    ...    ...    ...     ...      ...      ...      ...\n5457  2022-10-24   0.35   0.41   0.65    0.68     0.06     0.24     0.03\n5458  2022-10-25   0.27   0.35   0.59    0.62     0.08     0.24     0.03\n5459  2022-10-26   0.52   0.59   0.79    0.76     0.07     0.20    -0.03\n5460  2022-10-27   0.48   0.52   0.76    0.77     0.04     0.24     0.01\n5461  2022-10-28   0.57   0.59   0.81    0.79     0.02     0.22    -0.02\n\n[5462 rows x 8 columns]",
      "text/html": "<div>\n<style scoped>\n    .dataframe tbody tr th:only-of-type {\n        vertical-align: middle;\n    }\n\n    .dataframe tbody tr th {\n        vertical-align: top;\n    }\n\n    .dataframe thead th {\n        text-align: right;\n    }\n</style>\n<table border=\"1\" class=\"dataframe\">\n  <thead>\n    <tr style=\"text-align: right;\">\n      <th></th>\n      <th>date</th>\n      <th>us_2y</th>\n      <th>us_3y</th>\n      <th>us_5y</th>\n      <th>us_10y</th>\n      <th>convex1</th>\n      <th>convex2</th>\n      <th>convex3</th>\n    </tr>\n  </thead>\n  <tbody>\n    <tr>\n      <th>0</th>\n      <td>2001-01-02</td>\n      <td>-0.24</td>\n      <td>-0.32</td>\n      <td>-0.43</td>\n      <td>-0.36</td>\n      <td>-0.08</td>\n      <td>-0.11</td>\n      <td>0.07</td>\n    </tr>\n    <tr>\n      <th>1</th>\n      <td>2001-01-03</td>\n      <td>-0.19</td>\n      <td>-0.25</td>\n      <td>-0.34</td>\n      <td>-0.29</td>\n      <td>-0.06</td>\n      <td>-0.09</td>\n      <td>0.05</td>\n    </tr>\n    <tr>\n      <th>2</th>\n      <td>2001-01-04</td>\n      <td>-0.22</td>\n      <td>-0.29</td>\n      <td>-0.38</td>\n      <td>-0.36</td>\n      <td>-0.07</td>\n      <td>-0.09</td>\n      <td>0.02</td>\n    </tr>\n    <tr>\n      <th>3</th>\n      <td>2001-01-05</td>\n      <td>-0.32</td>\n      <td>-0.39</td>\n      <td>-0.44</td>\n      <td>-0.39</td>\n      <td>-0.07</td>\n      <td>-0.05</td>\n      <td>0.05</td>\n    </tr>\n    <tr>\n      <th>4</th>\n      <td>2001-01-08</td>\n      <td>-0.35</td>\n      <td>-0.43</td>\n      <td>-0.47</td>\n      <td>-0.41</td>\n      <td>-0.08</td>\n      <td>-0.04</td>\n      <td>0.06</td>\n    </tr>\n    <tr>\n      <th>...</th>\n      <td>...</td>\n      <td>...</td>\n      <td>...</td>\n      <td>...</td>\n      <td>...</td>\n      <td>...</td>\n      <td>...</td>\n      <td>...</td>\n    </tr>\n    <tr>\n      <th>5457</th>\n      <td>2022-10-24</td>\n      <td>0.35</td>\n      <td>0.41</td>\n      <td>0.65</td>\n      <td>0.68</td>\n      <td>0.06</td>\n      <td>0.24</td>\n      <td>0.03</td>\n    </tr>\n    <tr>\n      <th>5458</th>\n      <td>2022-10-25</td>\n      <td>0.27</td>\n      <td>0.35</td>\n      <td>0.59</td>\n      <td>0.62</td>\n      <td>0.08</td>\n      <td>0.24</td>\n      <td>0.03</td>\n    </tr>\n    <tr>\n      <th>5459</th>\n      <td>2022-10-26</td>\n      <td>0.52</td>\n      <td>0.59</td>\n      <td>0.79</td>\n      <td>0.76</td>\n      <td>0.07</td>\n      <td>0.20</td>\n      <td>-0.03</td>\n    </tr>\n    <tr>\n      <th>5460</th>\n      <td>2022-10-27</td>\n      <td>0.48</td>\n      <td>0.52</td>\n      <td>0.76</td>\n      <td>0.77</td>\n      <td>0.04</td>\n      <td>0.24</td>\n      <td>0.01</td>\n    </tr>\n    <tr>\n      <th>5461</th>\n      <td>2022-10-28</td>\n      <td>0.57</td>\n      <td>0.59</td>\n      <td>0.81</td>\n      <td>0.79</td>\n      <td>0.02</td>\n      <td>0.22</td>\n      <td>-0.02</td>\n    </tr>\n  </tbody>\n</table>\n<p>5462 rows × 8 columns</p>\n</div>"
     },
     "execution_count": 15,
     "metadata": {},
     "output_type": "execute_result"
    }
   ],
   "source": [
    "# Name the first column of df_bond_yields as 'date'\n",
    "\n",
    "df_bond_yields = pd.read_csv(f\"{PATH}bond_yields.csv\", index_col=0)\n",
    "df_cad_yields = pd.read_csv(f\"{PATH}cadbond.csv\")\n",
    "\n",
    "df_bond_yields.reset_index(inplace=True)\n",
    "\n",
    "df_bond_yields.columns = [\"date\", \"us_2y\", \"us_3y\", \"us_5y\", \"us_10y\", \"convex1\", \"convex2\", \"convex3\"]\n",
    "df_bond_yields"
   ],
   "metadata": {
    "collapsed": false,
    "pycharm": {
     "name": "#%%\n"
    }
   }
  },
  {
   "cell_type": "code",
   "execution_count": 16,
   "outputs": [],
   "source": [
    "df_cad_yields.columns = [\"date\", \"cad_2y\", \"cad_3y\", \"cad_5y\", \"cad_10y\"]"
   ],
   "metadata": {
    "collapsed": false,
    "pycharm": {
     "name": "#%%\n"
    }
   }
  },
  {
   "cell_type": "code",
   "execution_count": 17,
   "outputs": [],
   "source": [
    "df_usd_bonds = pd.read_csv(f\"{PATH}usdbond.csv\")\n",
    "df_usd_cad = pd.read_csv(f\"{PATH}usdcad.csv\")\n",
    "\n",
    "df_usd_cad.columns = [\"date\", \"usd/cad\"]\n",
    "df_usd_bonds.columns = [\"date\", \"DGS2\", \"DGS3\", \"DGS5\", \"DGS10\"]\n",
    "\n"
   ],
   "metadata": {
    "collapsed": false,
    "pycharm": {
     "name": "#%%\n"
    }
   }
  },
  {
   "cell_type": "code",
   "execution_count": 18,
   "outputs": [
    {
     "data": {
      "text/plain": "            date  cad_2y  cad_3y  cad_5y  cad_10y  us_2y  us_3y  us_5y  \\\n0     2001-01-02    5.11    5.14    5.19     5.28  -0.24  -0.32  -0.43   \n1     2001-01-03    5.11    5.17    5.28     5.43  -0.19  -0.25  -0.34   \n2     2001-01-04    4.99    5.07    5.20     5.39  -0.22  -0.29  -0.38   \n3     2001-01-05    4.88    4.96    5.10     5.32  -0.32  -0.39  -0.44   \n4     2001-01-08    4.89    4.98    5.12     5.35  -0.35  -0.43  -0.47   \n...          ...     ...     ...     ...      ...    ...    ...    ...   \n5457  2022-10-24    4.15    4.11    3.71     3.57   0.35   0.41   0.65   \n5458  2022-10-25    4.15    4.10    3.66     3.48   0.27   0.35   0.59   \n5459  2022-10-26    3.87    3.82    3.41     3.28   0.52   0.59   0.79   \n5460  2022-10-27    3.82    3.77    3.33     3.19   0.48   0.52   0.76   \n5461  2022-10-28    3.84    3.79    3.38     3.23   0.57   0.59   0.81   \n\n      us_10y  convex1  convex2  convex3  \n0      -0.36    -0.08    -0.11     0.07  \n1      -0.29    -0.06    -0.09     0.05  \n2      -0.36    -0.07    -0.09     0.02  \n3      -0.39    -0.07    -0.05     0.05  \n4      -0.41    -0.08    -0.04     0.06  \n...      ...      ...      ...      ...  \n5457    0.68     0.06     0.24     0.03  \n5458    0.62     0.08     0.24     0.03  \n5459    0.76     0.07     0.20    -0.03  \n5460    0.77     0.04     0.24     0.01  \n5461    0.79     0.02     0.22    -0.02  \n\n[5462 rows x 12 columns]",
      "text/html": "<div>\n<style scoped>\n    .dataframe tbody tr th:only-of-type {\n        vertical-align: middle;\n    }\n\n    .dataframe tbody tr th {\n        vertical-align: top;\n    }\n\n    .dataframe thead th {\n        text-align: right;\n    }\n</style>\n<table border=\"1\" class=\"dataframe\">\n  <thead>\n    <tr style=\"text-align: right;\">\n      <th></th>\n      <th>date</th>\n      <th>cad_2y</th>\n      <th>cad_3y</th>\n      <th>cad_5y</th>\n      <th>cad_10y</th>\n      <th>us_2y</th>\n      <th>us_3y</th>\n      <th>us_5y</th>\n      <th>us_10y</th>\n      <th>convex1</th>\n      <th>convex2</th>\n      <th>convex3</th>\n    </tr>\n  </thead>\n  <tbody>\n    <tr>\n      <th>0</th>\n      <td>2001-01-02</td>\n      <td>5.11</td>\n      <td>5.14</td>\n      <td>5.19</td>\n      <td>5.28</td>\n      <td>-0.24</td>\n      <td>-0.32</td>\n      <td>-0.43</td>\n      <td>-0.36</td>\n      <td>-0.08</td>\n      <td>-0.11</td>\n      <td>0.07</td>\n    </tr>\n    <tr>\n      <th>1</th>\n      <td>2001-01-03</td>\n      <td>5.11</td>\n      <td>5.17</td>\n      <td>5.28</td>\n      <td>5.43</td>\n      <td>-0.19</td>\n      <td>-0.25</td>\n      <td>-0.34</td>\n      <td>-0.29</td>\n      <td>-0.06</td>\n      <td>-0.09</td>\n      <td>0.05</td>\n    </tr>\n    <tr>\n      <th>2</th>\n      <td>2001-01-04</td>\n      <td>4.99</td>\n      <td>5.07</td>\n      <td>5.20</td>\n      <td>5.39</td>\n      <td>-0.22</td>\n      <td>-0.29</td>\n      <td>-0.38</td>\n      <td>-0.36</td>\n      <td>-0.07</td>\n      <td>-0.09</td>\n      <td>0.02</td>\n    </tr>\n    <tr>\n      <th>3</th>\n      <td>2001-01-05</td>\n      <td>4.88</td>\n      <td>4.96</td>\n      <td>5.10</td>\n      <td>5.32</td>\n      <td>-0.32</td>\n      <td>-0.39</td>\n      <td>-0.44</td>\n      <td>-0.39</td>\n      <td>-0.07</td>\n      <td>-0.05</td>\n      <td>0.05</td>\n    </tr>\n    <tr>\n      <th>4</th>\n      <td>2001-01-08</td>\n      <td>4.89</td>\n      <td>4.98</td>\n      <td>5.12</td>\n      <td>5.35</td>\n      <td>-0.35</td>\n      <td>-0.43</td>\n      <td>-0.47</td>\n      <td>-0.41</td>\n      <td>-0.08</td>\n      <td>-0.04</td>\n      <td>0.06</td>\n    </tr>\n    <tr>\n      <th>...</th>\n      <td>...</td>\n      <td>...</td>\n      <td>...</td>\n      <td>...</td>\n      <td>...</td>\n      <td>...</td>\n      <td>...</td>\n      <td>...</td>\n      <td>...</td>\n      <td>...</td>\n      <td>...</td>\n      <td>...</td>\n    </tr>\n    <tr>\n      <th>5457</th>\n      <td>2022-10-24</td>\n      <td>4.15</td>\n      <td>4.11</td>\n      <td>3.71</td>\n      <td>3.57</td>\n      <td>0.35</td>\n      <td>0.41</td>\n      <td>0.65</td>\n      <td>0.68</td>\n      <td>0.06</td>\n      <td>0.24</td>\n      <td>0.03</td>\n    </tr>\n    <tr>\n      <th>5458</th>\n      <td>2022-10-25</td>\n      <td>4.15</td>\n      <td>4.10</td>\n      <td>3.66</td>\n      <td>3.48</td>\n      <td>0.27</td>\n      <td>0.35</td>\n      <td>0.59</td>\n      <td>0.62</td>\n      <td>0.08</td>\n      <td>0.24</td>\n      <td>0.03</td>\n    </tr>\n    <tr>\n      <th>5459</th>\n      <td>2022-10-26</td>\n      <td>3.87</td>\n      <td>3.82</td>\n      <td>3.41</td>\n      <td>3.28</td>\n      <td>0.52</td>\n      <td>0.59</td>\n      <td>0.79</td>\n      <td>0.76</td>\n      <td>0.07</td>\n      <td>0.20</td>\n      <td>-0.03</td>\n    </tr>\n    <tr>\n      <th>5460</th>\n      <td>2022-10-27</td>\n      <td>3.82</td>\n      <td>3.77</td>\n      <td>3.33</td>\n      <td>3.19</td>\n      <td>0.48</td>\n      <td>0.52</td>\n      <td>0.76</td>\n      <td>0.77</td>\n      <td>0.04</td>\n      <td>0.24</td>\n      <td>0.01</td>\n    </tr>\n    <tr>\n      <th>5461</th>\n      <td>2022-10-28</td>\n      <td>3.84</td>\n      <td>3.79</td>\n      <td>3.38</td>\n      <td>3.23</td>\n      <td>0.57</td>\n      <td>0.59</td>\n      <td>0.81</td>\n      <td>0.79</td>\n      <td>0.02</td>\n      <td>0.22</td>\n      <td>-0.02</td>\n    </tr>\n  </tbody>\n</table>\n<p>5462 rows × 12 columns</p>\n</div>"
     },
     "execution_count": 18,
     "metadata": {},
     "output_type": "execute_result"
    }
   ],
   "source": [
    "df_bonds = pd.merge(df_cad_yields, df_bond_yields, on='date')\n",
    "df_bonds"
   ],
   "metadata": {
    "collapsed": false,
    "pycharm": {
     "name": "#%%\n"
    }
   }
  },
  {
   "cell_type": "code",
   "execution_count": 19,
   "outputs": [],
   "source": [
    "df_usd = pd.merge(df_usd_cad, df_usd_bonds, on='date')"
   ],
   "metadata": {
    "collapsed": false,
    "pycharm": {
     "name": "#%%\n"
    }
   }
  },
  {
   "cell_type": "code",
   "execution_count": 20,
   "outputs": [
    {
     "data": {
      "text/plain": "            date  usd/cad  DGS2  DGS3  DGS5  DGS10\n0     2000-01-03   1.4465  6.38  6.42  6.50   6.58\n1     2000-01-04   1.4518  6.30  6.34  6.40   6.49\n2     2000-01-05   1.4518  6.38  6.43  6.51   6.62\n3     2000-01-06   1.4571  6.35  6.39  6.46   6.57\n4     2000-01-07   1.4505  6.31  6.35  6.42   6.52\n...          ...      ...   ...   ...   ...    ...\n5950  2022-10-24   1.3704  4.50  4.52  4.36   4.25\n5951  2022-10-25   1.3616  4.42  4.45  4.25   4.10\n5952  2022-10-26   1.3551  4.39  4.41  4.20   4.04\n5953  2022-10-27   1.3532  4.30  4.29  4.09   3.96\n5954  2022-10-28   1.3622  4.41  4.38  4.19   4.02\n\n[5955 rows x 6 columns]",
      "text/html": "<div>\n<style scoped>\n    .dataframe tbody tr th:only-of-type {\n        vertical-align: middle;\n    }\n\n    .dataframe tbody tr th {\n        vertical-align: top;\n    }\n\n    .dataframe thead th {\n        text-align: right;\n    }\n</style>\n<table border=\"1\" class=\"dataframe\">\n  <thead>\n    <tr style=\"text-align: right;\">\n      <th></th>\n      <th>date</th>\n      <th>usd/cad</th>\n      <th>DGS2</th>\n      <th>DGS3</th>\n      <th>DGS5</th>\n      <th>DGS10</th>\n    </tr>\n  </thead>\n  <tbody>\n    <tr>\n      <th>0</th>\n      <td>2000-01-03</td>\n      <td>1.4465</td>\n      <td>6.38</td>\n      <td>6.42</td>\n      <td>6.50</td>\n      <td>6.58</td>\n    </tr>\n    <tr>\n      <th>1</th>\n      <td>2000-01-04</td>\n      <td>1.4518</td>\n      <td>6.30</td>\n      <td>6.34</td>\n      <td>6.40</td>\n      <td>6.49</td>\n    </tr>\n    <tr>\n      <th>2</th>\n      <td>2000-01-05</td>\n      <td>1.4518</td>\n      <td>6.38</td>\n      <td>6.43</td>\n      <td>6.51</td>\n      <td>6.62</td>\n    </tr>\n    <tr>\n      <th>3</th>\n      <td>2000-01-06</td>\n      <td>1.4571</td>\n      <td>6.35</td>\n      <td>6.39</td>\n      <td>6.46</td>\n      <td>6.57</td>\n    </tr>\n    <tr>\n      <th>4</th>\n      <td>2000-01-07</td>\n      <td>1.4505</td>\n      <td>6.31</td>\n      <td>6.35</td>\n      <td>6.42</td>\n      <td>6.52</td>\n    </tr>\n    <tr>\n      <th>...</th>\n      <td>...</td>\n      <td>...</td>\n      <td>...</td>\n      <td>...</td>\n      <td>...</td>\n      <td>...</td>\n    </tr>\n    <tr>\n      <th>5950</th>\n      <td>2022-10-24</td>\n      <td>1.3704</td>\n      <td>4.50</td>\n      <td>4.52</td>\n      <td>4.36</td>\n      <td>4.25</td>\n    </tr>\n    <tr>\n      <th>5951</th>\n      <td>2022-10-25</td>\n      <td>1.3616</td>\n      <td>4.42</td>\n      <td>4.45</td>\n      <td>4.25</td>\n      <td>4.10</td>\n    </tr>\n    <tr>\n      <th>5952</th>\n      <td>2022-10-26</td>\n      <td>1.3551</td>\n      <td>4.39</td>\n      <td>4.41</td>\n      <td>4.20</td>\n      <td>4.04</td>\n    </tr>\n    <tr>\n      <th>5953</th>\n      <td>2022-10-27</td>\n      <td>1.3532</td>\n      <td>4.30</td>\n      <td>4.29</td>\n      <td>4.09</td>\n      <td>3.96</td>\n    </tr>\n    <tr>\n      <th>5954</th>\n      <td>2022-10-28</td>\n      <td>1.3622</td>\n      <td>4.41</td>\n      <td>4.38</td>\n      <td>4.19</td>\n      <td>4.02</td>\n    </tr>\n  </tbody>\n</table>\n<p>5955 rows × 6 columns</p>\n</div>"
     },
     "execution_count": 20,
     "metadata": {},
     "output_type": "execute_result"
    }
   ],
   "source": [
    "df_usd"
   ],
   "metadata": {
    "collapsed": false,
    "pycharm": {
     "name": "#%%\n"
    }
   }
  },
  {
   "cell_type": "code",
   "execution_count": 21,
   "outputs": [
    {
     "data": {
      "text/plain": "            date  usd/cad  DGS2  DGS3  DGS5  DGS10  cad_2y  cad_3y  cad_5y  \\\n0     2001-01-02   1.4963  4.87  4.82  4.76   4.92    5.11    5.14    5.19   \n1     2001-01-03   1.4982  4.92  4.92  4.94   5.14    5.11    5.17    5.28   \n2     2001-01-04   1.4985  4.77  4.78  4.82   5.03    4.99    5.07    5.20   \n3     2001-01-05   1.5003  4.56  4.57  4.66   4.93    4.88    4.96    5.10   \n4     2001-01-08   1.4944  4.54  4.55  4.65   4.94    4.89    4.98    5.12   \n...          ...      ...   ...   ...   ...    ...     ...     ...     ...   \n5457  2022-10-24   1.3704  4.50  4.52  4.36   4.25    4.15    4.11    3.71   \n5458  2022-10-25   1.3616  4.42  4.45  4.25   4.10    4.15    4.10    3.66   \n5459  2022-10-26   1.3551  4.39  4.41  4.20   4.04    3.87    3.82    3.41   \n5460  2022-10-27   1.3532  4.30  4.29  4.09   3.96    3.82    3.77    3.33   \n5461  2022-10-28   1.3622  4.41  4.38  4.19   4.02    3.84    3.79    3.38   \n\n      cad_10y  us_2y  us_3y  us_5y  us_10y  convex1  convex2  convex3  \n0        5.28  -0.24  -0.32  -0.43   -0.36    -0.08    -0.11     0.07  \n1        5.43  -0.19  -0.25  -0.34   -0.29    -0.06    -0.09     0.05  \n2        5.39  -0.22  -0.29  -0.38   -0.36    -0.07    -0.09     0.02  \n3        5.32  -0.32  -0.39  -0.44   -0.39    -0.07    -0.05     0.05  \n4        5.35  -0.35  -0.43  -0.47   -0.41    -0.08    -0.04     0.06  \n...       ...    ...    ...    ...     ...      ...      ...      ...  \n5457     3.57   0.35   0.41   0.65    0.68     0.06     0.24     0.03  \n5458     3.48   0.27   0.35   0.59    0.62     0.08     0.24     0.03  \n5459     3.28   0.52   0.59   0.79    0.76     0.07     0.20    -0.03  \n5460     3.19   0.48   0.52   0.76    0.77     0.04     0.24     0.01  \n5461     3.23   0.57   0.59   0.81    0.79     0.02     0.22    -0.02  \n\n[5462 rows x 17 columns]",
      "text/html": "<div>\n<style scoped>\n    .dataframe tbody tr th:only-of-type {\n        vertical-align: middle;\n    }\n\n    .dataframe tbody tr th {\n        vertical-align: top;\n    }\n\n    .dataframe thead th {\n        text-align: right;\n    }\n</style>\n<table border=\"1\" class=\"dataframe\">\n  <thead>\n    <tr style=\"text-align: right;\">\n      <th></th>\n      <th>date</th>\n      <th>usd/cad</th>\n      <th>DGS2</th>\n      <th>DGS3</th>\n      <th>DGS5</th>\n      <th>DGS10</th>\n      <th>cad_2y</th>\n      <th>cad_3y</th>\n      <th>cad_5y</th>\n      <th>cad_10y</th>\n      <th>us_2y</th>\n      <th>us_3y</th>\n      <th>us_5y</th>\n      <th>us_10y</th>\n      <th>convex1</th>\n      <th>convex2</th>\n      <th>convex3</th>\n    </tr>\n  </thead>\n  <tbody>\n    <tr>\n      <th>0</th>\n      <td>2001-01-02</td>\n      <td>1.4963</td>\n      <td>4.87</td>\n      <td>4.82</td>\n      <td>4.76</td>\n      <td>4.92</td>\n      <td>5.11</td>\n      <td>5.14</td>\n      <td>5.19</td>\n      <td>5.28</td>\n      <td>-0.24</td>\n      <td>-0.32</td>\n      <td>-0.43</td>\n      <td>-0.36</td>\n      <td>-0.08</td>\n      <td>-0.11</td>\n      <td>0.07</td>\n    </tr>\n    <tr>\n      <th>1</th>\n      <td>2001-01-03</td>\n      <td>1.4982</td>\n      <td>4.92</td>\n      <td>4.92</td>\n      <td>4.94</td>\n      <td>5.14</td>\n      <td>5.11</td>\n      <td>5.17</td>\n      <td>5.28</td>\n      <td>5.43</td>\n      <td>-0.19</td>\n      <td>-0.25</td>\n      <td>-0.34</td>\n      <td>-0.29</td>\n      <td>-0.06</td>\n      <td>-0.09</td>\n      <td>0.05</td>\n    </tr>\n    <tr>\n      <th>2</th>\n      <td>2001-01-04</td>\n      <td>1.4985</td>\n      <td>4.77</td>\n      <td>4.78</td>\n      <td>4.82</td>\n      <td>5.03</td>\n      <td>4.99</td>\n      <td>5.07</td>\n      <td>5.20</td>\n      <td>5.39</td>\n      <td>-0.22</td>\n      <td>-0.29</td>\n      <td>-0.38</td>\n      <td>-0.36</td>\n      <td>-0.07</td>\n      <td>-0.09</td>\n      <td>0.02</td>\n    </tr>\n    <tr>\n      <th>3</th>\n      <td>2001-01-05</td>\n      <td>1.5003</td>\n      <td>4.56</td>\n      <td>4.57</td>\n      <td>4.66</td>\n      <td>4.93</td>\n      <td>4.88</td>\n      <td>4.96</td>\n      <td>5.10</td>\n      <td>5.32</td>\n      <td>-0.32</td>\n      <td>-0.39</td>\n      <td>-0.44</td>\n      <td>-0.39</td>\n      <td>-0.07</td>\n      <td>-0.05</td>\n      <td>0.05</td>\n    </tr>\n    <tr>\n      <th>4</th>\n      <td>2001-01-08</td>\n      <td>1.4944</td>\n      <td>4.54</td>\n      <td>4.55</td>\n      <td>4.65</td>\n      <td>4.94</td>\n      <td>4.89</td>\n      <td>4.98</td>\n      <td>5.12</td>\n      <td>5.35</td>\n      <td>-0.35</td>\n      <td>-0.43</td>\n      <td>-0.47</td>\n      <td>-0.41</td>\n      <td>-0.08</td>\n      <td>-0.04</td>\n      <td>0.06</td>\n    </tr>\n    <tr>\n      <th>...</th>\n      <td>...</td>\n      <td>...</td>\n      <td>...</td>\n      <td>...</td>\n      <td>...</td>\n      <td>...</td>\n      <td>...</td>\n      <td>...</td>\n      <td>...</td>\n      <td>...</td>\n      <td>...</td>\n      <td>...</td>\n      <td>...</td>\n      <td>...</td>\n      <td>...</td>\n      <td>...</td>\n      <td>...</td>\n    </tr>\n    <tr>\n      <th>5457</th>\n      <td>2022-10-24</td>\n      <td>1.3704</td>\n      <td>4.50</td>\n      <td>4.52</td>\n      <td>4.36</td>\n      <td>4.25</td>\n      <td>4.15</td>\n      <td>4.11</td>\n      <td>3.71</td>\n      <td>3.57</td>\n      <td>0.35</td>\n      <td>0.41</td>\n      <td>0.65</td>\n      <td>0.68</td>\n      <td>0.06</td>\n      <td>0.24</td>\n      <td>0.03</td>\n    </tr>\n    <tr>\n      <th>5458</th>\n      <td>2022-10-25</td>\n      <td>1.3616</td>\n      <td>4.42</td>\n      <td>4.45</td>\n      <td>4.25</td>\n      <td>4.10</td>\n      <td>4.15</td>\n      <td>4.10</td>\n      <td>3.66</td>\n      <td>3.48</td>\n      <td>0.27</td>\n      <td>0.35</td>\n      <td>0.59</td>\n      <td>0.62</td>\n      <td>0.08</td>\n      <td>0.24</td>\n      <td>0.03</td>\n    </tr>\n    <tr>\n      <th>5459</th>\n      <td>2022-10-26</td>\n      <td>1.3551</td>\n      <td>4.39</td>\n      <td>4.41</td>\n      <td>4.20</td>\n      <td>4.04</td>\n      <td>3.87</td>\n      <td>3.82</td>\n      <td>3.41</td>\n      <td>3.28</td>\n      <td>0.52</td>\n      <td>0.59</td>\n      <td>0.79</td>\n      <td>0.76</td>\n      <td>0.07</td>\n      <td>0.20</td>\n      <td>-0.03</td>\n    </tr>\n    <tr>\n      <th>5460</th>\n      <td>2022-10-27</td>\n      <td>1.3532</td>\n      <td>4.30</td>\n      <td>4.29</td>\n      <td>4.09</td>\n      <td>3.96</td>\n      <td>3.82</td>\n      <td>3.77</td>\n      <td>3.33</td>\n      <td>3.19</td>\n      <td>0.48</td>\n      <td>0.52</td>\n      <td>0.76</td>\n      <td>0.77</td>\n      <td>0.04</td>\n      <td>0.24</td>\n      <td>0.01</td>\n    </tr>\n    <tr>\n      <th>5461</th>\n      <td>2022-10-28</td>\n      <td>1.3622</td>\n      <td>4.41</td>\n      <td>4.38</td>\n      <td>4.19</td>\n      <td>4.02</td>\n      <td>3.84</td>\n      <td>3.79</td>\n      <td>3.38</td>\n      <td>3.23</td>\n      <td>0.57</td>\n      <td>0.59</td>\n      <td>0.81</td>\n      <td>0.79</td>\n      <td>0.02</td>\n      <td>0.22</td>\n      <td>-0.02</td>\n    </tr>\n  </tbody>\n</table>\n<p>5462 rows × 17 columns</p>\n</div>"
     },
     "execution_count": 21,
     "metadata": {},
     "output_type": "execute_result"
    }
   ],
   "source": [
    "df_final = pd.merge(df_usd, df_bonds, on='date')\n",
    "df_final"
   ],
   "metadata": {
    "collapsed": false,
    "pycharm": {
     "name": "#%%\n"
    }
   }
  },
  {
   "cell_type": "code",
   "execution_count": 22,
   "outputs": [
    {
     "data": {
      "text/plain": "            date  usd/cad  DGS2  DGS3  DGS5  DGS10  cad_2y  cad_3y  cad_5y  \\\n0     2012-01-04   1.0134  0.25  0.40  0.89   2.00    0.97    1.01    1.30   \n1     2012-01-05   1.0197  0.27  0.40  0.88   2.02    0.96    1.00    1.29   \n2     2012-01-06   1.0231  0.25  0.40  0.86   1.98    0.93    0.97    1.25   \n3     2012-01-09   1.0272  0.26  0.38  0.85   1.98    0.94    0.98    1.26   \n4     2012-01-10   1.0161  0.24  0.37  0.86   2.00    0.97    1.00    1.29   \n...          ...      ...   ...   ...   ...    ...     ...     ...     ...   \n2678  2022-10-20   1.3715  4.62  4.66  4.45   4.24    4.28    4.23    3.84   \n2679  2022-10-21   1.3673  4.49  4.52  4.34   4.21    4.16    4.11    3.73   \n2680  2022-10-24   1.3704  4.50  4.52  4.36   4.25    4.15    4.11    3.71   \n2681  2022-10-25   1.3616  4.42  4.45  4.25   4.10    4.15    4.10    3.66   \n2682  2022-10-26   1.3551  4.39  4.41  4.20   4.04    3.87    3.82    3.41   \n\n      cad_10y  ...     chf      nok     aud     cad      hkd      krw     nzd  \\\n0        1.99  ...  1.2196   7.7005  1.2552  1.3153  10.0585  1490.61  1.6452   \n1        1.97  ...  1.2187   7.6825  1.2491  1.3039   9.9647  1482.77  1.6399   \n2        1.94  ...  1.2177   7.6745  1.2472  1.3051   9.9209  1483.11  1.6347   \n3        1.95  ...  1.2139   7.6570  1.2468  1.3086   9.8832  1477.28  1.6221   \n4        1.98  ...  1.2136   7.6555  1.2379  1.3021   9.9471  1478.49  1.6098   \n...       ...  ...     ...      ...     ...     ...      ...      ...     ...   \n2678     3.66  ...  0.9836  10.4020  1.5554  1.3461   7.7008  1400.30  1.7206   \n2679     3.60  ...  0.9855  10.4315  1.5646  1.3465   7.6376  1404.32  1.7347   \n2680     3.57  ...  0.9856  10.3920  1.5631  1.3502   7.7329  1418.40  1.7343   \n2681     3.48  ...  0.9888  10.3910  1.5599  1.3537   7.7407  1417.50  1.7321   \n2682     3.28  ...  0.9917  10.3408  1.5466  1.3568   7.8678  1422.11  1.7249   \n\n         sgd      zar  us_rate  \n0     1.6698  10.5259     3.25  \n1     1.6562  10.5038     3.25  \n2     1.6528  10.4241     3.25  \n3     1.6512  10.3735     3.25  \n4     1.6506  10.3390     3.25  \n...      ...      ...      ...  \n2678  1.3959  17.9106     6.25  \n2679  1.3917  18.0021     6.25  \n2680  1.4008  18.0625     6.25  \n2681  1.4050  18.2211     6.25  \n2682  1.4104  18.0212     6.25  \n\n[2683 rows x 43 columns]",
      "text/html": "<div>\n<style scoped>\n    .dataframe tbody tr th:only-of-type {\n        vertical-align: middle;\n    }\n\n    .dataframe tbody tr th {\n        vertical-align: top;\n    }\n\n    .dataframe thead th {\n        text-align: right;\n    }\n</style>\n<table border=\"1\" class=\"dataframe\">\n  <thead>\n    <tr style=\"text-align: right;\">\n      <th></th>\n      <th>date</th>\n      <th>usd/cad</th>\n      <th>DGS2</th>\n      <th>DGS3</th>\n      <th>DGS5</th>\n      <th>DGS10</th>\n      <th>cad_2y</th>\n      <th>cad_3y</th>\n      <th>cad_5y</th>\n      <th>cad_10y</th>\n      <th>...</th>\n      <th>chf</th>\n      <th>nok</th>\n      <th>aud</th>\n      <th>cad</th>\n      <th>hkd</th>\n      <th>krw</th>\n      <th>nzd</th>\n      <th>sgd</th>\n      <th>zar</th>\n      <th>us_rate</th>\n    </tr>\n  </thead>\n  <tbody>\n    <tr>\n      <th>0</th>\n      <td>2012-01-04</td>\n      <td>1.0134</td>\n      <td>0.25</td>\n      <td>0.40</td>\n      <td>0.89</td>\n      <td>2.00</td>\n      <td>0.97</td>\n      <td>1.01</td>\n      <td>1.30</td>\n      <td>1.99</td>\n      <td>...</td>\n      <td>1.2196</td>\n      <td>7.7005</td>\n      <td>1.2552</td>\n      <td>1.3153</td>\n      <td>10.0585</td>\n      <td>1490.61</td>\n      <td>1.6452</td>\n      <td>1.6698</td>\n      <td>10.5259</td>\n      <td>3.25</td>\n    </tr>\n    <tr>\n      <th>1</th>\n      <td>2012-01-05</td>\n      <td>1.0197</td>\n      <td>0.27</td>\n      <td>0.40</td>\n      <td>0.88</td>\n      <td>2.02</td>\n      <td>0.96</td>\n      <td>1.00</td>\n      <td>1.29</td>\n      <td>1.97</td>\n      <td>...</td>\n      <td>1.2187</td>\n      <td>7.6825</td>\n      <td>1.2491</td>\n      <td>1.3039</td>\n      <td>9.9647</td>\n      <td>1482.77</td>\n      <td>1.6399</td>\n      <td>1.6562</td>\n      <td>10.5038</td>\n      <td>3.25</td>\n    </tr>\n    <tr>\n      <th>2</th>\n      <td>2012-01-06</td>\n      <td>1.0231</td>\n      <td>0.25</td>\n      <td>0.40</td>\n      <td>0.86</td>\n      <td>1.98</td>\n      <td>0.93</td>\n      <td>0.97</td>\n      <td>1.25</td>\n      <td>1.94</td>\n      <td>...</td>\n      <td>1.2177</td>\n      <td>7.6745</td>\n      <td>1.2472</td>\n      <td>1.3051</td>\n      <td>9.9209</td>\n      <td>1483.11</td>\n      <td>1.6347</td>\n      <td>1.6528</td>\n      <td>10.4241</td>\n      <td>3.25</td>\n    </tr>\n    <tr>\n      <th>3</th>\n      <td>2012-01-09</td>\n      <td>1.0272</td>\n      <td>0.26</td>\n      <td>0.38</td>\n      <td>0.85</td>\n      <td>1.98</td>\n      <td>0.94</td>\n      <td>0.98</td>\n      <td>1.26</td>\n      <td>1.95</td>\n      <td>...</td>\n      <td>1.2139</td>\n      <td>7.6570</td>\n      <td>1.2468</td>\n      <td>1.3086</td>\n      <td>9.8832</td>\n      <td>1477.28</td>\n      <td>1.6221</td>\n      <td>1.6512</td>\n      <td>10.3735</td>\n      <td>3.25</td>\n    </tr>\n    <tr>\n      <th>4</th>\n      <td>2012-01-10</td>\n      <td>1.0161</td>\n      <td>0.24</td>\n      <td>0.37</td>\n      <td>0.86</td>\n      <td>2.00</td>\n      <td>0.97</td>\n      <td>1.00</td>\n      <td>1.29</td>\n      <td>1.98</td>\n      <td>...</td>\n      <td>1.2136</td>\n      <td>7.6555</td>\n      <td>1.2379</td>\n      <td>1.3021</td>\n      <td>9.9471</td>\n      <td>1478.49</td>\n      <td>1.6098</td>\n      <td>1.6506</td>\n      <td>10.3390</td>\n      <td>3.25</td>\n    </tr>\n    <tr>\n      <th>...</th>\n      <td>...</td>\n      <td>...</td>\n      <td>...</td>\n      <td>...</td>\n      <td>...</td>\n      <td>...</td>\n      <td>...</td>\n      <td>...</td>\n      <td>...</td>\n      <td>...</td>\n      <td>...</td>\n      <td>...</td>\n      <td>...</td>\n      <td>...</td>\n      <td>...</td>\n      <td>...</td>\n      <td>...</td>\n      <td>...</td>\n      <td>...</td>\n      <td>...</td>\n      <td>...</td>\n    </tr>\n    <tr>\n      <th>2678</th>\n      <td>2022-10-20</td>\n      <td>1.3715</td>\n      <td>4.62</td>\n      <td>4.66</td>\n      <td>4.45</td>\n      <td>4.24</td>\n      <td>4.28</td>\n      <td>4.23</td>\n      <td>3.84</td>\n      <td>3.66</td>\n      <td>...</td>\n      <td>0.9836</td>\n      <td>10.4020</td>\n      <td>1.5554</td>\n      <td>1.3461</td>\n      <td>7.7008</td>\n      <td>1400.30</td>\n      <td>1.7206</td>\n      <td>1.3959</td>\n      <td>17.9106</td>\n      <td>6.25</td>\n    </tr>\n    <tr>\n      <th>2679</th>\n      <td>2022-10-21</td>\n      <td>1.3673</td>\n      <td>4.49</td>\n      <td>4.52</td>\n      <td>4.34</td>\n      <td>4.21</td>\n      <td>4.16</td>\n      <td>4.11</td>\n      <td>3.73</td>\n      <td>3.60</td>\n      <td>...</td>\n      <td>0.9855</td>\n      <td>10.4315</td>\n      <td>1.5646</td>\n      <td>1.3465</td>\n      <td>7.6376</td>\n      <td>1404.32</td>\n      <td>1.7347</td>\n      <td>1.3917</td>\n      <td>18.0021</td>\n      <td>6.25</td>\n    </tr>\n    <tr>\n      <th>2680</th>\n      <td>2022-10-24</td>\n      <td>1.3704</td>\n      <td>4.50</td>\n      <td>4.52</td>\n      <td>4.36</td>\n      <td>4.25</td>\n      <td>4.15</td>\n      <td>4.11</td>\n      <td>3.71</td>\n      <td>3.57</td>\n      <td>...</td>\n      <td>0.9856</td>\n      <td>10.3920</td>\n      <td>1.5631</td>\n      <td>1.3502</td>\n      <td>7.7329</td>\n      <td>1418.40</td>\n      <td>1.7343</td>\n      <td>1.4008</td>\n      <td>18.0625</td>\n      <td>6.25</td>\n    </tr>\n    <tr>\n      <th>2681</th>\n      <td>2022-10-25</td>\n      <td>1.3616</td>\n      <td>4.42</td>\n      <td>4.45</td>\n      <td>4.25</td>\n      <td>4.10</td>\n      <td>4.15</td>\n      <td>4.10</td>\n      <td>3.66</td>\n      <td>3.48</td>\n      <td>...</td>\n      <td>0.9888</td>\n      <td>10.3910</td>\n      <td>1.5599</td>\n      <td>1.3537</td>\n      <td>7.7407</td>\n      <td>1417.50</td>\n      <td>1.7321</td>\n      <td>1.4050</td>\n      <td>18.2211</td>\n      <td>6.25</td>\n    </tr>\n    <tr>\n      <th>2682</th>\n      <td>2022-10-26</td>\n      <td>1.3551</td>\n      <td>4.39</td>\n      <td>4.41</td>\n      <td>4.20</td>\n      <td>4.04</td>\n      <td>3.87</td>\n      <td>3.82</td>\n      <td>3.41</td>\n      <td>3.28</td>\n      <td>...</td>\n      <td>0.9917</td>\n      <td>10.3408</td>\n      <td>1.5466</td>\n      <td>1.3568</td>\n      <td>7.8678</td>\n      <td>1422.11</td>\n      <td>1.7249</td>\n      <td>1.4104</td>\n      <td>18.0212</td>\n      <td>6.25</td>\n    </tr>\n  </tbody>\n</table>\n<p>2683 rows × 43 columns</p>\n</div>"
     },
     "execution_count": 22,
     "metadata": {},
     "output_type": "execute_result"
    }
   ],
   "source": [
    "df_final = pd.merge(df_final, df_eco, on='date')\n",
    "df_final"
   ],
   "metadata": {
    "collapsed": false,
    "pycharm": {
     "name": "#%%\n"
    }
   }
  },
  {
   "cell_type": "code",
   "execution_count": 23,
   "outputs": [],
   "source": [
    "df_can_statement = pd.read_csv(f\"{PATH}can_statements_sentiment.csv\", index_col=0)"
   ],
   "metadata": {
    "collapsed": false,
    "pycharm": {
     "name": "#%%\n"
    }
   }
  },
  {
   "cell_type": "code",
   "execution_count": 24,
   "outputs": [
    {
     "data": {
      "text/plain": "           date  sentiment\n0    2022-06-01   0.419407\n1    2022-09-07   0.060902\n2    2022-07-13  -0.733759\n3    2022-04-13  -0.934212\n4    2022-03-02  -0.902532\n..          ...        ...\n354  1998-08-27   0.400695\n355  1998-01-30   0.670349\n356  1997-12-12   0.450437\n357  1997-11-25   0.824506\n358  1997-10-01   0.869698\n\n[359 rows x 2 columns]",
      "text/html": "<div>\n<style scoped>\n    .dataframe tbody tr th:only-of-type {\n        vertical-align: middle;\n    }\n\n    .dataframe tbody tr th {\n        vertical-align: top;\n    }\n\n    .dataframe thead th {\n        text-align: right;\n    }\n</style>\n<table border=\"1\" class=\"dataframe\">\n  <thead>\n    <tr style=\"text-align: right;\">\n      <th></th>\n      <th>date</th>\n      <th>sentiment</th>\n    </tr>\n  </thead>\n  <tbody>\n    <tr>\n      <th>0</th>\n      <td>2022-06-01</td>\n      <td>0.419407</td>\n    </tr>\n    <tr>\n      <th>1</th>\n      <td>2022-09-07</td>\n      <td>0.060902</td>\n    </tr>\n    <tr>\n      <th>2</th>\n      <td>2022-07-13</td>\n      <td>-0.733759</td>\n    </tr>\n    <tr>\n      <th>3</th>\n      <td>2022-04-13</td>\n      <td>-0.934212</td>\n    </tr>\n    <tr>\n      <th>4</th>\n      <td>2022-03-02</td>\n      <td>-0.902532</td>\n    </tr>\n    <tr>\n      <th>...</th>\n      <td>...</td>\n      <td>...</td>\n    </tr>\n    <tr>\n      <th>354</th>\n      <td>1998-08-27</td>\n      <td>0.400695</td>\n    </tr>\n    <tr>\n      <th>355</th>\n      <td>1998-01-30</td>\n      <td>0.670349</td>\n    </tr>\n    <tr>\n      <th>356</th>\n      <td>1997-12-12</td>\n      <td>0.450437</td>\n    </tr>\n    <tr>\n      <th>357</th>\n      <td>1997-11-25</td>\n      <td>0.824506</td>\n    </tr>\n    <tr>\n      <th>358</th>\n      <td>1997-10-01</td>\n      <td>0.869698</td>\n    </tr>\n  </tbody>\n</table>\n<p>359 rows × 2 columns</p>\n</div>"
     },
     "execution_count": 24,
     "metadata": {},
     "output_type": "execute_result"
    }
   ],
   "source": [
    "# Drop the index and 'text' column\n",
    "\n",
    "df_can_statement.drop(['text'], axis=1, inplace=True)\n",
    "df_can_statement.reset_index(drop=True, inplace=True)\n",
    "\n",
    "df_can_statement"
   ],
   "metadata": {
    "collapsed": false,
    "pycharm": {
     "name": "#%%\n"
    }
   }
  },
  {
   "cell_type": "code",
   "execution_count": 25,
   "outputs": [],
   "source": [
    "df_can_statement['date'] = pd.to_datetime(df_can_statement['date'])\n"
   ],
   "metadata": {
    "collapsed": false,
    "pycharm": {
     "name": "#%%\n"
    }
   }
  },
  {
   "cell_type": "code",
   "execution_count": 26,
   "outputs": [],
   "source": [
    "start = df_can_statement['date'].min()\n",
    "end = df_can_statement['date'].max()"
   ],
   "metadata": {
    "collapsed": false,
    "pycharm": {
     "name": "#%%\n"
    }
   }
  },
  {
   "cell_type": "code",
   "execution_count": 27,
   "outputs": [
    {
     "data": {
      "text/plain": "DatetimeIndex(['1997-10-01', '1997-10-02', '1997-10-03', '1997-10-04',\n               '1997-10-05', '1997-10-06', '1997-10-07', '1997-10-08',\n               '1997-10-09', '1997-10-10',\n               ...\n               '2022-08-29', '2022-08-30', '2022-08-31', '2022-09-01',\n               '2022-09-02', '2022-09-03', '2022-09-04', '2022-09-05',\n               '2022-09-06', '2022-09-07'],\n              dtype='datetime64[ns]', length=9108, freq='D')"
     },
     "execution_count": 27,
     "metadata": {},
     "output_type": "execute_result"
    }
   ],
   "source": [
    "dtr = pd.date_range(start=start, end=end, freq='D')\n",
    "dtr"
   ],
   "metadata": {
    "collapsed": false,
    "pycharm": {
     "name": "#%%\n"
    }
   }
  },
  {
   "cell_type": "code",
   "execution_count": 28,
   "outputs": [],
   "source": [
    "df_can_statement = df_can_statement.set_index('date')\n"
   ],
   "metadata": {
    "collapsed": false,
    "pycharm": {
     "name": "#%%\n"
    }
   }
  },
  {
   "cell_type": "code",
   "execution_count": 29,
   "outputs": [
    {
     "name": "stderr",
     "output_type": "stream",
     "text": [
      "/var/folders/9k/fx177q5n7nb2j1c1h54h8j0w0000gn/T/ipykernel_15647/3111569991.py:1: FutureWarning: The default dtype for empty Series will be 'object' instead of 'float64' in a future version. Specify a dtype explicitly to silence this warning.\n",
      "  s = pd.Series(index=dtr)\n"
     ]
    }
   ],
   "source": [
    "s = pd.Series(index=dtr)\n",
    "df_can_statement = pd.concat([df_can_statement,s[~s.index.isin(df_can_statement.index)]]).sort_index()\n",
    "df_can_statement = df_can_statement.drop([0],axis=1).fillna(0)"
   ],
   "metadata": {
    "collapsed": false,
    "pycharm": {
     "name": "#%%\n"
    }
   }
  },
  {
   "cell_type": "code",
   "execution_count": 30,
   "outputs": [],
   "source": [
    "df_can_statement = df_can_statement.reset_index()"
   ],
   "metadata": {
    "collapsed": false,
    "pycharm": {
     "name": "#%%\n"
    }
   }
  },
  {
   "cell_type": "code",
   "execution_count": 31,
   "outputs": [],
   "source": [
    "df_can_statement.columns = [\"date\", \"can_sentiment\"]"
   ],
   "metadata": {
    "collapsed": false,
    "pycharm": {
     "name": "#%%\n"
    }
   }
  },
  {
   "cell_type": "code",
   "execution_count": 32,
   "outputs": [],
   "source": [
    "df_can_statement['date'] = df_can_statement['date'].astype(str)"
   ],
   "metadata": {
    "collapsed": false,
    "pycharm": {
     "name": "#%%\n"
    }
   }
  },
  {
   "cell_type": "code",
   "execution_count": 33,
   "outputs": [
    {
     "data": {
      "text/plain": "            date  usd/cad  DGS2  DGS3  DGS5  DGS10  cad_2y  cad_3y  cad_5y  \\\n0     2012-01-04   1.0134  0.25  0.40  0.89   2.00    0.97    1.01    1.30   \n1     2012-01-05   1.0197  0.27  0.40  0.88   2.02    0.96    1.00    1.29   \n2     2012-01-06   1.0231  0.25  0.40  0.86   1.98    0.93    0.97    1.25   \n3     2012-01-09   1.0272  0.26  0.38  0.85   1.98    0.94    0.98    1.26   \n4     2012-01-10   1.0161  0.24  0.37  0.86   2.00    0.97    1.00    1.29   \n...          ...      ...   ...   ...   ...    ...     ...     ...     ...   \n2650  2022-08-31   1.3091  3.45  3.46  3.30   3.15    3.64    3.59    3.34   \n2651  2022-09-01   1.3160  3.51  3.54  3.39   3.26    3.66    3.61    3.37   \n2652  2022-09-02   1.3089  3.40  3.44  3.30   3.20    3.58    3.53    3.28   \n2653  2022-09-06   1.3122  3.50  3.55  3.43   3.33    3.60    3.56    3.33   \n2654  2022-09-07   1.3166  3.45  3.50  3.37   3.27    3.60    3.55    3.30   \n\n      cad_10y  ...      nok     aud     cad      hkd      krw     nzd     sgd  \\\n0        1.99  ...   7.7005  1.2552  1.3153  10.0585  1490.61  1.6452  1.6698   \n1        1.97  ...   7.6825  1.2491  1.3039   9.9647  1482.77  1.6399  1.6562   \n2        1.94  ...   7.6745  1.2472  1.3051   9.9209  1483.11  1.6347  1.6528   \n3        1.95  ...   7.6570  1.2468  1.3086   9.8832  1477.28  1.6221  1.6512   \n4        1.98  ...   7.6555  1.2379  1.3021   9.9471  1478.49  1.6098  1.6506   \n...       ...  ...      ...     ...     ...      ...      ...     ...     ...   \n2650     3.11  ...   9.9388  1.4591  1.3111   7.8488  1342.79  1.6322  1.3969   \n2651     3.18  ...  10.0130  1.4651  1.3169   7.8511  1353.69  1.6389  1.4002   \n2652     3.10  ...  10.0035  1.4671  1.3131   7.8439  1360.84  1.6394  1.4013   \n2653     3.18  ...   9.8945  1.4651  1.3029   7.7932  1366.65  1.6313  1.3947   \n2654     3.13  ...   9.9483  1.4748  1.3037   7.7596  1374.44  1.6459  1.3931   \n\n          zar  us_rate  can_sentiment  \n0     10.5259     3.25       0.000000  \n1     10.5038     3.25       0.000000  \n2     10.4241     3.25       0.000000  \n3     10.3735     3.25       0.000000  \n4     10.3390     3.25       0.000000  \n...       ...      ...            ...  \n2650  17.0667     5.50       0.000000  \n2651  17.1524     5.50       0.000000  \n2652  17.2791     5.50       0.000000  \n2653  17.0805     5.50       0.000000  \n2654  17.2582     5.50       0.060902  \n\n[2655 rows x 44 columns]",
      "text/html": "<div>\n<style scoped>\n    .dataframe tbody tr th:only-of-type {\n        vertical-align: middle;\n    }\n\n    .dataframe tbody tr th {\n        vertical-align: top;\n    }\n\n    .dataframe thead th {\n        text-align: right;\n    }\n</style>\n<table border=\"1\" class=\"dataframe\">\n  <thead>\n    <tr style=\"text-align: right;\">\n      <th></th>\n      <th>date</th>\n      <th>usd/cad</th>\n      <th>DGS2</th>\n      <th>DGS3</th>\n      <th>DGS5</th>\n      <th>DGS10</th>\n      <th>cad_2y</th>\n      <th>cad_3y</th>\n      <th>cad_5y</th>\n      <th>cad_10y</th>\n      <th>...</th>\n      <th>nok</th>\n      <th>aud</th>\n      <th>cad</th>\n      <th>hkd</th>\n      <th>krw</th>\n      <th>nzd</th>\n      <th>sgd</th>\n      <th>zar</th>\n      <th>us_rate</th>\n      <th>can_sentiment</th>\n    </tr>\n  </thead>\n  <tbody>\n    <tr>\n      <th>0</th>\n      <td>2012-01-04</td>\n      <td>1.0134</td>\n      <td>0.25</td>\n      <td>0.40</td>\n      <td>0.89</td>\n      <td>2.00</td>\n      <td>0.97</td>\n      <td>1.01</td>\n      <td>1.30</td>\n      <td>1.99</td>\n      <td>...</td>\n      <td>7.7005</td>\n      <td>1.2552</td>\n      <td>1.3153</td>\n      <td>10.0585</td>\n      <td>1490.61</td>\n      <td>1.6452</td>\n      <td>1.6698</td>\n      <td>10.5259</td>\n      <td>3.25</td>\n      <td>0.000000</td>\n    </tr>\n    <tr>\n      <th>1</th>\n      <td>2012-01-05</td>\n      <td>1.0197</td>\n      <td>0.27</td>\n      <td>0.40</td>\n      <td>0.88</td>\n      <td>2.02</td>\n      <td>0.96</td>\n      <td>1.00</td>\n      <td>1.29</td>\n      <td>1.97</td>\n      <td>...</td>\n      <td>7.6825</td>\n      <td>1.2491</td>\n      <td>1.3039</td>\n      <td>9.9647</td>\n      <td>1482.77</td>\n      <td>1.6399</td>\n      <td>1.6562</td>\n      <td>10.5038</td>\n      <td>3.25</td>\n      <td>0.000000</td>\n    </tr>\n    <tr>\n      <th>2</th>\n      <td>2012-01-06</td>\n      <td>1.0231</td>\n      <td>0.25</td>\n      <td>0.40</td>\n      <td>0.86</td>\n      <td>1.98</td>\n      <td>0.93</td>\n      <td>0.97</td>\n      <td>1.25</td>\n      <td>1.94</td>\n      <td>...</td>\n      <td>7.6745</td>\n      <td>1.2472</td>\n      <td>1.3051</td>\n      <td>9.9209</td>\n      <td>1483.11</td>\n      <td>1.6347</td>\n      <td>1.6528</td>\n      <td>10.4241</td>\n      <td>3.25</td>\n      <td>0.000000</td>\n    </tr>\n    <tr>\n      <th>3</th>\n      <td>2012-01-09</td>\n      <td>1.0272</td>\n      <td>0.26</td>\n      <td>0.38</td>\n      <td>0.85</td>\n      <td>1.98</td>\n      <td>0.94</td>\n      <td>0.98</td>\n      <td>1.26</td>\n      <td>1.95</td>\n      <td>...</td>\n      <td>7.6570</td>\n      <td>1.2468</td>\n      <td>1.3086</td>\n      <td>9.8832</td>\n      <td>1477.28</td>\n      <td>1.6221</td>\n      <td>1.6512</td>\n      <td>10.3735</td>\n      <td>3.25</td>\n      <td>0.000000</td>\n    </tr>\n    <tr>\n      <th>4</th>\n      <td>2012-01-10</td>\n      <td>1.0161</td>\n      <td>0.24</td>\n      <td>0.37</td>\n      <td>0.86</td>\n      <td>2.00</td>\n      <td>0.97</td>\n      <td>1.00</td>\n      <td>1.29</td>\n      <td>1.98</td>\n      <td>...</td>\n      <td>7.6555</td>\n      <td>1.2379</td>\n      <td>1.3021</td>\n      <td>9.9471</td>\n      <td>1478.49</td>\n      <td>1.6098</td>\n      <td>1.6506</td>\n      <td>10.3390</td>\n      <td>3.25</td>\n      <td>0.000000</td>\n    </tr>\n    <tr>\n      <th>...</th>\n      <td>...</td>\n      <td>...</td>\n      <td>...</td>\n      <td>...</td>\n      <td>...</td>\n      <td>...</td>\n      <td>...</td>\n      <td>...</td>\n      <td>...</td>\n      <td>...</td>\n      <td>...</td>\n      <td>...</td>\n      <td>...</td>\n      <td>...</td>\n      <td>...</td>\n      <td>...</td>\n      <td>...</td>\n      <td>...</td>\n      <td>...</td>\n      <td>...</td>\n      <td>...</td>\n    </tr>\n    <tr>\n      <th>2650</th>\n      <td>2022-08-31</td>\n      <td>1.3091</td>\n      <td>3.45</td>\n      <td>3.46</td>\n      <td>3.30</td>\n      <td>3.15</td>\n      <td>3.64</td>\n      <td>3.59</td>\n      <td>3.34</td>\n      <td>3.11</td>\n      <td>...</td>\n      <td>9.9388</td>\n      <td>1.4591</td>\n      <td>1.3111</td>\n      <td>7.8488</td>\n      <td>1342.79</td>\n      <td>1.6322</td>\n      <td>1.3969</td>\n      <td>17.0667</td>\n      <td>5.50</td>\n      <td>0.000000</td>\n    </tr>\n    <tr>\n      <th>2651</th>\n      <td>2022-09-01</td>\n      <td>1.3160</td>\n      <td>3.51</td>\n      <td>3.54</td>\n      <td>3.39</td>\n      <td>3.26</td>\n      <td>3.66</td>\n      <td>3.61</td>\n      <td>3.37</td>\n      <td>3.18</td>\n      <td>...</td>\n      <td>10.0130</td>\n      <td>1.4651</td>\n      <td>1.3169</td>\n      <td>7.8511</td>\n      <td>1353.69</td>\n      <td>1.6389</td>\n      <td>1.4002</td>\n      <td>17.1524</td>\n      <td>5.50</td>\n      <td>0.000000</td>\n    </tr>\n    <tr>\n      <th>2652</th>\n      <td>2022-09-02</td>\n      <td>1.3089</td>\n      <td>3.40</td>\n      <td>3.44</td>\n      <td>3.30</td>\n      <td>3.20</td>\n      <td>3.58</td>\n      <td>3.53</td>\n      <td>3.28</td>\n      <td>3.10</td>\n      <td>...</td>\n      <td>10.0035</td>\n      <td>1.4671</td>\n      <td>1.3131</td>\n      <td>7.8439</td>\n      <td>1360.84</td>\n      <td>1.6394</td>\n      <td>1.4013</td>\n      <td>17.2791</td>\n      <td>5.50</td>\n      <td>0.000000</td>\n    </tr>\n    <tr>\n      <th>2653</th>\n      <td>2022-09-06</td>\n      <td>1.3122</td>\n      <td>3.50</td>\n      <td>3.55</td>\n      <td>3.43</td>\n      <td>3.33</td>\n      <td>3.60</td>\n      <td>3.56</td>\n      <td>3.33</td>\n      <td>3.18</td>\n      <td>...</td>\n      <td>9.8945</td>\n      <td>1.4651</td>\n      <td>1.3029</td>\n      <td>7.7932</td>\n      <td>1366.65</td>\n      <td>1.6313</td>\n      <td>1.3947</td>\n      <td>17.0805</td>\n      <td>5.50</td>\n      <td>0.000000</td>\n    </tr>\n    <tr>\n      <th>2654</th>\n      <td>2022-09-07</td>\n      <td>1.3166</td>\n      <td>3.45</td>\n      <td>3.50</td>\n      <td>3.37</td>\n      <td>3.27</td>\n      <td>3.60</td>\n      <td>3.55</td>\n      <td>3.30</td>\n      <td>3.13</td>\n      <td>...</td>\n      <td>9.9483</td>\n      <td>1.4748</td>\n      <td>1.3037</td>\n      <td>7.7596</td>\n      <td>1374.44</td>\n      <td>1.6459</td>\n      <td>1.3931</td>\n      <td>17.2582</td>\n      <td>5.50</td>\n      <td>0.060902</td>\n    </tr>\n  </tbody>\n</table>\n<p>2655 rows × 44 columns</p>\n</div>"
     },
     "execution_count": 33,
     "metadata": {},
     "output_type": "execute_result"
    }
   ],
   "source": [
    "df_final = pd.merge(df_final, df_can_statement, on='date')\n",
    "df_final"
   ],
   "metadata": {
    "collapsed": false,
    "pycharm": {
     "name": "#%%\n"
    }
   }
  },
  {
   "cell_type": "code",
   "execution_count": 34,
   "outputs": [],
   "source": [
    "df_RV = pd.read_csv(f\"data/realizedVariance.csv\", index_col=0)\n",
    "df_RV.reset_index(inplace=True)\n",
    "df_RV.columns = [\"date\", \"log usd/cad\", \"realized_variance\", \"jump\", \"bipower_variance\"]"
   ],
   "metadata": {
    "collapsed": false,
    "pycharm": {
     "name": "#%%\n"
    }
   }
  },
  {
   "cell_type": "code",
   "execution_count": 35,
   "outputs": [
    {
     "data": {
      "text/plain": "            date  log usd/cad  realized_variance  jump  bipower_variance\n0     1998-02-20    -0.002110           0.000256   0.0          0.000285\n1     1998-02-21    -0.002110           0.000256   0.0          0.000285\n2     1998-02-22    -0.002110           0.000256   0.0          0.000285\n3     1998-02-23     0.002882           0.000260   0.0          0.000313\n4     1998-02-24    -0.001967           0.000267   0.0          0.000317\n...          ...          ...                ...   ...               ...\n9012  2022-10-24     0.002265           0.000463   0.0          0.000563\n9013  2022-10-25    -0.006442           0.000414   0.0          0.000479\n9014  2022-10-26    -0.004785           0.000389   0.0          0.000437\n9015  2022-10-27    -0.001403           0.000386   0.0          0.000462\n9016  2022-10-28     0.006629           0.000379   0.0          0.000472\n\n[9017 rows x 5 columns]",
      "text/html": "<div>\n<style scoped>\n    .dataframe tbody tr th:only-of-type {\n        vertical-align: middle;\n    }\n\n    .dataframe tbody tr th {\n        vertical-align: top;\n    }\n\n    .dataframe thead th {\n        text-align: right;\n    }\n</style>\n<table border=\"1\" class=\"dataframe\">\n  <thead>\n    <tr style=\"text-align: right;\">\n      <th></th>\n      <th>date</th>\n      <th>log usd/cad</th>\n      <th>realized_variance</th>\n      <th>jump</th>\n      <th>bipower_variance</th>\n    </tr>\n  </thead>\n  <tbody>\n    <tr>\n      <th>0</th>\n      <td>1998-02-20</td>\n      <td>-0.002110</td>\n      <td>0.000256</td>\n      <td>0.0</td>\n      <td>0.000285</td>\n    </tr>\n    <tr>\n      <th>1</th>\n      <td>1998-02-21</td>\n      <td>-0.002110</td>\n      <td>0.000256</td>\n      <td>0.0</td>\n      <td>0.000285</td>\n    </tr>\n    <tr>\n      <th>2</th>\n      <td>1998-02-22</td>\n      <td>-0.002110</td>\n      <td>0.000256</td>\n      <td>0.0</td>\n      <td>0.000285</td>\n    </tr>\n    <tr>\n      <th>3</th>\n      <td>1998-02-23</td>\n      <td>0.002882</td>\n      <td>0.000260</td>\n      <td>0.0</td>\n      <td>0.000313</td>\n    </tr>\n    <tr>\n      <th>4</th>\n      <td>1998-02-24</td>\n      <td>-0.001967</td>\n      <td>0.000267</td>\n      <td>0.0</td>\n      <td>0.000317</td>\n    </tr>\n    <tr>\n      <th>...</th>\n      <td>...</td>\n      <td>...</td>\n      <td>...</td>\n      <td>...</td>\n      <td>...</td>\n    </tr>\n    <tr>\n      <th>9012</th>\n      <td>2022-10-24</td>\n      <td>0.002265</td>\n      <td>0.000463</td>\n      <td>0.0</td>\n      <td>0.000563</td>\n    </tr>\n    <tr>\n      <th>9013</th>\n      <td>2022-10-25</td>\n      <td>-0.006442</td>\n      <td>0.000414</td>\n      <td>0.0</td>\n      <td>0.000479</td>\n    </tr>\n    <tr>\n      <th>9014</th>\n      <td>2022-10-26</td>\n      <td>-0.004785</td>\n      <td>0.000389</td>\n      <td>0.0</td>\n      <td>0.000437</td>\n    </tr>\n    <tr>\n      <th>9015</th>\n      <td>2022-10-27</td>\n      <td>-0.001403</td>\n      <td>0.000386</td>\n      <td>0.0</td>\n      <td>0.000462</td>\n    </tr>\n    <tr>\n      <th>9016</th>\n      <td>2022-10-28</td>\n      <td>0.006629</td>\n      <td>0.000379</td>\n      <td>0.0</td>\n      <td>0.000472</td>\n    </tr>\n  </tbody>\n</table>\n<p>9017 rows × 5 columns</p>\n</div>"
     },
     "execution_count": 35,
     "metadata": {},
     "output_type": "execute_result"
    }
   ],
   "source": [
    "# Forward fill the data in weeks to days\n",
    "\n",
    "df_RV['date'] = pd.to_datetime(df_RV['date'])\n",
    "df_RV = df_RV.set_index('date')\n",
    "df_RV = df_RV.resample('D').ffill()\n",
    "df_RV = df_RV.reset_index()\n",
    "# Convert datetime date column to object\n",
    "df_RV['date'] = df_RV['date'].astype(str)\n",
    "df_RV"
   ],
   "metadata": {
    "collapsed": false,
    "pycharm": {
     "name": "#%%\n"
    }
   }
  },
  {
   "cell_type": "code",
   "execution_count": 36,
   "outputs": [
    {
     "data": {
      "text/plain": "            date  usd/cad  DGS2  DGS3  DGS5  DGS10  cad_2y  cad_3y  cad_5y  \\\n0     2012-01-04   1.0134  0.25  0.40  0.89   2.00    0.97    1.01    1.30   \n1     2012-01-05   1.0197  0.27  0.40  0.88   2.02    0.96    1.00    1.29   \n2     2012-01-06   1.0231  0.25  0.40  0.86   1.98    0.93    0.97    1.25   \n3     2012-01-09   1.0272  0.26  0.38  0.85   1.98    0.94    0.98    1.26   \n4     2012-01-10   1.0161  0.24  0.37  0.86   2.00    0.97    1.00    1.29   \n...          ...      ...   ...   ...   ...    ...     ...     ...     ...   \n2650  2022-08-31   1.3091  3.45  3.46  3.30   3.15    3.64    3.59    3.34   \n2651  2022-09-01   1.3160  3.51  3.54  3.39   3.26    3.66    3.61    3.37   \n2652  2022-09-02   1.3089  3.40  3.44  3.30   3.20    3.58    3.53    3.28   \n2653  2022-09-06   1.3122  3.50  3.55  3.43   3.33    3.60    3.56    3.33   \n2654  2022-09-07   1.3166  3.45  3.50  3.37   3.27    3.60    3.55    3.30   \n\n      cad_10y  ...      krw     nzd     sgd      zar  us_rate  can_sentiment  \\\n0        1.99  ...  1490.61  1.6452  1.6698  10.5259     3.25       0.000000   \n1        1.97  ...  1482.77  1.6399  1.6562  10.5038     3.25       0.000000   \n2        1.94  ...  1483.11  1.6347  1.6528  10.4241     3.25       0.000000   \n3        1.95  ...  1477.28  1.6221  1.6512  10.3735     3.25       0.000000   \n4        1.98  ...  1478.49  1.6098  1.6506  10.3390     3.25       0.000000   \n...       ...  ...      ...     ...     ...      ...      ...            ...   \n2650     3.11  ...  1342.79  1.6322  1.3969  17.0667     5.50       0.000000   \n2651     3.18  ...  1353.69  1.6389  1.4002  17.1524     5.50       0.000000   \n2652     3.10  ...  1360.84  1.6394  1.4013  17.2791     5.50       0.000000   \n2653     3.18  ...  1366.65  1.6313  1.3947  17.0805     5.50       0.000000   \n2654     3.13  ...  1374.44  1.6459  1.3931  17.2582     5.50       0.060902   \n\n      log usd/cad  realized_variance      jump  bipower_variance  \n0        0.004450           0.000270  0.000138          0.000132  \n1        0.006197           0.000251  0.000112          0.000139  \n2        0.003329           0.000266  0.000101          0.000165  \n3        0.003999           0.000272  0.000103          0.000169  \n4       -0.010865           0.000228  0.000040          0.000188  \n...           ...                ...       ...               ...  \n2650     0.000076           0.000262  0.000065          0.000197  \n2651     0.005257           0.000257  0.000070          0.000187  \n2652    -0.005410           0.000275  0.000128          0.000147  \n2653     0.002518           0.000232  0.000067          0.000165  \n2654     0.003348           0.000218  0.000060          0.000158  \n\n[2655 rows x 48 columns]",
      "text/html": "<div>\n<style scoped>\n    .dataframe tbody tr th:only-of-type {\n        vertical-align: middle;\n    }\n\n    .dataframe tbody tr th {\n        vertical-align: top;\n    }\n\n    .dataframe thead th {\n        text-align: right;\n    }\n</style>\n<table border=\"1\" class=\"dataframe\">\n  <thead>\n    <tr style=\"text-align: right;\">\n      <th></th>\n      <th>date</th>\n      <th>usd/cad</th>\n      <th>DGS2</th>\n      <th>DGS3</th>\n      <th>DGS5</th>\n      <th>DGS10</th>\n      <th>cad_2y</th>\n      <th>cad_3y</th>\n      <th>cad_5y</th>\n      <th>cad_10y</th>\n      <th>...</th>\n      <th>krw</th>\n      <th>nzd</th>\n      <th>sgd</th>\n      <th>zar</th>\n      <th>us_rate</th>\n      <th>can_sentiment</th>\n      <th>log usd/cad</th>\n      <th>realized_variance</th>\n      <th>jump</th>\n      <th>bipower_variance</th>\n    </tr>\n  </thead>\n  <tbody>\n    <tr>\n      <th>0</th>\n      <td>2012-01-04</td>\n      <td>1.0134</td>\n      <td>0.25</td>\n      <td>0.40</td>\n      <td>0.89</td>\n      <td>2.00</td>\n      <td>0.97</td>\n      <td>1.01</td>\n      <td>1.30</td>\n      <td>1.99</td>\n      <td>...</td>\n      <td>1490.61</td>\n      <td>1.6452</td>\n      <td>1.6698</td>\n      <td>10.5259</td>\n      <td>3.25</td>\n      <td>0.000000</td>\n      <td>0.004450</td>\n      <td>0.000270</td>\n      <td>0.000138</td>\n      <td>0.000132</td>\n    </tr>\n    <tr>\n      <th>1</th>\n      <td>2012-01-05</td>\n      <td>1.0197</td>\n      <td>0.27</td>\n      <td>0.40</td>\n      <td>0.88</td>\n      <td>2.02</td>\n      <td>0.96</td>\n      <td>1.00</td>\n      <td>1.29</td>\n      <td>1.97</td>\n      <td>...</td>\n      <td>1482.77</td>\n      <td>1.6399</td>\n      <td>1.6562</td>\n      <td>10.5038</td>\n      <td>3.25</td>\n      <td>0.000000</td>\n      <td>0.006197</td>\n      <td>0.000251</td>\n      <td>0.000112</td>\n      <td>0.000139</td>\n    </tr>\n    <tr>\n      <th>2</th>\n      <td>2012-01-06</td>\n      <td>1.0231</td>\n      <td>0.25</td>\n      <td>0.40</td>\n      <td>0.86</td>\n      <td>1.98</td>\n      <td>0.93</td>\n      <td>0.97</td>\n      <td>1.25</td>\n      <td>1.94</td>\n      <td>...</td>\n      <td>1483.11</td>\n      <td>1.6347</td>\n      <td>1.6528</td>\n      <td>10.4241</td>\n      <td>3.25</td>\n      <td>0.000000</td>\n      <td>0.003329</td>\n      <td>0.000266</td>\n      <td>0.000101</td>\n      <td>0.000165</td>\n    </tr>\n    <tr>\n      <th>3</th>\n      <td>2012-01-09</td>\n      <td>1.0272</td>\n      <td>0.26</td>\n      <td>0.38</td>\n      <td>0.85</td>\n      <td>1.98</td>\n      <td>0.94</td>\n      <td>0.98</td>\n      <td>1.26</td>\n      <td>1.95</td>\n      <td>...</td>\n      <td>1477.28</td>\n      <td>1.6221</td>\n      <td>1.6512</td>\n      <td>10.3735</td>\n      <td>3.25</td>\n      <td>0.000000</td>\n      <td>0.003999</td>\n      <td>0.000272</td>\n      <td>0.000103</td>\n      <td>0.000169</td>\n    </tr>\n    <tr>\n      <th>4</th>\n      <td>2012-01-10</td>\n      <td>1.0161</td>\n      <td>0.24</td>\n      <td>0.37</td>\n      <td>0.86</td>\n      <td>2.00</td>\n      <td>0.97</td>\n      <td>1.00</td>\n      <td>1.29</td>\n      <td>1.98</td>\n      <td>...</td>\n      <td>1478.49</td>\n      <td>1.6098</td>\n      <td>1.6506</td>\n      <td>10.3390</td>\n      <td>3.25</td>\n      <td>0.000000</td>\n      <td>-0.010865</td>\n      <td>0.000228</td>\n      <td>0.000040</td>\n      <td>0.000188</td>\n    </tr>\n    <tr>\n      <th>...</th>\n      <td>...</td>\n      <td>...</td>\n      <td>...</td>\n      <td>...</td>\n      <td>...</td>\n      <td>...</td>\n      <td>...</td>\n      <td>...</td>\n      <td>...</td>\n      <td>...</td>\n      <td>...</td>\n      <td>...</td>\n      <td>...</td>\n      <td>...</td>\n      <td>...</td>\n      <td>...</td>\n      <td>...</td>\n      <td>...</td>\n      <td>...</td>\n      <td>...</td>\n      <td>...</td>\n    </tr>\n    <tr>\n      <th>2650</th>\n      <td>2022-08-31</td>\n      <td>1.3091</td>\n      <td>3.45</td>\n      <td>3.46</td>\n      <td>3.30</td>\n      <td>3.15</td>\n      <td>3.64</td>\n      <td>3.59</td>\n      <td>3.34</td>\n      <td>3.11</td>\n      <td>...</td>\n      <td>1342.79</td>\n      <td>1.6322</td>\n      <td>1.3969</td>\n      <td>17.0667</td>\n      <td>5.50</td>\n      <td>0.000000</td>\n      <td>0.000076</td>\n      <td>0.000262</td>\n      <td>0.000065</td>\n      <td>0.000197</td>\n    </tr>\n    <tr>\n      <th>2651</th>\n      <td>2022-09-01</td>\n      <td>1.3160</td>\n      <td>3.51</td>\n      <td>3.54</td>\n      <td>3.39</td>\n      <td>3.26</td>\n      <td>3.66</td>\n      <td>3.61</td>\n      <td>3.37</td>\n      <td>3.18</td>\n      <td>...</td>\n      <td>1353.69</td>\n      <td>1.6389</td>\n      <td>1.4002</td>\n      <td>17.1524</td>\n      <td>5.50</td>\n      <td>0.000000</td>\n      <td>0.005257</td>\n      <td>0.000257</td>\n      <td>0.000070</td>\n      <td>0.000187</td>\n    </tr>\n    <tr>\n      <th>2652</th>\n      <td>2022-09-02</td>\n      <td>1.3089</td>\n      <td>3.40</td>\n      <td>3.44</td>\n      <td>3.30</td>\n      <td>3.20</td>\n      <td>3.58</td>\n      <td>3.53</td>\n      <td>3.28</td>\n      <td>3.10</td>\n      <td>...</td>\n      <td>1360.84</td>\n      <td>1.6394</td>\n      <td>1.4013</td>\n      <td>17.2791</td>\n      <td>5.50</td>\n      <td>0.000000</td>\n      <td>-0.005410</td>\n      <td>0.000275</td>\n      <td>0.000128</td>\n      <td>0.000147</td>\n    </tr>\n    <tr>\n      <th>2653</th>\n      <td>2022-09-06</td>\n      <td>1.3122</td>\n      <td>3.50</td>\n      <td>3.55</td>\n      <td>3.43</td>\n      <td>3.33</td>\n      <td>3.60</td>\n      <td>3.56</td>\n      <td>3.33</td>\n      <td>3.18</td>\n      <td>...</td>\n      <td>1366.65</td>\n      <td>1.6313</td>\n      <td>1.3947</td>\n      <td>17.0805</td>\n      <td>5.50</td>\n      <td>0.000000</td>\n      <td>0.002518</td>\n      <td>0.000232</td>\n      <td>0.000067</td>\n      <td>0.000165</td>\n    </tr>\n    <tr>\n      <th>2654</th>\n      <td>2022-09-07</td>\n      <td>1.3166</td>\n      <td>3.45</td>\n      <td>3.50</td>\n      <td>3.37</td>\n      <td>3.27</td>\n      <td>3.60</td>\n      <td>3.55</td>\n      <td>3.30</td>\n      <td>3.13</td>\n      <td>...</td>\n      <td>1374.44</td>\n      <td>1.6459</td>\n      <td>1.3931</td>\n      <td>17.2582</td>\n      <td>5.50</td>\n      <td>0.060902</td>\n      <td>0.003348</td>\n      <td>0.000218</td>\n      <td>0.000060</td>\n      <td>0.000158</td>\n    </tr>\n  </tbody>\n</table>\n<p>2655 rows × 48 columns</p>\n</div>"
     },
     "execution_count": 36,
     "metadata": {},
     "output_type": "execute_result"
    }
   ],
   "source": [
    "# Merge the RV dataframe with the final dataframe\n",
    "\n",
    "df_final = pd.merge(df_final, df_RV, on='date')\n",
    "df_final"
   ],
   "metadata": {
    "collapsed": false,
    "pycharm": {
     "name": "#%%\n"
    }
   }
  },
  {
   "cell_type": "code",
   "execution_count": 37,
   "outputs": [
    {
     "data": {
      "text/plain": "            date  dhhngsp  dcoilwtico  dcoilbrenteu  will5000prfc  \\\n0     2008-06-03    12.27      124.33        126.28      14061.91   \n1     2008-06-04    12.17      122.30        121.72      14061.85   \n2     2008-06-05    12.49      127.93        122.36      14339.94   \n3     2008-06-06    12.71      138.51        132.81      13924.63   \n4     2008-06-09    12.71      134.44        134.43      13916.99   \n...          ...      ...         ...           ...           ...   \n3754  2022-10-24     4.81       86.12         91.57      37805.51   \n3755  2022-10-25     5.17       86.93         91.76      38502.58   \n3756  2022-10-26     5.28       89.39         92.93      38261.62   \n3757  2022-10-27     5.30       89.06         94.17      38071.34   \n3758  2022-10-28     5.02       87.85         94.64      38952.71   \n\n      dpropanembtx  dhoilnyh  willresipr  vixcls  gvzcls  ...  dexkous  \\\n0            1.686     3.628      186.02   20.24   22.89  ...  1016.80   \n1            1.684     3.535      187.20   20.80   22.69  ...  1019.00   \n2            1.705     3.670      191.75   18.63   22.78  ...  1023.00   \n3            1.783     3.944      183.26   23.56   23.60  ...  1030.50   \n4            1.786     3.872      179.16   23.12   24.47  ...  1032.00   \n...            ...       ...         ...     ...     ...  ...      ...   \n3754         0.838     4.122      225.67   29.85   19.58  ...  1439.14   \n3755         0.850     4.044      234.75   28.46   19.33  ...  1432.46   \n3756         0.873     4.230      233.87   27.28   18.67  ...  1425.68   \n3757         0.865     4.419      233.72   27.39   18.51  ...  1419.00   \n3758         0.873     4.540      238.97   25.75   18.01  ...  1421.67   \n\n      dexmxus  dexinus  dexvzus  dexbzus  dexszus  dtwexemegs  usrecd  \\\n0      10.290    42.50   2.1446   1.6227   1.0437     90.2137       1   \n1      10.320    42.60   2.1446   1.6293   1.0408     90.5130       1   \n2      10.312    42.82   2.1446   1.6345   1.0398     90.4731       1   \n3      10.368    42.63   2.1446   1.6261   1.0237     90.5390       1   \n4      10.364    42.85   2.1446   1.6226   1.0237     90.5268       1   \n...       ...      ...      ...      ...      ...         ...     ...   \n3754   19.945    82.68   8.3866   5.2768   1.0007    134.3977       0   \n3755   19.867    82.44   8.3825   5.2898   0.9961    134.1403       0   \n3756   19.866    82.73   8.3886   5.3228   0.9865    133.4108       0   \n3757   19.838    82.36   8.4297   5.2839   0.9899    133.5015       0   \n3758   19.824    82.33   8.5041   5.3547   0.9968    133.7935       0   \n\n      eurorecd  jpnrecdp  \n0          1.0       1.0  \n1          1.0       1.0  \n2          1.0       1.0  \n3          1.0       1.0  \n4          1.0       1.0  \n...        ...       ...  \n3754       0.0       0.0  \n3755       0.0       0.0  \n3756       0.0       0.0  \n3757       0.0       0.0  \n3758       0.0       0.0  \n\n[3759 rows x 26 columns]",
      "text/html": "<div>\n<style scoped>\n    .dataframe tbody tr th:only-of-type {\n        vertical-align: middle;\n    }\n\n    .dataframe tbody tr th {\n        vertical-align: top;\n    }\n\n    .dataframe thead th {\n        text-align: right;\n    }\n</style>\n<table border=\"1\" class=\"dataframe\">\n  <thead>\n    <tr style=\"text-align: right;\">\n      <th></th>\n      <th>date</th>\n      <th>dhhngsp</th>\n      <th>dcoilwtico</th>\n      <th>dcoilbrenteu</th>\n      <th>will5000prfc</th>\n      <th>dpropanembtx</th>\n      <th>dhoilnyh</th>\n      <th>willresipr</th>\n      <th>vixcls</th>\n      <th>gvzcls</th>\n      <th>...</th>\n      <th>dexkous</th>\n      <th>dexmxus</th>\n      <th>dexinus</th>\n      <th>dexvzus</th>\n      <th>dexbzus</th>\n      <th>dexszus</th>\n      <th>dtwexemegs</th>\n      <th>usrecd</th>\n      <th>eurorecd</th>\n      <th>jpnrecdp</th>\n    </tr>\n  </thead>\n  <tbody>\n    <tr>\n      <th>0</th>\n      <td>2008-06-03</td>\n      <td>12.27</td>\n      <td>124.33</td>\n      <td>126.28</td>\n      <td>14061.91</td>\n      <td>1.686</td>\n      <td>3.628</td>\n      <td>186.02</td>\n      <td>20.24</td>\n      <td>22.89</td>\n      <td>...</td>\n      <td>1016.80</td>\n      <td>10.290</td>\n      <td>42.50</td>\n      <td>2.1446</td>\n      <td>1.6227</td>\n      <td>1.0437</td>\n      <td>90.2137</td>\n      <td>1</td>\n      <td>1.0</td>\n      <td>1.0</td>\n    </tr>\n    <tr>\n      <th>1</th>\n      <td>2008-06-04</td>\n      <td>12.17</td>\n      <td>122.30</td>\n      <td>121.72</td>\n      <td>14061.85</td>\n      <td>1.684</td>\n      <td>3.535</td>\n      <td>187.20</td>\n      <td>20.80</td>\n      <td>22.69</td>\n      <td>...</td>\n      <td>1019.00</td>\n      <td>10.320</td>\n      <td>42.60</td>\n      <td>2.1446</td>\n      <td>1.6293</td>\n      <td>1.0408</td>\n      <td>90.5130</td>\n      <td>1</td>\n      <td>1.0</td>\n      <td>1.0</td>\n    </tr>\n    <tr>\n      <th>2</th>\n      <td>2008-06-05</td>\n      <td>12.49</td>\n      <td>127.93</td>\n      <td>122.36</td>\n      <td>14339.94</td>\n      <td>1.705</td>\n      <td>3.670</td>\n      <td>191.75</td>\n      <td>18.63</td>\n      <td>22.78</td>\n      <td>...</td>\n      <td>1023.00</td>\n      <td>10.312</td>\n      <td>42.82</td>\n      <td>2.1446</td>\n      <td>1.6345</td>\n      <td>1.0398</td>\n      <td>90.4731</td>\n      <td>1</td>\n      <td>1.0</td>\n      <td>1.0</td>\n    </tr>\n    <tr>\n      <th>3</th>\n      <td>2008-06-06</td>\n      <td>12.71</td>\n      <td>138.51</td>\n      <td>132.81</td>\n      <td>13924.63</td>\n      <td>1.783</td>\n      <td>3.944</td>\n      <td>183.26</td>\n      <td>23.56</td>\n      <td>23.60</td>\n      <td>...</td>\n      <td>1030.50</td>\n      <td>10.368</td>\n      <td>42.63</td>\n      <td>2.1446</td>\n      <td>1.6261</td>\n      <td>1.0237</td>\n      <td>90.5390</td>\n      <td>1</td>\n      <td>1.0</td>\n      <td>1.0</td>\n    </tr>\n    <tr>\n      <th>4</th>\n      <td>2008-06-09</td>\n      <td>12.71</td>\n      <td>134.44</td>\n      <td>134.43</td>\n      <td>13916.99</td>\n      <td>1.786</td>\n      <td>3.872</td>\n      <td>179.16</td>\n      <td>23.12</td>\n      <td>24.47</td>\n      <td>...</td>\n      <td>1032.00</td>\n      <td>10.364</td>\n      <td>42.85</td>\n      <td>2.1446</td>\n      <td>1.6226</td>\n      <td>1.0237</td>\n      <td>90.5268</td>\n      <td>1</td>\n      <td>1.0</td>\n      <td>1.0</td>\n    </tr>\n    <tr>\n      <th>...</th>\n      <td>...</td>\n      <td>...</td>\n      <td>...</td>\n      <td>...</td>\n      <td>...</td>\n      <td>...</td>\n      <td>...</td>\n      <td>...</td>\n      <td>...</td>\n      <td>...</td>\n      <td>...</td>\n      <td>...</td>\n      <td>...</td>\n      <td>...</td>\n      <td>...</td>\n      <td>...</td>\n      <td>...</td>\n      <td>...</td>\n      <td>...</td>\n      <td>...</td>\n      <td>...</td>\n    </tr>\n    <tr>\n      <th>3754</th>\n      <td>2022-10-24</td>\n      <td>4.81</td>\n      <td>86.12</td>\n      <td>91.57</td>\n      <td>37805.51</td>\n      <td>0.838</td>\n      <td>4.122</td>\n      <td>225.67</td>\n      <td>29.85</td>\n      <td>19.58</td>\n      <td>...</td>\n      <td>1439.14</td>\n      <td>19.945</td>\n      <td>82.68</td>\n      <td>8.3866</td>\n      <td>5.2768</td>\n      <td>1.0007</td>\n      <td>134.3977</td>\n      <td>0</td>\n      <td>0.0</td>\n      <td>0.0</td>\n    </tr>\n    <tr>\n      <th>3755</th>\n      <td>2022-10-25</td>\n      <td>5.17</td>\n      <td>86.93</td>\n      <td>91.76</td>\n      <td>38502.58</td>\n      <td>0.850</td>\n      <td>4.044</td>\n      <td>234.75</td>\n      <td>28.46</td>\n      <td>19.33</td>\n      <td>...</td>\n      <td>1432.46</td>\n      <td>19.867</td>\n      <td>82.44</td>\n      <td>8.3825</td>\n      <td>5.2898</td>\n      <td>0.9961</td>\n      <td>134.1403</td>\n      <td>0</td>\n      <td>0.0</td>\n      <td>0.0</td>\n    </tr>\n    <tr>\n      <th>3756</th>\n      <td>2022-10-26</td>\n      <td>5.28</td>\n      <td>89.39</td>\n      <td>92.93</td>\n      <td>38261.62</td>\n      <td>0.873</td>\n      <td>4.230</td>\n      <td>233.87</td>\n      <td>27.28</td>\n      <td>18.67</td>\n      <td>...</td>\n      <td>1425.68</td>\n      <td>19.866</td>\n      <td>82.73</td>\n      <td>8.3886</td>\n      <td>5.3228</td>\n      <td>0.9865</td>\n      <td>133.4108</td>\n      <td>0</td>\n      <td>0.0</td>\n      <td>0.0</td>\n    </tr>\n    <tr>\n      <th>3757</th>\n      <td>2022-10-27</td>\n      <td>5.30</td>\n      <td>89.06</td>\n      <td>94.17</td>\n      <td>38071.34</td>\n      <td>0.865</td>\n      <td>4.419</td>\n      <td>233.72</td>\n      <td>27.39</td>\n      <td>18.51</td>\n      <td>...</td>\n      <td>1419.00</td>\n      <td>19.838</td>\n      <td>82.36</td>\n      <td>8.4297</td>\n      <td>5.2839</td>\n      <td>0.9899</td>\n      <td>133.5015</td>\n      <td>0</td>\n      <td>0.0</td>\n      <td>0.0</td>\n    </tr>\n    <tr>\n      <th>3758</th>\n      <td>2022-10-28</td>\n      <td>5.02</td>\n      <td>87.85</td>\n      <td>94.64</td>\n      <td>38952.71</td>\n      <td>0.873</td>\n      <td>4.540</td>\n      <td>238.97</td>\n      <td>25.75</td>\n      <td>18.01</td>\n      <td>...</td>\n      <td>1421.67</td>\n      <td>19.824</td>\n      <td>82.33</td>\n      <td>8.5041</td>\n      <td>5.3547</td>\n      <td>0.9968</td>\n      <td>133.7935</td>\n      <td>0</td>\n      <td>0.0</td>\n      <td>0.0</td>\n    </tr>\n  </tbody>\n</table>\n<p>3759 rows × 26 columns</p>\n</div>"
     },
     "execution_count": 37,
     "metadata": {},
     "output_type": "execute_result"
    }
   ],
   "source": [
    "df_macro = pd.read_csv(f\"var_exp_df.csv\", index_col=0)\n",
    "df_macro.reset_index(inplace=True)\n",
    "df_macro.columns = df_macro.columns.str.lower()\n",
    "df_macro"
   ],
   "metadata": {
    "collapsed": false,
    "pycharm": {
     "name": "#%%\n"
    }
   }
  },
  {
   "cell_type": "code",
   "execution_count": 38,
   "outputs": [
    {
     "data": {
      "text/plain": "            date  usd/cad  DGS2  DGS3  DGS5  DGS10  cad_2y  cad_3y  cad_5y  \\\n0     2012-01-04   1.0134  0.25  0.40  0.89   2.00    0.97    1.01    1.30   \n1     2012-01-05   1.0197  0.27  0.40  0.88   2.02    0.96    1.00    1.29   \n2     2012-01-06   1.0231  0.25  0.40  0.86   1.98    0.93    0.97    1.25   \n3     2012-01-09   1.0272  0.26  0.38  0.85   1.98    0.94    0.98    1.26   \n4     2012-01-10   1.0161  0.24  0.37  0.86   2.00    0.97    1.00    1.29   \n...          ...      ...   ...   ...   ...    ...     ...     ...     ...   \n2650  2022-08-31   1.3091  3.45  3.46  3.30   3.15    3.64    3.59    3.34   \n2651  2022-09-01   1.3160  3.51  3.54  3.39   3.26    3.66    3.61    3.37   \n2652  2022-09-02   1.3089  3.40  3.44  3.30   3.20    3.58    3.53    3.28   \n2653  2022-09-06   1.3122  3.50  3.55  3.43   3.33    3.60    3.56    3.33   \n2654  2022-09-07   1.3166  3.45  3.50  3.37   3.27    3.60    3.55    3.30   \n\n      cad_10y  ...  dexkous  dexmxus  dexinus  dexvzus  dexbzus  dexszus  \\\n0        1.99  ...  1147.35  13.6968    52.85   4.2893   1.8205   0.9417   \n1        1.97  ...  1155.55  13.7502    52.89   4.2893   1.8399   0.9528   \n2        1.94  ...  1160.00  13.7165    52.67   4.2893   1.8487   0.9555   \n3        1.95  ...  1158.80  13.7344    52.39   4.2893   1.8411   0.9520   \n4        1.98  ...  1153.55  13.6211    51.59   4.2893   1.8041   0.9486   \n...       ...  ...      ...      ...      ...      ...      ...      ...   \n2650     3.11  ...  1338.66  20.0860    79.45   7.8357   5.1870   0.9748   \n2651     3.18  ...  1354.34  20.2200    79.65   7.8725   5.2238   0.9838   \n2652     3.10  ...  1362.20  19.9270    79.70   7.8880   5.1720   0.9801   \n2653     3.18  ...  1378.95  20.1090    79.86   7.9248   5.2305   0.9839   \n2654     3.13  ...  1383.72  20.0260    79.82   7.9616   5.2480   0.9808   \n\n      dtwexemegs  usrecd  eurorecd  jpnrecdp  \n0        97.5854       0       1.0       1.0  \n1        97.8533       0       1.0       1.0  \n2        97.8570       0       1.0       1.0  \n3        97.8951       0       1.0       1.0  \n4        97.3736       0       1.0       1.0  \n...          ...     ...       ...       ...  \n2650    129.6976       0       0.0       0.0  \n2651    130.3210       0       0.0       0.0  \n2652    129.7622       0       0.0       0.0  \n2653    130.7121       0       0.0       0.0  \n2654    130.7067       0       0.0       0.0  \n\n[2655 rows x 73 columns]",
      "text/html": "<div>\n<style scoped>\n    .dataframe tbody tr th:only-of-type {\n        vertical-align: middle;\n    }\n\n    .dataframe tbody tr th {\n        vertical-align: top;\n    }\n\n    .dataframe thead th {\n        text-align: right;\n    }\n</style>\n<table border=\"1\" class=\"dataframe\">\n  <thead>\n    <tr style=\"text-align: right;\">\n      <th></th>\n      <th>date</th>\n      <th>usd/cad</th>\n      <th>DGS2</th>\n      <th>DGS3</th>\n      <th>DGS5</th>\n      <th>DGS10</th>\n      <th>cad_2y</th>\n      <th>cad_3y</th>\n      <th>cad_5y</th>\n      <th>cad_10y</th>\n      <th>...</th>\n      <th>dexkous</th>\n      <th>dexmxus</th>\n      <th>dexinus</th>\n      <th>dexvzus</th>\n      <th>dexbzus</th>\n      <th>dexszus</th>\n      <th>dtwexemegs</th>\n      <th>usrecd</th>\n      <th>eurorecd</th>\n      <th>jpnrecdp</th>\n    </tr>\n  </thead>\n  <tbody>\n    <tr>\n      <th>0</th>\n      <td>2012-01-04</td>\n      <td>1.0134</td>\n      <td>0.25</td>\n      <td>0.40</td>\n      <td>0.89</td>\n      <td>2.00</td>\n      <td>0.97</td>\n      <td>1.01</td>\n      <td>1.30</td>\n      <td>1.99</td>\n      <td>...</td>\n      <td>1147.35</td>\n      <td>13.6968</td>\n      <td>52.85</td>\n      <td>4.2893</td>\n      <td>1.8205</td>\n      <td>0.9417</td>\n      <td>97.5854</td>\n      <td>0</td>\n      <td>1.0</td>\n      <td>1.0</td>\n    </tr>\n    <tr>\n      <th>1</th>\n      <td>2012-01-05</td>\n      <td>1.0197</td>\n      <td>0.27</td>\n      <td>0.40</td>\n      <td>0.88</td>\n      <td>2.02</td>\n      <td>0.96</td>\n      <td>1.00</td>\n      <td>1.29</td>\n      <td>1.97</td>\n      <td>...</td>\n      <td>1155.55</td>\n      <td>13.7502</td>\n      <td>52.89</td>\n      <td>4.2893</td>\n      <td>1.8399</td>\n      <td>0.9528</td>\n      <td>97.8533</td>\n      <td>0</td>\n      <td>1.0</td>\n      <td>1.0</td>\n    </tr>\n    <tr>\n      <th>2</th>\n      <td>2012-01-06</td>\n      <td>1.0231</td>\n      <td>0.25</td>\n      <td>0.40</td>\n      <td>0.86</td>\n      <td>1.98</td>\n      <td>0.93</td>\n      <td>0.97</td>\n      <td>1.25</td>\n      <td>1.94</td>\n      <td>...</td>\n      <td>1160.00</td>\n      <td>13.7165</td>\n      <td>52.67</td>\n      <td>4.2893</td>\n      <td>1.8487</td>\n      <td>0.9555</td>\n      <td>97.8570</td>\n      <td>0</td>\n      <td>1.0</td>\n      <td>1.0</td>\n    </tr>\n    <tr>\n      <th>3</th>\n      <td>2012-01-09</td>\n      <td>1.0272</td>\n      <td>0.26</td>\n      <td>0.38</td>\n      <td>0.85</td>\n      <td>1.98</td>\n      <td>0.94</td>\n      <td>0.98</td>\n      <td>1.26</td>\n      <td>1.95</td>\n      <td>...</td>\n      <td>1158.80</td>\n      <td>13.7344</td>\n      <td>52.39</td>\n      <td>4.2893</td>\n      <td>1.8411</td>\n      <td>0.9520</td>\n      <td>97.8951</td>\n      <td>0</td>\n      <td>1.0</td>\n      <td>1.0</td>\n    </tr>\n    <tr>\n      <th>4</th>\n      <td>2012-01-10</td>\n      <td>1.0161</td>\n      <td>0.24</td>\n      <td>0.37</td>\n      <td>0.86</td>\n      <td>2.00</td>\n      <td>0.97</td>\n      <td>1.00</td>\n      <td>1.29</td>\n      <td>1.98</td>\n      <td>...</td>\n      <td>1153.55</td>\n      <td>13.6211</td>\n      <td>51.59</td>\n      <td>4.2893</td>\n      <td>1.8041</td>\n      <td>0.9486</td>\n      <td>97.3736</td>\n      <td>0</td>\n      <td>1.0</td>\n      <td>1.0</td>\n    </tr>\n    <tr>\n      <th>...</th>\n      <td>...</td>\n      <td>...</td>\n      <td>...</td>\n      <td>...</td>\n      <td>...</td>\n      <td>...</td>\n      <td>...</td>\n      <td>...</td>\n      <td>...</td>\n      <td>...</td>\n      <td>...</td>\n      <td>...</td>\n      <td>...</td>\n      <td>...</td>\n      <td>...</td>\n      <td>...</td>\n      <td>...</td>\n      <td>...</td>\n      <td>...</td>\n      <td>...</td>\n      <td>...</td>\n    </tr>\n    <tr>\n      <th>2650</th>\n      <td>2022-08-31</td>\n      <td>1.3091</td>\n      <td>3.45</td>\n      <td>3.46</td>\n      <td>3.30</td>\n      <td>3.15</td>\n      <td>3.64</td>\n      <td>3.59</td>\n      <td>3.34</td>\n      <td>3.11</td>\n      <td>...</td>\n      <td>1338.66</td>\n      <td>20.0860</td>\n      <td>79.45</td>\n      <td>7.8357</td>\n      <td>5.1870</td>\n      <td>0.9748</td>\n      <td>129.6976</td>\n      <td>0</td>\n      <td>0.0</td>\n      <td>0.0</td>\n    </tr>\n    <tr>\n      <th>2651</th>\n      <td>2022-09-01</td>\n      <td>1.3160</td>\n      <td>3.51</td>\n      <td>3.54</td>\n      <td>3.39</td>\n      <td>3.26</td>\n      <td>3.66</td>\n      <td>3.61</td>\n      <td>3.37</td>\n      <td>3.18</td>\n      <td>...</td>\n      <td>1354.34</td>\n      <td>20.2200</td>\n      <td>79.65</td>\n      <td>7.8725</td>\n      <td>5.2238</td>\n      <td>0.9838</td>\n      <td>130.3210</td>\n      <td>0</td>\n      <td>0.0</td>\n      <td>0.0</td>\n    </tr>\n    <tr>\n      <th>2652</th>\n      <td>2022-09-02</td>\n      <td>1.3089</td>\n      <td>3.40</td>\n      <td>3.44</td>\n      <td>3.30</td>\n      <td>3.20</td>\n      <td>3.58</td>\n      <td>3.53</td>\n      <td>3.28</td>\n      <td>3.10</td>\n      <td>...</td>\n      <td>1362.20</td>\n      <td>19.9270</td>\n      <td>79.70</td>\n      <td>7.8880</td>\n      <td>5.1720</td>\n      <td>0.9801</td>\n      <td>129.7622</td>\n      <td>0</td>\n      <td>0.0</td>\n      <td>0.0</td>\n    </tr>\n    <tr>\n      <th>2653</th>\n      <td>2022-09-06</td>\n      <td>1.3122</td>\n      <td>3.50</td>\n      <td>3.55</td>\n      <td>3.43</td>\n      <td>3.33</td>\n      <td>3.60</td>\n      <td>3.56</td>\n      <td>3.33</td>\n      <td>3.18</td>\n      <td>...</td>\n      <td>1378.95</td>\n      <td>20.1090</td>\n      <td>79.86</td>\n      <td>7.9248</td>\n      <td>5.2305</td>\n      <td>0.9839</td>\n      <td>130.7121</td>\n      <td>0</td>\n      <td>0.0</td>\n      <td>0.0</td>\n    </tr>\n    <tr>\n      <th>2654</th>\n      <td>2022-09-07</td>\n      <td>1.3166</td>\n      <td>3.45</td>\n      <td>3.50</td>\n      <td>3.37</td>\n      <td>3.27</td>\n      <td>3.60</td>\n      <td>3.55</td>\n      <td>3.30</td>\n      <td>3.13</td>\n      <td>...</td>\n      <td>1383.72</td>\n      <td>20.0260</td>\n      <td>79.82</td>\n      <td>7.9616</td>\n      <td>5.2480</td>\n      <td>0.9808</td>\n      <td>130.7067</td>\n      <td>0</td>\n      <td>0.0</td>\n      <td>0.0</td>\n    </tr>\n  </tbody>\n</table>\n<p>2655 rows × 73 columns</p>\n</div>"
     },
     "execution_count": 38,
     "metadata": {},
     "output_type": "execute_result"
    }
   ],
   "source": [
    "df_final = pd.merge(df_final, df_macro, on='date')\n",
    "df_final"
   ],
   "metadata": {
    "collapsed": false,
    "pycharm": {
     "name": "#%%\n"
    }
   }
  },
  {
   "cell_type": "code",
   "execution_count": 39,
   "outputs": [
    {
     "name": "stderr",
     "output_type": "stream",
     "text": [
      "/var/folders/9k/fx177q5n7nb2j1c1h54h8j0w0000gn/T/ipykernel_15647/961619163.py:13: FutureWarning: The default dtype for empty Series will be 'object' instead of 'float64' in a future version. Specify a dtype explicitly to silence this warning.\n",
      "  s = pd.Series(index=dtr)\n"
     ]
    },
    {
     "data": {
      "text/plain": "           index  sentiment\n0     1994-02-04   0.380135\n1     1994-02-05   0.000000\n2     1994-02-06   0.000000\n3     1994-02-07   0.000000\n4     1994-02-08   0.000000\n...          ...        ...\n10494 2022-10-29   0.000000\n10495 2022-10-30   0.000000\n10496 2022-10-31   0.000000\n10497 2022-11-01   0.000000\n10498 2022-11-02   0.248647\n\n[10499 rows x 2 columns]",
      "text/html": "<div>\n<style scoped>\n    .dataframe tbody tr th:only-of-type {\n        vertical-align: middle;\n    }\n\n    .dataframe tbody tr th {\n        vertical-align: top;\n    }\n\n    .dataframe thead th {\n        text-align: right;\n    }\n</style>\n<table border=\"1\" class=\"dataframe\">\n  <thead>\n    <tr style=\"text-align: right;\">\n      <th></th>\n      <th>index</th>\n      <th>sentiment</th>\n    </tr>\n  </thead>\n  <tbody>\n    <tr>\n      <th>0</th>\n      <td>1994-02-04</td>\n      <td>0.380135</td>\n    </tr>\n    <tr>\n      <th>1</th>\n      <td>1994-02-05</td>\n      <td>0.000000</td>\n    </tr>\n    <tr>\n      <th>2</th>\n      <td>1994-02-06</td>\n      <td>0.000000</td>\n    </tr>\n    <tr>\n      <th>3</th>\n      <td>1994-02-07</td>\n      <td>0.000000</td>\n    </tr>\n    <tr>\n      <th>4</th>\n      <td>1994-02-08</td>\n      <td>0.000000</td>\n    </tr>\n    <tr>\n      <th>...</th>\n      <td>...</td>\n      <td>...</td>\n    </tr>\n    <tr>\n      <th>10494</th>\n      <td>2022-10-29</td>\n      <td>0.000000</td>\n    </tr>\n    <tr>\n      <th>10495</th>\n      <td>2022-10-30</td>\n      <td>0.000000</td>\n    </tr>\n    <tr>\n      <th>10496</th>\n      <td>2022-10-31</td>\n      <td>0.000000</td>\n    </tr>\n    <tr>\n      <th>10497</th>\n      <td>2022-11-01</td>\n      <td>0.000000</td>\n    </tr>\n    <tr>\n      <th>10498</th>\n      <td>2022-11-02</td>\n      <td>0.248647</td>\n    </tr>\n  </tbody>\n</table>\n<p>10499 rows × 2 columns</p>\n</div>"
     },
     "execution_count": 39,
     "metadata": {},
     "output_type": "execute_result"
    }
   ],
   "source": [
    "df_fed = pd.read_csv(f\"{PATH}Fed_statements_sentiments.csv\", index_col=0)\n",
    "# Drop the first column\n",
    "\n",
    "def clean_data(df_fed: pd.DataFrame):\n",
    "    df_fed.drop(['Unnamed: 0', 'contents', 'speaker', 'title'], axis=1, inplace=True)\n",
    "    df_fed['date'] = pd.to_datetime(df_fed['date'])\n",
    "\n",
    "    start = df_fed['date'].min()\n",
    "    end = df_fed['date'].max()\n",
    "    dtr = pd.date_range(start=start, end=end, freq='D')\n",
    "    df_fed = df_fed.set_index('date')\n",
    "\n",
    "    s = pd.Series(index=dtr)\n",
    "    df_fed = pd.concat([df_fed, s[~s.index.isin(df_fed.index)]]).sort_index()\n",
    "    df_fed = df_fed.drop([0], axis=1).fillna(0)\n",
    "    df_fed = df_fed.reset_index()\n",
    "\n",
    "    return df_fed\n",
    "\n",
    "df_fed = clean_data(df_fed)\n",
    "df_fed"
   ],
   "metadata": {
    "collapsed": false,
    "pycharm": {
     "name": "#%%\n"
    }
   }
  },
  {
   "cell_type": "code",
   "execution_count": 40,
   "outputs": [],
   "source": [
    "df_fed.columns = [\"date\", \"us_fed_sentiment\"]"
   ],
   "metadata": {
    "collapsed": false,
    "pycharm": {
     "name": "#%%\n"
    }
   }
  },
  {
   "cell_type": "code",
   "execution_count": 41,
   "outputs": [],
   "source": [
    "df_fed['date'] = df_fed['date'].astype(str)"
   ],
   "metadata": {
    "collapsed": false,
    "pycharm": {
     "name": "#%%\n"
    }
   }
  },
  {
   "cell_type": "code",
   "execution_count": 42,
   "outputs": [],
   "source": [
    "df_final = pd.merge(df_final, df_fed, on='date')"
   ],
   "metadata": {
    "collapsed": false,
    "pycharm": {
     "name": "#%%\n"
    }
   }
  },
  {
   "cell_type": "code",
   "execution_count": 43,
   "outputs": [
    {
     "name": "stderr",
     "output_type": "stream",
     "text": [
      "/var/folders/9k/fx177q5n7nb2j1c1h54h8j0w0000gn/T/ipykernel_15647/961619163.py:13: FutureWarning: The default dtype for empty Series will be 'object' instead of 'float64' in a future version. Specify a dtype explicitly to silence this warning.\n",
      "  s = pd.Series(index=dtr)\n"
     ]
    }
   ],
   "source": [
    "df_speech = pd.read_csv(f\"{PATH}FedSpeechSentiment.csv\", index_col=0)\n",
    "df_speech = clean_data(df_speech)\n",
    "df_speech.columns = [\"date\", \"fed_speech_sentiment\"]\n",
    "df_speech['date'] = df_speech['date'].astype(str)"
   ],
   "metadata": {
    "collapsed": false,
    "pycharm": {
     "name": "#%%\n"
    }
   }
  },
  {
   "cell_type": "code",
   "execution_count": 44,
   "outputs": [],
   "source": [
    "df_final = pd.merge(df_final, df_speech, on='date')"
   ],
   "metadata": {
    "collapsed": false,
    "pycharm": {
     "name": "#%%\n"
    }
   }
  },
  {
   "cell_type": "code",
   "execution_count": 45,
   "outputs": [
    {
     "data": {
      "text/plain": "            date  usd/cad  DGS2  DGS3  DGS5  DGS10  cad_2y  cad_3y  cad_5y  \\\n0     2012-01-04   1.0134  0.25  0.40  0.89   2.00    0.97    1.01    1.30   \n1     2012-01-05   1.0197  0.27  0.40  0.88   2.02    0.96    1.00    1.29   \n2     2012-01-06   1.0231  0.25  0.40  0.86   1.98    0.93    0.97    1.25   \n3     2012-01-06   1.0231  0.25  0.40  0.86   1.98    0.93    0.97    1.25   \n4     2012-01-09   1.0272  0.26  0.38  0.85   1.98    0.94    0.98    1.26   \n...          ...      ...   ...   ...   ...    ...     ...     ...     ...   \n2726  2022-09-01   1.3160  3.51  3.54  3.39   3.26    3.66    3.61    3.37   \n2727  2022-09-02   1.3089  3.40  3.44  3.30   3.20    3.58    3.53    3.28   \n2728  2022-09-06   1.3122  3.50  3.55  3.43   3.33    3.60    3.56    3.33   \n2729  2022-09-07   1.3166  3.45  3.50  3.37   3.27    3.60    3.55    3.30   \n2730  2022-09-07   1.3166  3.45  3.50  3.37   3.27    3.60    3.55    3.30   \n\n      cad_10y  ...  dexszus  dtwexemegs  usrecd  eurorecd  jpnrecdp  \\\n0        1.99  ...   0.9417     97.5854       0       1.0       1.0   \n1        1.97  ...   0.9528     97.8533       0       1.0       1.0   \n2        1.94  ...   0.9555     97.8570       0       1.0       1.0   \n3        1.94  ...   0.9555     97.8570       0       1.0       1.0   \n4        1.95  ...   0.9520     97.8951       0       1.0       1.0   \n...       ...  ...      ...         ...     ...       ...       ...   \n2726     3.18  ...   0.9838    130.3210       0       0.0       0.0   \n2727     3.10  ...   0.9801    129.7622       0       0.0       0.0   \n2728     3.18  ...   0.9839    130.7121       0       0.0       0.0   \n2729     3.13  ...   0.9808    130.7067       0       0.0       0.0   \n2730     3.13  ...   0.9808    130.7067       0       0.0       0.0   \n\n      us_fed_sentiment  fed_speech_sentiment  usd/cad_lag_1  usd/cad_lag_2  \\\n0                  0.0                   0.0            NaN            NaN   \n1                  0.0                   0.0         1.0134            NaN   \n2                  0.0                   0.0         1.0197         1.0134   \n3                  0.0                   0.0         1.0231         1.0197   \n4                  0.0                   0.0         1.0231         1.0231   \n...                ...                   ...            ...            ...   \n2726               0.0                   0.0         1.3091         1.3090   \n2727               0.0                   0.0         1.3160         1.3091   \n2728               0.0                   0.0         1.3089         1.3160   \n2729               0.0                   0.0         1.3122         1.3089   \n2730               0.0                   0.0         1.3166         1.3122   \n\n      usd/cad_lag_3  \n0               NaN  \n1               NaN  \n2               NaN  \n3            1.0134  \n4            1.0197  \n...             ...  \n2726         1.3001  \n2727         1.3090  \n2728         1.3091  \n2729         1.3160  \n2730         1.3089  \n\n[2731 rows x 78 columns]",
      "text/html": "<div>\n<style scoped>\n    .dataframe tbody tr th:only-of-type {\n        vertical-align: middle;\n    }\n\n    .dataframe tbody tr th {\n        vertical-align: top;\n    }\n\n    .dataframe thead th {\n        text-align: right;\n    }\n</style>\n<table border=\"1\" class=\"dataframe\">\n  <thead>\n    <tr style=\"text-align: right;\">\n      <th></th>\n      <th>date</th>\n      <th>usd/cad</th>\n      <th>DGS2</th>\n      <th>DGS3</th>\n      <th>DGS5</th>\n      <th>DGS10</th>\n      <th>cad_2y</th>\n      <th>cad_3y</th>\n      <th>cad_5y</th>\n      <th>cad_10y</th>\n      <th>...</th>\n      <th>dexszus</th>\n      <th>dtwexemegs</th>\n      <th>usrecd</th>\n      <th>eurorecd</th>\n      <th>jpnrecdp</th>\n      <th>us_fed_sentiment</th>\n      <th>fed_speech_sentiment</th>\n      <th>usd/cad_lag_1</th>\n      <th>usd/cad_lag_2</th>\n      <th>usd/cad_lag_3</th>\n    </tr>\n  </thead>\n  <tbody>\n    <tr>\n      <th>0</th>\n      <td>2012-01-04</td>\n      <td>1.0134</td>\n      <td>0.25</td>\n      <td>0.40</td>\n      <td>0.89</td>\n      <td>2.00</td>\n      <td>0.97</td>\n      <td>1.01</td>\n      <td>1.30</td>\n      <td>1.99</td>\n      <td>...</td>\n      <td>0.9417</td>\n      <td>97.5854</td>\n      <td>0</td>\n      <td>1.0</td>\n      <td>1.0</td>\n      <td>0.0</td>\n      <td>0.0</td>\n      <td>NaN</td>\n      <td>NaN</td>\n      <td>NaN</td>\n    </tr>\n    <tr>\n      <th>1</th>\n      <td>2012-01-05</td>\n      <td>1.0197</td>\n      <td>0.27</td>\n      <td>0.40</td>\n      <td>0.88</td>\n      <td>2.02</td>\n      <td>0.96</td>\n      <td>1.00</td>\n      <td>1.29</td>\n      <td>1.97</td>\n      <td>...</td>\n      <td>0.9528</td>\n      <td>97.8533</td>\n      <td>0</td>\n      <td>1.0</td>\n      <td>1.0</td>\n      <td>0.0</td>\n      <td>0.0</td>\n      <td>1.0134</td>\n      <td>NaN</td>\n      <td>NaN</td>\n    </tr>\n    <tr>\n      <th>2</th>\n      <td>2012-01-06</td>\n      <td>1.0231</td>\n      <td>0.25</td>\n      <td>0.40</td>\n      <td>0.86</td>\n      <td>1.98</td>\n      <td>0.93</td>\n      <td>0.97</td>\n      <td>1.25</td>\n      <td>1.94</td>\n      <td>...</td>\n      <td>0.9555</td>\n      <td>97.8570</td>\n      <td>0</td>\n      <td>1.0</td>\n      <td>1.0</td>\n      <td>0.0</td>\n      <td>0.0</td>\n      <td>1.0197</td>\n      <td>1.0134</td>\n      <td>NaN</td>\n    </tr>\n    <tr>\n      <th>3</th>\n      <td>2012-01-06</td>\n      <td>1.0231</td>\n      <td>0.25</td>\n      <td>0.40</td>\n      <td>0.86</td>\n      <td>1.98</td>\n      <td>0.93</td>\n      <td>0.97</td>\n      <td>1.25</td>\n      <td>1.94</td>\n      <td>...</td>\n      <td>0.9555</td>\n      <td>97.8570</td>\n      <td>0</td>\n      <td>1.0</td>\n      <td>1.0</td>\n      <td>0.0</td>\n      <td>0.0</td>\n      <td>1.0231</td>\n      <td>1.0197</td>\n      <td>1.0134</td>\n    </tr>\n    <tr>\n      <th>4</th>\n      <td>2012-01-09</td>\n      <td>1.0272</td>\n      <td>0.26</td>\n      <td>0.38</td>\n      <td>0.85</td>\n      <td>1.98</td>\n      <td>0.94</td>\n      <td>0.98</td>\n      <td>1.26</td>\n      <td>1.95</td>\n      <td>...</td>\n      <td>0.9520</td>\n      <td>97.8951</td>\n      <td>0</td>\n      <td>1.0</td>\n      <td>1.0</td>\n      <td>0.0</td>\n      <td>0.0</td>\n      <td>1.0231</td>\n      <td>1.0231</td>\n      <td>1.0197</td>\n    </tr>\n    <tr>\n      <th>...</th>\n      <td>...</td>\n      <td>...</td>\n      <td>...</td>\n      <td>...</td>\n      <td>...</td>\n      <td>...</td>\n      <td>...</td>\n      <td>...</td>\n      <td>...</td>\n      <td>...</td>\n      <td>...</td>\n      <td>...</td>\n      <td>...</td>\n      <td>...</td>\n      <td>...</td>\n      <td>...</td>\n      <td>...</td>\n      <td>...</td>\n      <td>...</td>\n      <td>...</td>\n      <td>...</td>\n    </tr>\n    <tr>\n      <th>2726</th>\n      <td>2022-09-01</td>\n      <td>1.3160</td>\n      <td>3.51</td>\n      <td>3.54</td>\n      <td>3.39</td>\n      <td>3.26</td>\n      <td>3.66</td>\n      <td>3.61</td>\n      <td>3.37</td>\n      <td>3.18</td>\n      <td>...</td>\n      <td>0.9838</td>\n      <td>130.3210</td>\n      <td>0</td>\n      <td>0.0</td>\n      <td>0.0</td>\n      <td>0.0</td>\n      <td>0.0</td>\n      <td>1.3091</td>\n      <td>1.3090</td>\n      <td>1.3001</td>\n    </tr>\n    <tr>\n      <th>2727</th>\n      <td>2022-09-02</td>\n      <td>1.3089</td>\n      <td>3.40</td>\n      <td>3.44</td>\n      <td>3.30</td>\n      <td>3.20</td>\n      <td>3.58</td>\n      <td>3.53</td>\n      <td>3.28</td>\n      <td>3.10</td>\n      <td>...</td>\n      <td>0.9801</td>\n      <td>129.7622</td>\n      <td>0</td>\n      <td>0.0</td>\n      <td>0.0</td>\n      <td>0.0</td>\n      <td>0.0</td>\n      <td>1.3160</td>\n      <td>1.3091</td>\n      <td>1.3090</td>\n    </tr>\n    <tr>\n      <th>2728</th>\n      <td>2022-09-06</td>\n      <td>1.3122</td>\n      <td>3.50</td>\n      <td>3.55</td>\n      <td>3.43</td>\n      <td>3.33</td>\n      <td>3.60</td>\n      <td>3.56</td>\n      <td>3.33</td>\n      <td>3.18</td>\n      <td>...</td>\n      <td>0.9839</td>\n      <td>130.7121</td>\n      <td>0</td>\n      <td>0.0</td>\n      <td>0.0</td>\n      <td>0.0</td>\n      <td>0.0</td>\n      <td>1.3089</td>\n      <td>1.3160</td>\n      <td>1.3091</td>\n    </tr>\n    <tr>\n      <th>2729</th>\n      <td>2022-09-07</td>\n      <td>1.3166</td>\n      <td>3.45</td>\n      <td>3.50</td>\n      <td>3.37</td>\n      <td>3.27</td>\n      <td>3.60</td>\n      <td>3.55</td>\n      <td>3.30</td>\n      <td>3.13</td>\n      <td>...</td>\n      <td>0.9808</td>\n      <td>130.7067</td>\n      <td>0</td>\n      <td>0.0</td>\n      <td>0.0</td>\n      <td>0.0</td>\n      <td>0.0</td>\n      <td>1.3122</td>\n      <td>1.3089</td>\n      <td>1.3160</td>\n    </tr>\n    <tr>\n      <th>2730</th>\n      <td>2022-09-07</td>\n      <td>1.3166</td>\n      <td>3.45</td>\n      <td>3.50</td>\n      <td>3.37</td>\n      <td>3.27</td>\n      <td>3.60</td>\n      <td>3.55</td>\n      <td>3.30</td>\n      <td>3.13</td>\n      <td>...</td>\n      <td>0.9808</td>\n      <td>130.7067</td>\n      <td>0</td>\n      <td>0.0</td>\n      <td>0.0</td>\n      <td>0.0</td>\n      <td>0.0</td>\n      <td>1.3166</td>\n      <td>1.3122</td>\n      <td>1.3089</td>\n    </tr>\n  </tbody>\n</table>\n<p>2731 rows × 78 columns</p>\n</div>"
     },
     "execution_count": 45,
     "metadata": {},
     "output_type": "execute_result"
    }
   ],
   "source": [
    "def create_lag_predictors(df: pd.DataFrame, n_lags: int, col_to_lag: str) -> pd.DataFrame:\n",
    "    for i in range(1, n_lags + 1):\n",
    "        df[f\"{col_to_lag}_lag_{i}\"] = df[col_to_lag].shift(i)\n",
    "    return df\n",
    "\n",
    "df_final = create_lag_predictors(df_final, 3, \"usd/cad\")\n",
    "df_final"
   ],
   "metadata": {
    "collapsed": false,
    "pycharm": {
     "name": "#%%\n"
    }
   }
  },
  {
   "cell_type": "code",
   "execution_count": 46,
   "outputs": [],
   "source": [
    "df_final.drop_duplicates(subset='date', keep='first', inplace=True)"
   ],
   "metadata": {
    "collapsed": false,
    "pycharm": {
     "name": "#%%\n"
    }
   }
  },
  {
   "cell_type": "code",
   "execution_count": 47,
   "outputs": [
    {
     "data": {
      "text/plain": "            date  usd/cad  DGS2  DGS3  DGS5  DGS10  cad_2y  cad_3y  cad_5y  \\\n0     2012-01-04   1.0134  0.25  0.40  0.89   2.00    0.97    1.01    1.30   \n1     2012-01-05   1.0197  0.27  0.40  0.88   2.02    0.96    1.00    1.29   \n2     2012-01-06   1.0231  0.25  0.40  0.86   1.98    0.93    0.97    1.25   \n4     2012-01-09   1.0272  0.26  0.38  0.85   1.98    0.94    0.98    1.26   \n5     2012-01-10   1.0161  0.24  0.37  0.86   2.00    0.97    1.00    1.29   \n...          ...      ...   ...   ...   ...    ...     ...     ...     ...   \n2725  2022-08-31   1.3091  3.45  3.46  3.30   3.15    3.64    3.59    3.34   \n2726  2022-09-01   1.3160  3.51  3.54  3.39   3.26    3.66    3.61    3.37   \n2727  2022-09-02   1.3089  3.40  3.44  3.30   3.20    3.58    3.53    3.28   \n2728  2022-09-06   1.3122  3.50  3.55  3.43   3.33    3.60    3.56    3.33   \n2729  2022-09-07   1.3166  3.45  3.50  3.37   3.27    3.60    3.55    3.30   \n\n      cad_10y  ...  dexszus  dtwexemegs  usrecd  eurorecd  jpnrecdp  \\\n0        1.99  ...   0.9417     97.5854       0       1.0       1.0   \n1        1.97  ...   0.9528     97.8533       0       1.0       1.0   \n2        1.94  ...   0.9555     97.8570       0       1.0       1.0   \n4        1.95  ...   0.9520     97.8951       0       1.0       1.0   \n5        1.98  ...   0.9486     97.3736       0       1.0       1.0   \n...       ...  ...      ...         ...     ...       ...       ...   \n2725     3.11  ...   0.9748    129.6976       0       0.0       0.0   \n2726     3.18  ...   0.9838    130.3210       0       0.0       0.0   \n2727     3.10  ...   0.9801    129.7622       0       0.0       0.0   \n2728     3.18  ...   0.9839    130.7121       0       0.0       0.0   \n2729     3.13  ...   0.9808    130.7067       0       0.0       0.0   \n\n      us_fed_sentiment  fed_speech_sentiment  usd/cad_lag_1  usd/cad_lag_2  \\\n0                  0.0                   0.0            NaN            NaN   \n1                  0.0                   0.0         1.0134            NaN   \n2                  0.0                   0.0         1.0197         1.0134   \n4                  0.0                   0.0         1.0231         1.0231   \n5                  0.0                   0.0         1.0272         1.0231   \n...                ...                   ...            ...            ...   \n2725               0.0                   0.0         1.3090         1.3001   \n2726               0.0                   0.0         1.3091         1.3090   \n2727               0.0                   0.0         1.3160         1.3091   \n2728               0.0                   0.0         1.3089         1.3160   \n2729               0.0                   0.0         1.3122         1.3089   \n\n      usd/cad_lag_3  \n0               NaN  \n1               NaN  \n2               NaN  \n4            1.0197  \n5            1.0231  \n...             ...  \n2725         1.3001  \n2726         1.3001  \n2727         1.3090  \n2728         1.3091  \n2729         1.3160  \n\n[2650 rows x 78 columns]",
      "text/html": "<div>\n<style scoped>\n    .dataframe tbody tr th:only-of-type {\n        vertical-align: middle;\n    }\n\n    .dataframe tbody tr th {\n        vertical-align: top;\n    }\n\n    .dataframe thead th {\n        text-align: right;\n    }\n</style>\n<table border=\"1\" class=\"dataframe\">\n  <thead>\n    <tr style=\"text-align: right;\">\n      <th></th>\n      <th>date</th>\n      <th>usd/cad</th>\n      <th>DGS2</th>\n      <th>DGS3</th>\n      <th>DGS5</th>\n      <th>DGS10</th>\n      <th>cad_2y</th>\n      <th>cad_3y</th>\n      <th>cad_5y</th>\n      <th>cad_10y</th>\n      <th>...</th>\n      <th>dexszus</th>\n      <th>dtwexemegs</th>\n      <th>usrecd</th>\n      <th>eurorecd</th>\n      <th>jpnrecdp</th>\n      <th>us_fed_sentiment</th>\n      <th>fed_speech_sentiment</th>\n      <th>usd/cad_lag_1</th>\n      <th>usd/cad_lag_2</th>\n      <th>usd/cad_lag_3</th>\n    </tr>\n  </thead>\n  <tbody>\n    <tr>\n      <th>0</th>\n      <td>2012-01-04</td>\n      <td>1.0134</td>\n      <td>0.25</td>\n      <td>0.40</td>\n      <td>0.89</td>\n      <td>2.00</td>\n      <td>0.97</td>\n      <td>1.01</td>\n      <td>1.30</td>\n      <td>1.99</td>\n      <td>...</td>\n      <td>0.9417</td>\n      <td>97.5854</td>\n      <td>0</td>\n      <td>1.0</td>\n      <td>1.0</td>\n      <td>0.0</td>\n      <td>0.0</td>\n      <td>NaN</td>\n      <td>NaN</td>\n      <td>NaN</td>\n    </tr>\n    <tr>\n      <th>1</th>\n      <td>2012-01-05</td>\n      <td>1.0197</td>\n      <td>0.27</td>\n      <td>0.40</td>\n      <td>0.88</td>\n      <td>2.02</td>\n      <td>0.96</td>\n      <td>1.00</td>\n      <td>1.29</td>\n      <td>1.97</td>\n      <td>...</td>\n      <td>0.9528</td>\n      <td>97.8533</td>\n      <td>0</td>\n      <td>1.0</td>\n      <td>1.0</td>\n      <td>0.0</td>\n      <td>0.0</td>\n      <td>1.0134</td>\n      <td>NaN</td>\n      <td>NaN</td>\n    </tr>\n    <tr>\n      <th>2</th>\n      <td>2012-01-06</td>\n      <td>1.0231</td>\n      <td>0.25</td>\n      <td>0.40</td>\n      <td>0.86</td>\n      <td>1.98</td>\n      <td>0.93</td>\n      <td>0.97</td>\n      <td>1.25</td>\n      <td>1.94</td>\n      <td>...</td>\n      <td>0.9555</td>\n      <td>97.8570</td>\n      <td>0</td>\n      <td>1.0</td>\n      <td>1.0</td>\n      <td>0.0</td>\n      <td>0.0</td>\n      <td>1.0197</td>\n      <td>1.0134</td>\n      <td>NaN</td>\n    </tr>\n    <tr>\n      <th>4</th>\n      <td>2012-01-09</td>\n      <td>1.0272</td>\n      <td>0.26</td>\n      <td>0.38</td>\n      <td>0.85</td>\n      <td>1.98</td>\n      <td>0.94</td>\n      <td>0.98</td>\n      <td>1.26</td>\n      <td>1.95</td>\n      <td>...</td>\n      <td>0.9520</td>\n      <td>97.8951</td>\n      <td>0</td>\n      <td>1.0</td>\n      <td>1.0</td>\n      <td>0.0</td>\n      <td>0.0</td>\n      <td>1.0231</td>\n      <td>1.0231</td>\n      <td>1.0197</td>\n    </tr>\n    <tr>\n      <th>5</th>\n      <td>2012-01-10</td>\n      <td>1.0161</td>\n      <td>0.24</td>\n      <td>0.37</td>\n      <td>0.86</td>\n      <td>2.00</td>\n      <td>0.97</td>\n      <td>1.00</td>\n      <td>1.29</td>\n      <td>1.98</td>\n      <td>...</td>\n      <td>0.9486</td>\n      <td>97.3736</td>\n      <td>0</td>\n      <td>1.0</td>\n      <td>1.0</td>\n      <td>0.0</td>\n      <td>0.0</td>\n      <td>1.0272</td>\n      <td>1.0231</td>\n      <td>1.0231</td>\n    </tr>\n    <tr>\n      <th>...</th>\n      <td>...</td>\n      <td>...</td>\n      <td>...</td>\n      <td>...</td>\n      <td>...</td>\n      <td>...</td>\n      <td>...</td>\n      <td>...</td>\n      <td>...</td>\n      <td>...</td>\n      <td>...</td>\n      <td>...</td>\n      <td>...</td>\n      <td>...</td>\n      <td>...</td>\n      <td>...</td>\n      <td>...</td>\n      <td>...</td>\n      <td>...</td>\n      <td>...</td>\n      <td>...</td>\n    </tr>\n    <tr>\n      <th>2725</th>\n      <td>2022-08-31</td>\n      <td>1.3091</td>\n      <td>3.45</td>\n      <td>3.46</td>\n      <td>3.30</td>\n      <td>3.15</td>\n      <td>3.64</td>\n      <td>3.59</td>\n      <td>3.34</td>\n      <td>3.11</td>\n      <td>...</td>\n      <td>0.9748</td>\n      <td>129.6976</td>\n      <td>0</td>\n      <td>0.0</td>\n      <td>0.0</td>\n      <td>0.0</td>\n      <td>0.0</td>\n      <td>1.3090</td>\n      <td>1.3001</td>\n      <td>1.3001</td>\n    </tr>\n    <tr>\n      <th>2726</th>\n      <td>2022-09-01</td>\n      <td>1.3160</td>\n      <td>3.51</td>\n      <td>3.54</td>\n      <td>3.39</td>\n      <td>3.26</td>\n      <td>3.66</td>\n      <td>3.61</td>\n      <td>3.37</td>\n      <td>3.18</td>\n      <td>...</td>\n      <td>0.9838</td>\n      <td>130.3210</td>\n      <td>0</td>\n      <td>0.0</td>\n      <td>0.0</td>\n      <td>0.0</td>\n      <td>0.0</td>\n      <td>1.3091</td>\n      <td>1.3090</td>\n      <td>1.3001</td>\n    </tr>\n    <tr>\n      <th>2727</th>\n      <td>2022-09-02</td>\n      <td>1.3089</td>\n      <td>3.40</td>\n      <td>3.44</td>\n      <td>3.30</td>\n      <td>3.20</td>\n      <td>3.58</td>\n      <td>3.53</td>\n      <td>3.28</td>\n      <td>3.10</td>\n      <td>...</td>\n      <td>0.9801</td>\n      <td>129.7622</td>\n      <td>0</td>\n      <td>0.0</td>\n      <td>0.0</td>\n      <td>0.0</td>\n      <td>0.0</td>\n      <td>1.3160</td>\n      <td>1.3091</td>\n      <td>1.3090</td>\n    </tr>\n    <tr>\n      <th>2728</th>\n      <td>2022-09-06</td>\n      <td>1.3122</td>\n      <td>3.50</td>\n      <td>3.55</td>\n      <td>3.43</td>\n      <td>3.33</td>\n      <td>3.60</td>\n      <td>3.56</td>\n      <td>3.33</td>\n      <td>3.18</td>\n      <td>...</td>\n      <td>0.9839</td>\n      <td>130.7121</td>\n      <td>0</td>\n      <td>0.0</td>\n      <td>0.0</td>\n      <td>0.0</td>\n      <td>0.0</td>\n      <td>1.3089</td>\n      <td>1.3160</td>\n      <td>1.3091</td>\n    </tr>\n    <tr>\n      <th>2729</th>\n      <td>2022-09-07</td>\n      <td>1.3166</td>\n      <td>3.45</td>\n      <td>3.50</td>\n      <td>3.37</td>\n      <td>3.27</td>\n      <td>3.60</td>\n      <td>3.55</td>\n      <td>3.30</td>\n      <td>3.13</td>\n      <td>...</td>\n      <td>0.9808</td>\n      <td>130.7067</td>\n      <td>0</td>\n      <td>0.0</td>\n      <td>0.0</td>\n      <td>0.0</td>\n      <td>0.0</td>\n      <td>1.3122</td>\n      <td>1.3089</td>\n      <td>1.3160</td>\n    </tr>\n  </tbody>\n</table>\n<p>2650 rows × 78 columns</p>\n</div>"
     },
     "execution_count": 47,
     "metadata": {},
     "output_type": "execute_result"
    }
   ],
   "source": [
    "df_final"
   ],
   "metadata": {
    "collapsed": false,
    "pycharm": {
     "name": "#%%\n"
    }
   }
  },
  {
   "cell_type": "code",
   "execution_count": 48,
   "outputs": [],
   "source": [
    "df_final.to_csv(f\"{PATH}final.csv\", index=False)"
   ],
   "metadata": {
    "collapsed": false,
    "pycharm": {
     "name": "#%%\n"
    }
   }
  },
  {
   "cell_type": "code",
   "execution_count": 48,
   "outputs": [],
   "source": [],
   "metadata": {
    "collapsed": false,
    "pycharm": {
     "name": "#%%\n"
    }
   }
  }
 ],
 "metadata": {
  "kernelspec": {
   "display_name": "Python 3",
   "language": "python",
   "name": "python3"
  },
  "language_info": {
   "codemirror_mode": {
    "name": "ipython",
    "version": 2
   },
   "file_extension": ".py",
   "mimetype": "text/x-python",
   "name": "python",
   "nbconvert_exporter": "python",
   "pygments_lexer": "ipython2",
   "version": "2.7.6"
  }
 },
 "nbformat": 4,
 "nbformat_minor": 0
}