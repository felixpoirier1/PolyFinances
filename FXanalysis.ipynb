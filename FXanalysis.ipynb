{
 "cells": [
  {
   "cell_type": "code",
   "execution_count": 53,
   "metadata": {
    "collapsed": true
   },
   "outputs": [],
   "source": [
    "import pandas as pd\n",
    "import matplotlib.pyplot as plt\n",
    "import numpy as np\n",
    "from scipy.stats import norm\n",
    "import scipy.integrate as integrate\n",
    "from scipy.stats import multivariate_normal"
   ]
  },
  {
   "cell_type": "code",
   "execution_count": 2,
   "outputs": [],
   "source": [
    "realizedVariance = pd.read_csv('data/realizedVariance.csv', index_col='DATE')"
   ],
   "metadata": {
    "collapsed": false,
    "pycharm": {
     "name": "#%%\n"
    }
   }
  },
  {
   "cell_type": "code",
   "execution_count": 9,
   "outputs": [
    {
     "data": {
      "text/plain": "<Figure size 432x288 with 1 Axes>",
      "image/png": "[encoded data removed]"
     },
     "metadata": {
      "needs_background": "light"
     },
     "output_type": "display_data"
    }
   ],
   "source": [
    "plt.hist(realizedVariance.DEXCAUS, bins=50)\n",
    "plt.show()"
   ],
   "metadata": {
    "collapsed": false,
    "pycharm": {
     "name": "#%%\n"
    }
   }
  },
  {
   "cell_type": "code",
   "execution_count": 57,
   "outputs": [],
   "source": [
    "def newB(y, B_prio, x = 1):\n",
    "    def B_post(b):\n",
    "        mu = np.sum(b * x)\n",
    "        return (1 - norm.cdf(y, loc=mu))*B_prio(b)\n",
    "    return B_post\n",
    "\n",
    "def B_priori(x):\n",
    "    return multivariate_normal.pdf(x, mean=0, cov=1)\n"
   ],
   "metadata": {
    "collapsed": false,
    "pycharm": {
     "name": "#%%\n"
    }
   }
  },
  {
   "cell_type": "code",
   "execution_count": 58,
   "outputs": [
    {
     "data": {
      "text/plain": "0.8750000000000001"
     },
     "execution_count": 58,
     "metadata": {},
     "output_type": "execute_result"
    }
   ],
   "source": [
    "integrate.quad(newB(y=0, B_prio=B_priori), -np.inf, np.inf)[0]\n",
    "\n",
    "integrate.quad(newB(y=0, B_prio=newB(y=0, B_prio=B_priori)), 0, np.inf)[0] / integrate.quad(newB(y=0, B_prio=newB(y=0, B_prio=B_priori)), -np.inf, np.inf)[0]\n"
   ],
   "metadata": {
    "collapsed": false,
    "pycharm": {
     "name": "#%%\n"
    }
   }
  },
  {
   "cell_type": "code",
   "execution_count": 182,
   "outputs": [
    {
     "data": {
      "text/plain": "array([0.1  , 0.106, 0.112, 0.118, 0.124, 0.13 , 0.136, 0.142, 0.148,\n       0.154, 0.16 , 0.166, 0.172, 0.178, 0.184, 0.19 , 0.196, 0.202,\n       0.208, 0.214, 0.22 , 0.226, 0.232, 0.238, 0.244, 0.25 , 0.256,\n       0.262, 0.268, 0.274, 0.28 , 0.286, 0.292, 0.298, 0.304, 0.31 ,\n       0.316, 0.322, 0.328, 0.334, 0.34 , 0.346, 0.352, 0.358, 0.364,\n       0.37 , 0.376, 0.382, 0.388, 0.394, 0.4  , 0.406, 0.412, 0.418,\n       0.424, 0.43 , 0.436, 0.442, 0.448, 0.454, 0.46 , 0.466, 0.472,\n       0.478, 0.484, 0.49 , 0.496, 0.502, 0.508, 0.514, 0.52 , 0.526,\n       0.532, 0.538, 0.544, 0.55 , 0.556, 0.562, 0.568, 0.574, 0.58 ,\n       0.586, 0.592, 0.598, 0.604, 0.61 , 0.616, 0.622, 0.628, 0.634,\n       0.64 , 0.646, 0.652, 0.658, 0.664, 0.67 , 0.676, 0.682, 0.688,\n       0.694, 0.7  , 0.706, 0.712, 0.718, 0.724, 0.73 , 0.736, 0.742,\n       0.748, 0.754, 0.76 , 0.766, 0.772, 0.778, 0.784, 0.79 , 0.796,\n       0.802, 0.808, 0.814, 0.82 , 0.826, 0.832, 0.838, 0.844, 0.85 ,\n       0.856, 0.862, 0.868, 0.874, 0.88 , 0.886, 0.892, 0.898, 0.904,\n       0.91 , 0.916, 0.922, 0.928, 0.934, 0.94 , 0.946, 0.952, 0.958,\n       0.964, 0.97 , 0.976, 0.982, 0.988, 0.994, 1.   , 1.006, 1.012,\n       1.018, 1.024, 1.03 , 1.036, 1.042, 1.048, 1.054, 1.06 , 1.066,\n       1.072, 1.078, 1.084, 1.09 , 1.096, 1.102, 1.108, 1.114, 1.12 ,\n       1.126, 1.132, 1.138, 1.144, 1.15 , 1.156, 1.162, 1.168, 1.174,\n       1.18 , 1.186, 1.192, 1.198, 1.204, 1.21 , 1.216, 1.222, 1.228,\n       1.234, 1.24 , 1.246, 1.252, 1.258, 1.264, 1.27 , 1.276, 1.282,\n       1.288, 1.294, 1.3  , 1.306, 1.312, 1.318, 1.324, 1.33 , 1.336,\n       1.342, 1.348, 1.354, 1.36 , 1.366, 1.372, 1.378, 1.384, 1.39 ,\n       1.396, 1.402, 1.408, 1.414, 1.42 , 1.426, 1.432, 1.438, 1.444,\n       1.45 , 1.456, 1.462, 1.468, 1.474, 1.48 , 1.486, 1.492, 1.498,\n       1.504, 1.51 , 1.516, 1.522, 1.528, 1.534, 1.54 , 1.546, 1.552,\n       1.558, 1.564, 1.57 , 1.576, 1.582, 1.588, 1.594, 1.6  , 1.606,\n       1.612, 1.618, 1.624, 1.63 , 1.636, 1.642, 1.648, 1.654, 1.66 ,\n       1.666, 1.672, 1.678, 1.684, 1.69 , 1.696, 1.702, 1.708, 1.714,\n       1.72 , 1.726, 1.732, 1.738, 1.744, 1.75 , 1.756, 1.762, 1.768,\n       1.774, 1.78 , 1.786, 1.792, 1.798, 1.804, 1.81 , 1.816, 1.822,\n       1.828, 1.834, 1.84 , 1.846, 1.852, 1.858, 1.864, 1.87 , 1.876,\n       1.882, 1.888, 1.894, 1.9  , 1.906, 1.912, 1.918, 1.924, 1.93 ,\n       1.936, 1.942, 1.948, 1.954, 1.96 , 1.966, 1.972, 1.978, 1.984,\n       1.99 , 1.996, 2.002, 2.008, 2.014, 2.02 , 2.026, 2.032, 2.038,\n       2.044, 2.05 , 2.056, 2.062, 2.068, 2.074, 2.08 , 2.086, 2.092,\n       2.098, 2.104, 2.11 , 2.116, 2.122, 2.128, 2.134, 2.14 , 2.146,\n       2.152, 2.158, 2.164, 2.17 , 2.176, 2.182, 2.188, 2.194, 2.2  ,\n       2.206, 2.212, 2.218, 2.224, 2.23 , 2.236, 2.242, 2.248, 2.254,\n       2.26 , 2.266, 2.272, 2.278, 2.284, 2.29 , 2.296, 2.302, 2.308,\n       2.314, 2.32 , 2.326, 2.332, 2.338, 2.344, 2.35 , 2.356, 2.362,\n       2.368, 2.374, 2.38 , 2.386, 2.392, 2.398, 2.404, 2.41 , 2.416,\n       2.422, 2.428, 2.434, 2.44 , 2.446, 2.452, 2.458, 2.464, 2.47 ,\n       2.476, 2.482, 2.488, 2.494, 2.5  , 2.506, 2.512, 2.518, 2.524,\n       2.53 , 2.536, 2.542, 2.548, 2.554, 2.56 , 2.566, 2.572, 2.578,\n       2.584, 2.59 , 2.596, 2.602, 2.608, 2.614, 2.62 , 2.626, 2.632,\n       2.638, 2.644, 2.65 , 2.656, 2.662, 2.668, 2.674, 2.68 , 2.686,\n       2.692, 2.698, 2.704, 2.71 , 2.716, 2.722, 2.728, 2.734, 2.74 ,\n       2.746, 2.752, 2.758, 2.764, 2.77 , 2.776, 2.782, 2.788, 2.794,\n       2.8  , 2.806, 2.812, 2.818, 2.824, 2.83 , 2.836, 2.842, 2.848,\n       2.854, 2.86 , 2.866, 2.872, 2.878, 2.884, 2.89 , 2.896, 2.902,\n       2.908, 2.914, 2.92 , 2.926, 2.932, 2.938, 2.944, 2.95 , 2.956,\n       2.962, 2.968, 2.974, 2.98 , 2.986, 2.992, 2.998, 3.004, 3.01 ,\n       3.016, 3.022, 3.028, 3.034, 3.04 , 3.046, 3.052, 3.058, 3.064,\n       3.07 , 3.076, 3.082, 3.088, 3.094, 3.1  , 3.106, 3.112, 3.118,\n       3.124, 3.13 , 3.136, 3.142, 3.148, 3.154, 3.16 , 3.166, 3.172,\n       3.178, 3.184, 3.19 , 3.196, 3.202, 3.208, 3.214, 3.22 , 3.226,\n       3.232, 3.238, 3.244, 3.25 , 3.256, 3.262, 3.268, 3.274, 3.28 ,\n       3.286, 3.292, 3.298, 3.304, 3.31 , 3.316, 3.322, 3.328, 3.334,\n       3.34 , 3.346, 3.352, 3.358, 3.364, 3.37 , 3.376, 3.382, 3.388,\n       3.394, 3.4  , 3.406, 3.412, 3.418, 3.424, 3.43 , 3.436, 3.442,\n       3.448, 3.454, 3.46 , 3.466, 3.472, 3.478, 3.484, 3.49 , 3.496,\n       3.502, 3.508, 3.514, 3.52 , 3.526, 3.532, 3.538, 3.544, 3.55 ,\n       3.556, 3.562, 3.568, 3.574, 3.58 , 3.586, 3.592, 3.598, 3.604,\n       3.61 , 3.616, 3.622, 3.628, 3.634, 3.64 , 3.646, 3.652, 3.658,\n       3.664, 3.67 , 3.676, 3.682, 3.688, 3.694, 3.7  , 3.706, 3.712,\n       3.718, 3.724, 3.73 , 3.736, 3.742, 3.748, 3.754, 3.76 , 3.766,\n       3.772, 3.778, 3.784, 3.79 , 3.796, 3.802, 3.808, 3.814, 3.82 ,\n       3.826, 3.832, 3.838, 3.844, 3.85 , 3.856, 3.862, 3.868, 3.874,\n       3.88 , 3.886, 3.892, 3.898, 3.904, 3.91 , 3.916, 3.922, 3.928,\n       3.934, 3.94 , 3.946, 3.952, 3.958, 3.964, 3.97 , 3.976, 3.982,\n       3.988, 3.994, 4.   , 4.006, 4.012, 4.018, 4.024, 4.03 , 4.036,\n       4.042, 4.048, 4.054, 4.06 , 4.066, 4.072, 4.078, 4.084, 4.09 ,\n       4.096, 4.102, 4.108, 4.114, 4.12 , 4.126, 4.132, 4.138, 4.144,\n       4.15 , 4.156, 4.162, 4.168, 4.174, 4.18 , 4.186, 4.192, 4.198,\n       4.204, 4.21 , 4.216, 4.222, 4.228, 4.234, 4.24 , 4.246, 4.252,\n       4.258, 4.264, 4.27 , 4.276, 4.282, 4.288, 4.294, 4.3  , 4.306,\n       4.312, 4.318, 4.324, 4.33 , 4.336, 4.342, 4.348, 4.354, 4.36 ,\n       4.366, 4.372, 4.378, 4.384, 4.39 , 4.396, 4.402, 4.408, 4.414,\n       4.42 , 4.426, 4.432, 4.438, 4.444, 4.45 , 4.456, 4.462, 4.468,\n       4.474, 4.48 , 4.486, 4.492, 4.498, 4.504, 4.51 , 4.516, 4.522,\n       4.528, 4.534, 4.54 , 4.546, 4.552, 4.558, 4.564, 4.57 , 4.576,\n       4.582, 4.588, 4.594, 4.6  , 4.606, 4.612, 4.618, 4.624, 4.63 ,\n       4.636, 4.642, 4.648, 4.654, 4.66 , 4.666, 4.672, 4.678, 4.684,\n       4.69 , 4.696, 4.702, 4.708, 4.714, 4.72 , 4.726, 4.732, 4.738,\n       4.744, 4.75 , 4.756, 4.762, 4.768, 4.774, 4.78 , 4.786, 4.792,\n       4.798, 4.804, 4.81 , 4.816, 4.822, 4.828, 4.834, 4.84 , 4.846,\n       4.852, 4.858, 4.864, 4.87 , 4.876, 4.882, 4.888, 4.894, 4.9  ,\n       4.906, 4.912, 4.918, 4.924, 4.93 , 4.936, 4.942, 4.948, 4.954,\n       4.96 , 4.966, 4.972, 4.978, 4.984, 4.99 , 4.996, 5.002, 5.008,\n       5.014, 5.02 , 5.026, 5.032, 5.038, 5.044, 5.05 , 5.056, 5.062,\n       5.068, 5.074, 5.08 , 5.086, 5.092, 5.098, 5.104, 5.11 , 5.116,\n       5.122, 5.128, 5.134, 5.14 , 5.146, 5.152, 5.158, 5.164, 5.17 ,\n       5.176, 5.182, 5.188, 5.194, 5.2  , 5.206, 5.212, 5.218, 5.224,\n       5.23 , 5.236, 5.242, 5.248, 5.254, 5.26 , 5.266, 5.272, 5.278,\n       5.284, 5.29 , 5.296, 5.302, 5.308, 5.314, 5.32 , 5.326, 5.332,\n       5.338, 5.344, 5.35 , 5.356, 5.362, 5.368, 5.374, 5.38 , 5.386,\n       5.392, 5.398, 5.404, 5.41 , 5.416, 5.422, 5.428, 5.434, 5.44 ,\n       5.446, 5.452, 5.458, 5.464, 5.47 , 5.476, 5.482, 5.488, 5.494,\n       5.5  , 5.506, 5.512, 5.518, 5.524, 5.53 , 5.536, 5.542, 5.548,\n       5.554, 5.56 , 5.566, 5.572, 5.578, 5.584, 5.59 , 5.596, 5.602,\n       5.608, 5.614, 5.62 , 5.626, 5.632, 5.638, 5.644, 5.65 , 5.656,\n       5.662, 5.668, 5.674, 5.68 , 5.686, 5.692, 5.698, 5.704, 5.71 ,\n       5.716, 5.722, 5.728, 5.734, 5.74 , 5.746, 5.752, 5.758, 5.764,\n       5.77 , 5.776, 5.782, 5.788, 5.794, 5.8  , 5.806, 5.812, 5.818,\n       5.824, 5.83 , 5.836, 5.842, 5.848, 5.854, 5.86 , 5.866, 5.872,\n       5.878, 5.884, 5.89 , 5.896, 5.902, 5.908, 5.914, 5.92 , 5.926,\n       5.932, 5.938, 5.944, 5.95 , 5.956, 5.962, 5.968, 5.974, 5.98 ,\n       5.986, 5.992, 5.998, 6.004, 6.01 , 6.016, 6.022, 6.028, 6.034,\n       6.04 , 6.046, 6.052, 6.058, 6.064, 6.07 , 6.076, 6.082, 6.088,\n       6.094])"
     },
     "execution_count": 182,
     "metadata": {},
     "output_type": "execute_result"
    }
   ],
   "source": [
    "x = np.arange(0, 10, 0.01)\n",
    "\n",
    "y = 0.1 + 0.6*x\n",
    "y"
   ],
   "metadata": {
    "collapsed": false,
    "pycharm": {
     "name": "#%%\n"
    }
   }
  },
  {
   "cell_type": "code",
   "execution_count": 286,
   "outputs": [],
   "source": [
    "def newB(y, B_prio, x = 1):\n",
    "    def B_post(b):\n",
    "        mu = np.sum(b * x)\n",
    "        return (1 - norm.cdf(y, loc=mu))*B_prio(b)\n",
    "    return B_post\n",
    "\n",
    "def B_priori(x):\n",
    "    return multivariate_normal.pdf(x, mean=[0, 0], cov=np.array([[1,0],\n",
    "                                                                 [0, 1]]))\n"
   ],
   "metadata": {
    "collapsed": false,
    "pycharm": {
     "name": "#%%\n"
    }
   }
  },
  {
   "cell_type": "code",
   "execution_count": 287,
   "outputs": [],
   "source": [
    "for idx in range(len(y)):\n",
    "    B_priori = newB(y=y[idx], B_prio=B_priori, x = np.array([1, x[idx]]))"
   ],
   "metadata": {
    "collapsed": false,
    "pycharm": {
     "name": "#%%\n"
    }
   }
  },
  {
   "cell_type": "code",
   "execution_count": 218,
   "outputs": [],
   "source": [
    "a = -1\n",
    "b = 1\n",
    "def integrate(g, *args):\n",
    "    n = len(args)\n",
    "    runif = np.random.random([1000, n])*(b-a) + a\n",
    "    g(runif)\n"
   ],
   "metadata": {
    "collapsed": false,
    "pycharm": {
     "name": "#%%\n"
    }
   }
  },
  {
   "cell_type": "code",
   "execution_count": 316,
   "outputs": [
    {
     "name": "stdout",
     "output_type": "stream",
     "text": [
      "[[-0.89070563  0.26512158]\n",
      " [ 0.40258798  0.65750664]\n",
      " [ 0.77684122  0.2683044 ]\n",
      " ...\n",
      " [ 1.87897302 -1.93624677]\n",
      " [-0.86086493 -1.44621067]\n",
      " [-0.04627702  0.73012729]]\n"
     ]
    },
    {
     "data": {
      "text/plain": "0.9129633831136335"
     },
     "execution_count": 316,
     "metadata": {},
     "output_type": "execute_result"
    }
   ],
   "source": [
    "a = -2\n",
    "b = 2\n",
    "runif = np.random.random([100000, 2])*(b-a) + a\n",
    "print(runif)\n",
    "np.mean(B_priori(runif)) * (b-a)**2\n",
    "\n",
    "# def integrate_B(x):\n",
    "#     return B_priori(x) / np.mean(B_priori(runif)) * (b-a)\n",
    "#\n",
    "# B_priori = integrate_B\n"
   ],
   "metadata": {
    "collapsed": false,
    "pycharm": {
     "name": "#%%\n"
    }
   }
  },
  {
   "cell_type": "code",
   "execution_count": 213,
   "outputs": [
    {
     "ename": "RecursionError",
     "evalue": "maximum recursion depth exceeded",
     "output_type": "error",
     "traceback": [
      "\u001B[0;31m---------------------------------------------------------------------------\u001B[0m",
      "\u001B[0;31mRecursionError\u001B[0m                            Traceback (most recent call last)",
      "Input \u001B[0;32mIn [213]\u001B[0m, in \u001B[0;36m<cell line: 1>\u001B[0;34m()\u001B[0m\n\u001B[0;32m----> 1\u001B[0m np\u001B[38;5;241m.\u001B[39mmean(\u001B[43mB_priori\u001B[49m\u001B[43m(\u001B[49m\u001B[43mrunif\u001B[49m\u001B[43m)\u001B[49m) \u001B[38;5;241m*\u001B[39m (b\u001B[38;5;241m-\u001B[39ma)\n",
      "Input \u001B[0;32mIn [211]\u001B[0m, in \u001B[0;36mintegrate_B\u001B[0;34m(x)\u001B[0m\n\u001B[1;32m      6\u001B[0m \u001B[38;5;28;01mdef\u001B[39;00m \u001B[38;5;21mintegrate_B\u001B[39m(x):\n\u001B[0;32m----> 7\u001B[0m     \u001B[38;5;28;01mreturn\u001B[39;00m \u001B[43mB_priori\u001B[49m\u001B[43m(\u001B[49m\u001B[43mx\u001B[49m\u001B[43m)\u001B[49m \u001B[38;5;241m/\u001B[39m np\u001B[38;5;241m.\u001B[39mmean(B_priori(runif)) \u001B[38;5;241m*\u001B[39m (b\u001B[38;5;241m-\u001B[39ma)\n",
      "Input \u001B[0;32mIn [211]\u001B[0m, in \u001B[0;36mintegrate_B\u001B[0;34m(x)\u001B[0m\n\u001B[1;32m      6\u001B[0m \u001B[38;5;28;01mdef\u001B[39;00m \u001B[38;5;21mintegrate_B\u001B[39m(x):\n\u001B[0;32m----> 7\u001B[0m     \u001B[38;5;28;01mreturn\u001B[39;00m \u001B[43mB_priori\u001B[49m\u001B[43m(\u001B[49m\u001B[43mx\u001B[49m\u001B[43m)\u001B[49m \u001B[38;5;241m/\u001B[39m np\u001B[38;5;241m.\u001B[39mmean(B_priori(runif)) \u001B[38;5;241m*\u001B[39m (b\u001B[38;5;241m-\u001B[39ma)\n",
      "    \u001B[0;31m[... skipping similar frames: integrate_B at line 7 (2970 times)]\u001B[0m\n",
      "Input \u001B[0;32mIn [211]\u001B[0m, in \u001B[0;36mintegrate_B\u001B[0;34m(x)\u001B[0m\n\u001B[1;32m      6\u001B[0m \u001B[38;5;28;01mdef\u001B[39;00m \u001B[38;5;21mintegrate_B\u001B[39m(x):\n\u001B[0;32m----> 7\u001B[0m     \u001B[38;5;28;01mreturn\u001B[39;00m \u001B[43mB_priori\u001B[49m\u001B[43m(\u001B[49m\u001B[43mx\u001B[49m\u001B[43m)\u001B[49m \u001B[38;5;241m/\u001B[39m np\u001B[38;5;241m.\u001B[39mmean(B_priori(runif)) \u001B[38;5;241m*\u001B[39m (b\u001B[38;5;241m-\u001B[39ma)\n",
      "\u001B[0;31mRecursionError\u001B[0m: maximum recursion depth exceeded"
     ]
    }
   ],
   "source": [
    "np.mean(B_priori(runif)) * (b-a)"
   ],
   "metadata": {
    "collapsed": false,
    "pycharm": {
     "name": "#%%\n"
    }
   }
  }
 ],
 "metadata": {
  "kernelspec": {
   "display_name": "Python 3",
   "language": "python",
   "name": "python3"
  },
  "language_info": {
   "codemirror_mode": {
    "name": "ipython",
    "version": 2
   },
   "file_extension": ".py",
   "mimetype": "text/x-python",
   "name": "python",
   "nbconvert_exporter": "python",
   "pygments_lexer": "ipython2",
   "version": "2.7.6"
  }
 },
 "nbformat": 4,
 "nbformat_minor": 0
}