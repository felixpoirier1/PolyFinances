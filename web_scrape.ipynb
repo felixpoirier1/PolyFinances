{
 "cells": [
  {
   "cell_type": "code",
   "execution_count": 34,
   "metadata": {},
   "outputs": [],
   "source": [
    "import pandas as pd\n",
    "import requests\n",
    "from bs4 import BeautifulSoup\n",
    "import bs4\n",
    "import datetime as dt"
   ]
  },
  {
   "cell_type": "code",
   "execution_count": 4,
   "metadata": {},
   "outputs": [],
   "source": [
    "url = 'https://www.bankofcanada.ca/press/press-releases/?location%5B%5D=1509&mtf_search=basis%20point'\n",
    "page = requests.get(url)\n",
    "soup = BeautifulSoup(page.content, 'html.parser')"
   ]
  },
  {
   "cell_type": "code",
   "execution_count": 8,
   "metadata": {},
   "outputs": [],
   "source": [
    "# get the id named multitaxonomytaglist-cfct-module-effbb0fd500f83b8ae3d9bc9fa5cbee4_results\n",
    "results = soup.find(id='multitaxonomytaglist-cfct-module-effbb0fd500f83b8ae3d9bc9fa5cbee4_results')"
   ]
  },
  {
   "cell_type": "code",
   "execution_count": 21,
   "metadata": {},
   "outputs": [],
   "source": [
    "import time"
   ]
  },
  {
   "cell_type": "code",
   "execution_count": 63,
   "metadata": {},
   "outputs": [],
   "source": [
    "can_statements  = {}\n",
    "for i in range(1, 10):\n",
    "    if i == 1:\n",
    "        url = 'https://www.bankofcanada.ca/press/press-releases/?location%5B%5D=1509&mtf_search=basis%20point'\n",
    "\n",
    "    else:\n",
    "        url = f'https://www.bankofcanada.ca/press/press-releases/?location%5B%5D=1509&mtf_search=basis%20point&mt_page={i}'\n",
    "    \n",
    "    page = requests.get(url)\n",
    "    soup = BeautifulSoup(page.content, 'html.parser')\n",
    "    results = soup.find(id='multitaxonomytaglist-cfct-module-effbb0fd500f83b8ae3d9bc9fa5cbee4_results')\n",
    "    for i in results:\n",
    "        if type(i) is not bs4.element.NavigableString:\n",
    "            try:\n",
    "                title = (i.find(class_='media-heading').text).strip()\n",
    "                can_statements[title] = {}\n",
    "\n",
    "                date = i.find(class_='bocss-margin-left-medium media-date pull-right').text\n",
    "                date = str(dt.datetime.strptime(date, '%B %d, %Y').date())\n",
    "                can_statements[title]['date'] = date\n",
    "\n",
    "                link = i.find('a')['href'].strip()\n",
    "                can_statements[title]['link'] = i.find('a')['href'].strip()\n",
    "\n",
    "                # parsing the link itself\n",
    "                time.sleep(0.5)\n",
    "                can_statements[title]['text'] = ''\n",
    "                statement = requests.get(link)\n",
    "                soup_ = BeautifulSoup(statement.content, 'html.parser')\n",
    "                text = soup_.find(class_='post-content')\n",
    "                for i in text:\n",
    "                    if type(i) is not bs4.element.NavigableString:\n",
    "                        if i.name == 'p':\n",
    "                            can_statements[title]['text'] += '\\n' + i.text\n",
    "                \n",
    "                can_statements[title]['text'] = can_statements[title]['text'].strip()\n",
    "            except:\n",
    "                pass\n",
    "    \n",
    "    \n",
    "    time.sleep(0.5)\n"
   ]
  },
  {
   "cell_type": "code",
   "execution_count": 77,
   "metadata": {},
   "outputs": [],
   "source": [
    "import json\n"
   ]
  },
  {
   "cell_type": "code",
   "execution_count": 80,
   "metadata": {},
   "outputs": [],
   "source": [
    "with open('data/dataset/can_statements.json', 'w') as fp:\n",
    "    json.dump(can_statements, fp,  indent=4)"
   ]
  },
  {
   "cell_type": "code",
   "execution_count": null,
   "metadata": {},
   "outputs": [],
   "source": []
  }
 ],
 "metadata": {
  "kernelspec": {
   "display_name": "Python 3.10.8 64-bit",
   "language": "python",
   "name": "python3"
  },
  "language_info": {
   "codemirror_mode": {
    "name": "ipython",
    "version": 3
   },
   "file_extension": ".py",
   "mimetype": "text/x-python",
   "name": "python",
   "nbconvert_exporter": "python",
   "pygments_lexer": "ipython3",
   "version": "3.10.8"
  },
  "orig_nbformat": 4,
  "vscode": {
   "interpreter": {
    "hash": "67e0cbc25fa4f5baaacba1240f401bc655b640f8e15cfc935dfee2e63491bdf4"
   }
  }
 },
 "nbformat": 4,
 "nbformat_minor": 2
}
